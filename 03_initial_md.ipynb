{
 "cells": [
  {
   "cell_type": "markdown",
   "metadata": {},
   "source": [
    "### Build some baseline models \n",
    "Refer to in this [reference](https://towardsdatascience.com/time-series-classification-for-human-activity-recognition-with-lstms-using-tensorflow-2-and-keras-b816431afdff)"
   ]
  },
  {
   "cell_type": "code",
   "execution_count": 37,
   "metadata": {},
   "outputs": [],
   "source": [
    "import numpy as np\n",
    "import pandas as pd\n",
    "# import matplotlib.pyplot as plt\n",
    "from sklearn.preprocessing import RobustScaler\n",
    "from scipy import stats\n",
    "from sklearn.preprocessing import OneHotEncoder\n",
    "import tensorflow as tf\n",
    "from tensorflow import keras"
   ]
  },
  {
   "cell_type": "markdown",
   "metadata": {},
   "source": [
    "#### Read in the datasets and scale them"
   ]
  },
  {
   "cell_type": "code",
   "execution_count": 3,
   "metadata": {},
   "outputs": [],
   "source": [
    "df_ms = pd.read_csv('./01_rawdata/raw_ms_all0926_df.csv') # read in the ms datasets\n",
    "df_wd = pd.read_csv('./01_rawdata/raw_wisdm0926_df.csv')  # read in the wisdm datasets"
   ]
  },
  {
   "cell_type": "code",
   "execution_count": 4,
   "metadata": {},
   "outputs": [
    {
     "data": {
      "text/html": [
       "<div>\n",
       "<style scoped>\n",
       "    .dataframe tbody tr th:only-of-type {\n",
       "        vertical-align: middle;\n",
       "    }\n",
       "\n",
       "    .dataframe tbody tr th {\n",
       "        vertical-align: top;\n",
       "    }\n",
       "\n",
       "    .dataframe thead th {\n",
       "        text-align: right;\n",
       "    }\n",
       "</style>\n",
       "<table border=\"1\" class=\"dataframe\">\n",
       "  <thead>\n",
       "    <tr style=\"text-align: right;\">\n",
       "      <th></th>\n",
       "      <th>user_id</th>\n",
       "      <th>activity</th>\n",
       "      <th>timestamp</th>\n",
       "      <th>x_axis</th>\n",
       "      <th>y_axis</th>\n",
       "      <th>z_axis</th>\n",
       "    </tr>\n",
       "  </thead>\n",
       "  <tbody>\n",
       "    <tr>\n",
       "      <th>0</th>\n",
       "      <td>33</td>\n",
       "      <td>Jogging</td>\n",
       "      <td>49105962326000</td>\n",
       "      <td>-0.694638</td>\n",
       "      <td>12.680544</td>\n",
       "      <td>0.503953</td>\n",
       "    </tr>\n",
       "    <tr>\n",
       "      <th>1</th>\n",
       "      <td>33</td>\n",
       "      <td>Jogging</td>\n",
       "      <td>49106062271000</td>\n",
       "      <td>5.012288</td>\n",
       "      <td>11.264028</td>\n",
       "      <td>0.953424</td>\n",
       "    </tr>\n",
       "  </tbody>\n",
       "</table>\n",
       "</div>"
      ],
      "text/plain": [
       "   user_id activity       timestamp    x_axis     y_axis    z_axis\n",
       "0       33  Jogging  49105962326000 -0.694638  12.680544  0.503953\n",
       "1       33  Jogging  49106062271000  5.012288  11.264028  0.953424"
      ]
     },
     "execution_count": 4,
     "metadata": {},
     "output_type": "execute_result"
    }
   ],
   "source": [
    "df_wd.head(2)"
   ]
  },
  {
   "cell_type": "code",
   "execution_count": 5,
   "metadata": {},
   "outputs": [
    {
     "data": {
      "text/html": [
       "<div>\n",
       "<style scoped>\n",
       "    .dataframe tbody tr th:only-of-type {\n",
       "        vertical-align: middle;\n",
       "    }\n",
       "\n",
       "    .dataframe tbody tr th {\n",
       "        vertical-align: top;\n",
       "    }\n",
       "\n",
       "    .dataframe thead th {\n",
       "        text-align: right;\n",
       "    }\n",
       "</style>\n",
       "<table border=\"1\" class=\"dataframe\">\n",
       "  <thead>\n",
       "    <tr style=\"text-align: right;\">\n",
       "      <th></th>\n",
       "      <th>attitude.roll</th>\n",
       "      <th>attitude.pitch</th>\n",
       "      <th>attitude.yaw</th>\n",
       "      <th>gravity.x</th>\n",
       "      <th>gravity.y</th>\n",
       "      <th>gravity.z</th>\n",
       "      <th>rotationRate.x</th>\n",
       "      <th>rotationRate.y</th>\n",
       "      <th>rotationRate.z</th>\n",
       "      <th>userAcceleration.x</th>\n",
       "      <th>...</th>\n",
       "      <th>weight</th>\n",
       "      <th>height</th>\n",
       "      <th>age</th>\n",
       "      <th>gender</th>\n",
       "      <th>trial</th>\n",
       "      <th>x_axis</th>\n",
       "      <th>y_axis</th>\n",
       "      <th>z_axis</th>\n",
       "      <th>user_id</th>\n",
       "      <th>activity</th>\n",
       "    </tr>\n",
       "  </thead>\n",
       "  <tbody>\n",
       "    <tr>\n",
       "      <th>0</th>\n",
       "      <td>1.528132</td>\n",
       "      <td>-0.733896</td>\n",
       "      <td>0.696372</td>\n",
       "      <td>0.741895</td>\n",
       "      <td>0.669768</td>\n",
       "      <td>-0.031672</td>\n",
       "      <td>0.316738</td>\n",
       "      <td>0.778180</td>\n",
       "      <td>1.082764</td>\n",
       "      <td>0.294894</td>\n",
       "      <td>...</td>\n",
       "      <td>102.0</td>\n",
       "      <td>188.0</td>\n",
       "      <td>46.0</td>\n",
       "      <td>1.0</td>\n",
       "      <td>1.0</td>\n",
       "      <td>1.036789</td>\n",
       "      <td>0.485275</td>\n",
       "      <td>0.345870</td>\n",
       "      <td>50.0</td>\n",
       "      <td>Downstairs</td>\n",
       "    </tr>\n",
       "    <tr>\n",
       "      <th>1</th>\n",
       "      <td>1.527992</td>\n",
       "      <td>-0.716987</td>\n",
       "      <td>0.677762</td>\n",
       "      <td>0.753099</td>\n",
       "      <td>0.657116</td>\n",
       "      <td>-0.032255</td>\n",
       "      <td>0.842032</td>\n",
       "      <td>0.424446</td>\n",
       "      <td>0.643574</td>\n",
       "      <td>0.219405</td>\n",
       "      <td>...</td>\n",
       "      <td>102.0</td>\n",
       "      <td>188.0</td>\n",
       "      <td>46.0</td>\n",
       "      <td>1.0</td>\n",
       "      <td>1.0</td>\n",
       "      <td>0.972504</td>\n",
       "      <td>0.692962</td>\n",
       "      <td>0.082611</td>\n",
       "      <td>50.0</td>\n",
       "      <td>Downstairs</td>\n",
       "    </tr>\n",
       "  </tbody>\n",
       "</table>\n",
       "<p>2 rows × 22 columns</p>\n",
       "</div>"
      ],
      "text/plain": [
       "   attitude.roll  attitude.pitch  attitude.yaw  gravity.x  gravity.y  \\\n",
       "0       1.528132       -0.733896      0.696372   0.741895   0.669768   \n",
       "1       1.527992       -0.716987      0.677762   0.753099   0.657116   \n",
       "\n",
       "   gravity.z  rotationRate.x  rotationRate.y  rotationRate.z  \\\n",
       "0  -0.031672        0.316738        0.778180        1.082764   \n",
       "1  -0.032255        0.842032        0.424446        0.643574   \n",
       "\n",
       "   userAcceleration.x  ...  weight  height   age  gender  trial    x_axis  \\\n",
       "0            0.294894  ...   102.0   188.0  46.0     1.0    1.0  1.036789   \n",
       "1            0.219405  ...   102.0   188.0  46.0     1.0    1.0  0.972504   \n",
       "\n",
       "     y_axis    z_axis  user_id    activity  \n",
       "0  0.485275  0.345870     50.0  Downstairs  \n",
       "1  0.692962  0.082611     50.0  Downstairs  \n",
       "\n",
       "[2 rows x 22 columns]"
      ]
     },
     "execution_count": 5,
     "metadata": {},
     "output_type": "execute_result"
    }
   ],
   "source": [
    "df_ms.head(2) # The MS (iPhones) datasets had more features than the WIDSM (Android phones) datasets"
   ]
  },
  {
   "cell_type": "code",
   "execution_count": 6,
   "metadata": {},
   "outputs": [],
   "source": [
    "# Splitting training and testing by users\n",
    "df_wd_train = df_wd[df_wd['user_id'] <= 30]\n",
    "df_wd_test = df_wd[df_wd['user_id'] > 30]\n",
    "df_ms_train = df_ms[df_ms['user_id'] <= 66]\n",
    "df_ms_test = df_ms[df_ms['user_id'] > 66]"
   ]
  },
  {
   "cell_type": "code",
   "execution_count": 7,
   "metadata": {},
   "outputs": [
    {
     "name": "stdout",
     "output_type": "stream",
     "text": [
      "(898360, 6) (199843, 6) (992434, 22) (420431, 22)\n"
     ]
    }
   ],
   "source": [
    "print(df_wd_train.shape, df_wd_test.shape, df_ms_train.shape, df_ms_test.shape)"
   ]
  },
  {
   "cell_type": "code",
   "execution_count": 8,
   "metadata": {},
   "outputs": [
    {
     "data": {
      "text/html": [
       "<div>\n",
       "<style scoped>\n",
       "    .dataframe tbody tr th:only-of-type {\n",
       "        vertical-align: middle;\n",
       "    }\n",
       "\n",
       "    .dataframe tbody tr th {\n",
       "        vertical-align: top;\n",
       "    }\n",
       "\n",
       "    .dataframe thead th {\n",
       "        text-align: right;\n",
       "    }\n",
       "</style>\n",
       "<table border=\"1\" class=\"dataframe\">\n",
       "  <thead>\n",
       "    <tr style=\"text-align: right;\">\n",
       "      <th></th>\n",
       "      <th>user_id</th>\n",
       "      <th>activity</th>\n",
       "      <th>timestamp</th>\n",
       "      <th>x_axis</th>\n",
       "      <th>y_axis</th>\n",
       "      <th>z_axis</th>\n",
       "    </tr>\n",
       "  </thead>\n",
       "  <tbody>\n",
       "    <tr>\n",
       "      <th>8489</th>\n",
       "      <td>17</td>\n",
       "      <td>Walking</td>\n",
       "      <td>57869902574000</td>\n",
       "      <td>0.572055</td>\n",
       "      <td>9.806650</td>\n",
       "      <td>-0.531194</td>\n",
       "    </tr>\n",
       "    <tr>\n",
       "      <th>8490</th>\n",
       "      <td>17</td>\n",
       "      <td>Walking</td>\n",
       "      <td>57870012316000</td>\n",
       "      <td>-0.000000</td>\n",
       "      <td>10.188020</td>\n",
       "      <td>-0.572055</td>\n",
       "    </tr>\n",
       "    <tr>\n",
       "      <th>8491</th>\n",
       "      <td>17</td>\n",
       "      <td>Walking</td>\n",
       "      <td>57870122301000</td>\n",
       "      <td>-0.231546</td>\n",
       "      <td>9.847511</td>\n",
       "      <td>-0.694638</td>\n",
       "    </tr>\n",
       "    <tr>\n",
       "      <th>8492</th>\n",
       "      <td>17</td>\n",
       "      <td>Walking</td>\n",
       "      <td>57870222246000</td>\n",
       "      <td>0.149824</td>\n",
       "      <td>10.079058</td>\n",
       "      <td>-0.503953</td>\n",
       "    </tr>\n",
       "    <tr>\n",
       "      <th>8493</th>\n",
       "      <td>17</td>\n",
       "      <td>Walking</td>\n",
       "      <td>57870332292000</td>\n",
       "      <td>0.149824</td>\n",
       "      <td>10.147159</td>\n",
       "      <td>-0.612916</td>\n",
       "    </tr>\n",
       "  </tbody>\n",
       "</table>\n",
       "</div>"
      ],
      "text/plain": [
       "      user_id activity       timestamp    x_axis     y_axis    z_axis\n",
       "8489       17  Walking  57869902574000  0.572055   9.806650 -0.531194\n",
       "8490       17  Walking  57870012316000 -0.000000  10.188020 -0.572055\n",
       "8491       17  Walking  57870122301000 -0.231546   9.847511 -0.694638\n",
       "8492       17  Walking  57870222246000  0.149824  10.079058 -0.503953\n",
       "8493       17  Walking  57870332292000  0.149824  10.147159 -0.612916"
      ]
     },
     "execution_count": 8,
     "metadata": {},
     "output_type": "execute_result"
    }
   ],
   "source": [
    "df_wd_train.head()"
   ]
  },
  {
   "cell_type": "code",
   "execution_count": 9,
   "metadata": {},
   "outputs": [
    {
     "data": {
      "text/html": [
       "<div>\n",
       "<style scoped>\n",
       "    .dataframe tbody tr th:only-of-type {\n",
       "        vertical-align: middle;\n",
       "    }\n",
       "\n",
       "    .dataframe tbody tr th {\n",
       "        vertical-align: top;\n",
       "    }\n",
       "\n",
       "    .dataframe thead th {\n",
       "        text-align: right;\n",
       "    }\n",
       "</style>\n",
       "<table border=\"1\" class=\"dataframe\">\n",
       "  <thead>\n",
       "    <tr style=\"text-align: right;\">\n",
       "      <th></th>\n",
       "      <th>user_id</th>\n",
       "      <th>activity</th>\n",
       "      <th>timestamp</th>\n",
       "      <th>x_axis</th>\n",
       "      <th>y_axis</th>\n",
       "      <th>z_axis</th>\n",
       "    </tr>\n",
       "  </thead>\n",
       "  <tbody>\n",
       "    <tr>\n",
       "      <th>0</th>\n",
       "      <td>33</td>\n",
       "      <td>Jogging</td>\n",
       "      <td>49105962326000</td>\n",
       "      <td>-0.694638</td>\n",
       "      <td>12.680544</td>\n",
       "      <td>0.503953</td>\n",
       "    </tr>\n",
       "    <tr>\n",
       "      <th>1</th>\n",
       "      <td>33</td>\n",
       "      <td>Jogging</td>\n",
       "      <td>49106062271000</td>\n",
       "      <td>5.012288</td>\n",
       "      <td>11.264028</td>\n",
       "      <td>0.953424</td>\n",
       "    </tr>\n",
       "    <tr>\n",
       "      <th>2</th>\n",
       "      <td>33</td>\n",
       "      <td>Jogging</td>\n",
       "      <td>49106112167000</td>\n",
       "      <td>4.903325</td>\n",
       "      <td>10.882658</td>\n",
       "      <td>-0.081722</td>\n",
       "    </tr>\n",
       "    <tr>\n",
       "      <th>3</th>\n",
       "      <td>33</td>\n",
       "      <td>Jogging</td>\n",
       "      <td>49106222305000</td>\n",
       "      <td>-0.612916</td>\n",
       "      <td>18.496431</td>\n",
       "      <td>3.023717</td>\n",
       "    </tr>\n",
       "    <tr>\n",
       "      <th>4</th>\n",
       "      <td>33</td>\n",
       "      <td>Jogging</td>\n",
       "      <td>49106332290000</td>\n",
       "      <td>-1.184970</td>\n",
       "      <td>12.108489</td>\n",
       "      <td>7.205164</td>\n",
       "    </tr>\n",
       "  </tbody>\n",
       "</table>\n",
       "</div>"
      ],
      "text/plain": [
       "   user_id activity       timestamp    x_axis     y_axis    z_axis\n",
       "0       33  Jogging  49105962326000 -0.694638  12.680544  0.503953\n",
       "1       33  Jogging  49106062271000  5.012288  11.264028  0.953424\n",
       "2       33  Jogging  49106112167000  4.903325  10.882658 -0.081722\n",
       "3       33  Jogging  49106222305000 -0.612916  18.496431  3.023717\n",
       "4       33  Jogging  49106332290000 -1.184970  12.108489  7.205164"
      ]
     },
     "execution_count": 9,
     "metadata": {},
     "output_type": "execute_result"
    }
   ],
   "source": [
    "df_wd_test.head()"
   ]
  },
  {
   "cell_type": "code",
   "execution_count": 10,
   "metadata": {},
   "outputs": [],
   "source": [
    "#define a function to scale the features for building the models\n",
    "def robustscale_data(df_train,df_test,cols,scaler=RobustScaler()):\n",
    "    scale_columns = cols\n",
    "    scaler = scaler.fit(df_train[scale_columns])\n",
    "    df_train.loc[:, scale_columns] = scaler.transform(df_train[scale_columns].to_numpy())\n",
    "    df_test.loc[:, scale_columns] = scaler.transform(df_test[scale_columns].to_numpy())\n",
    "    return df_train,df_test"
   ]
  },
  {
   "cell_type": "code",
   "execution_count": 11,
   "metadata": {},
   "outputs": [
    {
     "name": "stderr",
     "output_type": "stream",
     "text": [
      "C:\\Users\\fuzha\\anaconda3\\envs\\proj\\lib\\site-packages\\pandas\\core\\indexing.py:1736: SettingWithCopyWarning: \n",
      "A value is trying to be set on a copy of a slice from a DataFrame.\n",
      "Try using .loc[row_indexer,col_indexer] = value instead\n",
      "\n",
      "See the caveats in the documentation: https://pandas.pydata.org/pandas-docs/stable/user_guide/indexing.html#returning-a-view-versus-a-copy\n",
      "  isetter(loc, value[:, i].tolist())\n",
      "C:\\Users\\fuzha\\anaconda3\\envs\\proj\\lib\\site-packages\\pandas\\core\\indexing.py:1736: SettingWithCopyWarning: \n",
      "A value is trying to be set on a copy of a slice from a DataFrame.\n",
      "Try using .loc[row_indexer,col_indexer] = value instead\n",
      "\n",
      "See the caveats in the documentation: https://pandas.pydata.org/pandas-docs/stable/user_guide/indexing.html#returning-a-view-versus-a-copy\n",
      "  isetter(loc, value[:, i].tolist())\n"
     ]
    }
   ],
   "source": [
    "# scale the acceleration in the WISDM datasets\n",
    "df_wd_train,df_wd_test = robustscale_data(df_wd_train,df_wd_test,['x_axis', 'y_axis', 'z_axis'])"
   ]
  },
  {
   "cell_type": "code",
   "execution_count": 12,
   "metadata": {},
   "outputs": [
    {
     "data": {
      "text/html": [
       "<div>\n",
       "<style scoped>\n",
       "    .dataframe tbody tr th:only-of-type {\n",
       "        vertical-align: middle;\n",
       "    }\n",
       "\n",
       "    .dataframe tbody tr th {\n",
       "        vertical-align: top;\n",
       "    }\n",
       "\n",
       "    .dataframe thead th {\n",
       "        text-align: right;\n",
       "    }\n",
       "</style>\n",
       "<table border=\"1\" class=\"dataframe\">\n",
       "  <thead>\n",
       "    <tr style=\"text-align: right;\">\n",
       "      <th></th>\n",
       "      <th>user_id</th>\n",
       "      <th>activity</th>\n",
       "      <th>timestamp</th>\n",
       "      <th>x_axis</th>\n",
       "      <th>y_axis</th>\n",
       "      <th>z_axis</th>\n",
       "    </tr>\n",
       "  </thead>\n",
       "  <tbody>\n",
       "    <tr>\n",
       "      <th>8489</th>\n",
       "      <td>17</td>\n",
       "      <td>Walking</td>\n",
       "      <td>57869902574000</td>\n",
       "      <td>0.019955</td>\n",
       "      <td>0.252293</td>\n",
       "      <td>-0.090959</td>\n",
       "    </tr>\n",
       "    <tr>\n",
       "      <th>8490</th>\n",
       "      <td>17</td>\n",
       "      <td>Walking</td>\n",
       "      <td>57870012316000</td>\n",
       "      <td>-0.055118</td>\n",
       "      <td>0.297966</td>\n",
       "      <td>-0.099228</td>\n",
       "    </tr>\n",
       "    <tr>\n",
       "      <th>8491</th>\n",
       "      <td>17</td>\n",
       "      <td>Walking</td>\n",
       "      <td>57870122301000</td>\n",
       "      <td>-0.085505</td>\n",
       "      <td>0.257187</td>\n",
       "      <td>-0.124035</td>\n",
       "    </tr>\n",
       "    <tr>\n",
       "      <th>8492</th>\n",
       "      <td>17</td>\n",
       "      <td>Walking</td>\n",
       "      <td>57870222246000</td>\n",
       "      <td>-0.035456</td>\n",
       "      <td>0.284917</td>\n",
       "      <td>-0.085446</td>\n",
       "    </tr>\n",
       "    <tr>\n",
       "      <th>8493</th>\n",
       "      <td>17</td>\n",
       "      <td>Walking</td>\n",
       "      <td>57870332292000</td>\n",
       "      <td>-0.035456</td>\n",
       "      <td>0.293073</td>\n",
       "      <td>-0.107497</td>\n",
       "    </tr>\n",
       "  </tbody>\n",
       "</table>\n",
       "</div>"
      ],
      "text/plain": [
       "      user_id activity       timestamp    x_axis    y_axis    z_axis\n",
       "8489       17  Walking  57869902574000  0.019955  0.252293 -0.090959\n",
       "8490       17  Walking  57870012316000 -0.055118  0.297966 -0.099228\n",
       "8491       17  Walking  57870122301000 -0.085505  0.257187 -0.124035\n",
       "8492       17  Walking  57870222246000 -0.035456  0.284917 -0.085446\n",
       "8493       17  Walking  57870332292000 -0.035456  0.293073 -0.107497"
      ]
     },
     "execution_count": 12,
     "metadata": {},
     "output_type": "execute_result"
    }
   ],
   "source": [
    "df_wd_train.head()"
   ]
  },
  {
   "cell_type": "code",
   "execution_count": 13,
   "metadata": {},
   "outputs": [
    {
     "data": {
      "text/html": [
       "<div>\n",
       "<style scoped>\n",
       "    .dataframe tbody tr th:only-of-type {\n",
       "        vertical-align: middle;\n",
       "    }\n",
       "\n",
       "    .dataframe tbody tr th {\n",
       "        vertical-align: top;\n",
       "    }\n",
       "\n",
       "    .dataframe thead th {\n",
       "        text-align: right;\n",
       "    }\n",
       "</style>\n",
       "<table border=\"1\" class=\"dataframe\">\n",
       "  <thead>\n",
       "    <tr style=\"text-align: right;\">\n",
       "      <th></th>\n",
       "      <th>user_id</th>\n",
       "      <th>activity</th>\n",
       "      <th>timestamp</th>\n",
       "      <th>x_axis</th>\n",
       "      <th>y_axis</th>\n",
       "      <th>z_axis</th>\n",
       "    </tr>\n",
       "  </thead>\n",
       "  <tbody>\n",
       "    <tr>\n",
       "      <th>0</th>\n",
       "      <td>33</td>\n",
       "      <td>Jogging</td>\n",
       "      <td>49105962326000</td>\n",
       "      <td>-0.146278</td>\n",
       "      <td>0.596472</td>\n",
       "      <td>0.118522</td>\n",
       "    </tr>\n",
       "    <tr>\n",
       "      <th>1</th>\n",
       "      <td>33</td>\n",
       "      <td>Jogging</td>\n",
       "      <td>49106062271000</td>\n",
       "      <td>0.602662</td>\n",
       "      <td>0.426830</td>\n",
       "      <td>0.209481</td>\n",
       "    </tr>\n",
       "    <tr>\n",
       "      <th>2</th>\n",
       "      <td>33</td>\n",
       "      <td>Jogging</td>\n",
       "      <td>49106112167000</td>\n",
       "      <td>0.588363</td>\n",
       "      <td>0.381157</td>\n",
       "      <td>0.000000</td>\n",
       "    </tr>\n",
       "    <tr>\n",
       "      <th>3</th>\n",
       "      <td>33</td>\n",
       "      <td>Jogging</td>\n",
       "      <td>49106222305000</td>\n",
       "      <td>-0.135553</td>\n",
       "      <td>1.292986</td>\n",
       "      <td>0.628442</td>\n",
       "    </tr>\n",
       "    <tr>\n",
       "      <th>4</th>\n",
       "      <td>33</td>\n",
       "      <td>Jogging</td>\n",
       "      <td>49106332290000</td>\n",
       "      <td>-0.210626</td>\n",
       "      <td>0.527963</td>\n",
       "      <td>1.474634</td>\n",
       "    </tr>\n",
       "  </tbody>\n",
       "</table>\n",
       "</div>"
      ],
      "text/plain": [
       "   user_id activity       timestamp    x_axis    y_axis    z_axis\n",
       "0       33  Jogging  49105962326000 -0.146278  0.596472  0.118522\n",
       "1       33  Jogging  49106062271000  0.602662  0.426830  0.209481\n",
       "2       33  Jogging  49106112167000  0.588363  0.381157  0.000000\n",
       "3       33  Jogging  49106222305000 -0.135553  1.292986  0.628442\n",
       "4       33  Jogging  49106332290000 -0.210626  0.527963  1.474634"
      ]
     },
     "execution_count": 13,
     "metadata": {},
     "output_type": "execute_result"
    }
   ],
   "source": [
    "df_wd_test.head()"
   ]
  },
  {
   "cell_type": "code",
   "execution_count": 14,
   "metadata": {},
   "outputs": [
    {
     "data": {
      "text/html": [
       "<div>\n",
       "<style scoped>\n",
       "    .dataframe tbody tr th:only-of-type {\n",
       "        vertical-align: middle;\n",
       "    }\n",
       "\n",
       "    .dataframe tbody tr th {\n",
       "        vertical-align: top;\n",
       "    }\n",
       "\n",
       "    .dataframe thead th {\n",
       "        text-align: right;\n",
       "    }\n",
       "</style>\n",
       "<table border=\"1\" class=\"dataframe\">\n",
       "  <thead>\n",
       "    <tr style=\"text-align: right;\">\n",
       "      <th></th>\n",
       "      <th>x_axis</th>\n",
       "      <th>y_axis</th>\n",
       "      <th>z_axis</th>\n",
       "    </tr>\n",
       "  </thead>\n",
       "  <tbody>\n",
       "    <tr>\n",
       "      <th>0</th>\n",
       "      <td>1.036789</td>\n",
       "      <td>0.485275</td>\n",
       "      <td>0.345870</td>\n",
       "    </tr>\n",
       "    <tr>\n",
       "      <th>1</th>\n",
       "      <td>0.972504</td>\n",
       "      <td>0.692962</td>\n",
       "      <td>0.082611</td>\n",
       "    </tr>\n",
       "    <tr>\n",
       "      <th>2</th>\n",
       "      <td>0.770325</td>\n",
       "      <td>0.784256</td>\n",
       "      <td>-0.200515</td>\n",
       "    </tr>\n",
       "  </tbody>\n",
       "</table>\n",
       "</div>"
      ],
      "text/plain": [
       "     x_axis    y_axis    z_axis\n",
       "0  1.036789  0.485275  0.345870\n",
       "1  0.972504  0.692962  0.082611\n",
       "2  0.770325  0.784256 -0.200515"
      ]
     },
     "execution_count": 14,
     "metadata": {},
     "output_type": "execute_result"
    }
   ],
   "source": [
    "df_ms_train[['x_axis', 'y_axis', 'z_axis']].head(3)"
   ]
  },
  {
   "cell_type": "code",
   "execution_count": 15,
   "metadata": {},
   "outputs": [
    {
     "data": {
      "text/html": [
       "<div>\n",
       "<style scoped>\n",
       "    .dataframe tbody tr th:only-of-type {\n",
       "        vertical-align: middle;\n",
       "    }\n",
       "\n",
       "    .dataframe tbody tr th {\n",
       "        vertical-align: top;\n",
       "    }\n",
       "\n",
       "    .dataframe thead th {\n",
       "        text-align: right;\n",
       "    }\n",
       "</style>\n",
       "<table border=\"1\" class=\"dataframe\">\n",
       "  <thead>\n",
       "    <tr style=\"text-align: right;\">\n",
       "      <th></th>\n",
       "      <th>x_axis</th>\n",
       "      <th>y_axis</th>\n",
       "      <th>z_axis</th>\n",
       "    </tr>\n",
       "  </thead>\n",
       "  <tbody>\n",
       "    <tr>\n",
       "      <th>992434</th>\n",
       "      <td>-0.084092</td>\n",
       "      <td>0.649170</td>\n",
       "      <td>-0.117401</td>\n",
       "    </tr>\n",
       "    <tr>\n",
       "      <th>992435</th>\n",
       "      <td>-0.069015</td>\n",
       "      <td>0.516800</td>\n",
       "      <td>-0.139694</td>\n",
       "    </tr>\n",
       "    <tr>\n",
       "      <th>992436</th>\n",
       "      <td>0.034592</td>\n",
       "      <td>0.494324</td>\n",
       "      <td>-0.192841</td>\n",
       "    </tr>\n",
       "  </tbody>\n",
       "</table>\n",
       "</div>"
      ],
      "text/plain": [
       "          x_axis    y_axis    z_axis\n",
       "992434 -0.084092  0.649170 -0.117401\n",
       "992435 -0.069015  0.516800 -0.139694\n",
       "992436  0.034592  0.494324 -0.192841"
      ]
     },
     "execution_count": 15,
     "metadata": {},
     "output_type": "execute_result"
    }
   ],
   "source": [
    "df_ms_test[['x_axis', 'y_axis', 'z_axis']].head(3)"
   ]
  },
  {
   "cell_type": "code",
   "execution_count": 16,
   "metadata": {},
   "outputs": [
    {
     "name": "stderr",
     "output_type": "stream",
     "text": [
      "C:\\Users\\fuzha\\anaconda3\\envs\\proj\\lib\\site-packages\\pandas\\core\\indexing.py:1736: SettingWithCopyWarning: \n",
      "A value is trying to be set on a copy of a slice from a DataFrame.\n",
      "Try using .loc[row_indexer,col_indexer] = value instead\n",
      "\n",
      "See the caveats in the documentation: https://pandas.pydata.org/pandas-docs/stable/user_guide/indexing.html#returning-a-view-versus-a-copy\n",
      "  isetter(loc, value[:, i].tolist())\n",
      "C:\\Users\\fuzha\\anaconda3\\envs\\proj\\lib\\site-packages\\pandas\\core\\indexing.py:1736: SettingWithCopyWarning: \n",
      "A value is trying to be set on a copy of a slice from a DataFrame.\n",
      "Try using .loc[row_indexer,col_indexer] = value instead\n",
      "\n",
      "See the caveats in the documentation: https://pandas.pydata.org/pandas-docs/stable/user_guide/indexing.html#returning-a-view-versus-a-copy\n",
      "  isetter(loc, value[:, i].tolist())\n"
     ]
    }
   ],
   "source": [
    "# scale the acceleration in the WISDM datasets\n",
    "df_ms_train,df_ms_test = robustscale_data(df_ms_train,df_ms_test,['x_axis', 'y_axis', 'z_axis'])"
   ]
  },
  {
   "cell_type": "code",
   "execution_count": 17,
   "metadata": {},
   "outputs": [
    {
     "data": {
      "text/html": [
       "<div>\n",
       "<style scoped>\n",
       "    .dataframe tbody tr th:only-of-type {\n",
       "        vertical-align: middle;\n",
       "    }\n",
       "\n",
       "    .dataframe tbody tr th {\n",
       "        vertical-align: top;\n",
       "    }\n",
       "\n",
       "    .dataframe thead th {\n",
       "        text-align: right;\n",
       "    }\n",
       "</style>\n",
       "<table border=\"1\" class=\"dataframe\">\n",
       "  <thead>\n",
       "    <tr style=\"text-align: right;\">\n",
       "      <th></th>\n",
       "      <th>x_axis</th>\n",
       "      <th>y_axis</th>\n",
       "      <th>z_axis</th>\n",
       "    </tr>\n",
       "  </thead>\n",
       "  <tbody>\n",
       "    <tr>\n",
       "      <th>992434</th>\n",
       "      <td>-0.298364</td>\n",
       "      <td>-0.334976</td>\n",
       "      <td>-0.173145</td>\n",
       "    </tr>\n",
       "    <tr>\n",
       "      <th>992435</th>\n",
       "      <td>-0.271320</td>\n",
       "      <td>-0.550886</td>\n",
       "      <td>-0.213503</td>\n",
       "    </tr>\n",
       "    <tr>\n",
       "      <th>992436</th>\n",
       "      <td>-0.085477</td>\n",
       "      <td>-0.587546</td>\n",
       "      <td>-0.309718</td>\n",
       "    </tr>\n",
       "  </tbody>\n",
       "</table>\n",
       "</div>"
      ],
      "text/plain": [
       "          x_axis    y_axis    z_axis\n",
       "992434 -0.298364 -0.334976 -0.173145\n",
       "992435 -0.271320 -0.550886 -0.213503\n",
       "992436 -0.085477 -0.587546 -0.309718"
      ]
     },
     "execution_count": 17,
     "metadata": {},
     "output_type": "execute_result"
    }
   ],
   "source": [
    "df_ms_test[['x_axis', 'y_axis', 'z_axis']].head(3)"
   ]
  },
  {
   "cell_type": "code",
   "execution_count": 18,
   "metadata": {},
   "outputs": [
    {
     "data": {
      "text/html": [
       "<div>\n",
       "<style scoped>\n",
       "    .dataframe tbody tr th:only-of-type {\n",
       "        vertical-align: middle;\n",
       "    }\n",
       "\n",
       "    .dataframe tbody tr th {\n",
       "        vertical-align: top;\n",
       "    }\n",
       "\n",
       "    .dataframe thead th {\n",
       "        text-align: right;\n",
       "    }\n",
       "</style>\n",
       "<table border=\"1\" class=\"dataframe\">\n",
       "  <thead>\n",
       "    <tr style=\"text-align: right;\">\n",
       "      <th></th>\n",
       "      <th>x_axis</th>\n",
       "      <th>y_axis</th>\n",
       "      <th>z_axis</th>\n",
       "    </tr>\n",
       "  </thead>\n",
       "  <tbody>\n",
       "    <tr>\n",
       "      <th>0</th>\n",
       "      <td>1.712199</td>\n",
       "      <td>-0.602306</td>\n",
       "      <td>0.665536</td>\n",
       "    </tr>\n",
       "    <tr>\n",
       "      <th>1</th>\n",
       "      <td>1.596889</td>\n",
       "      <td>-0.263547</td>\n",
       "      <td>0.188946</td>\n",
       "    </tr>\n",
       "    <tr>\n",
       "      <th>2</th>\n",
       "      <td>1.234233</td>\n",
       "      <td>-0.114637</td>\n",
       "      <td>-0.323610</td>\n",
       "    </tr>\n",
       "  </tbody>\n",
       "</table>\n",
       "</div>"
      ],
      "text/plain": [
       "     x_axis    y_axis    z_axis\n",
       "0  1.712199 -0.602306  0.665536\n",
       "1  1.596889 -0.263547  0.188946\n",
       "2  1.234233 -0.114637 -0.323610"
      ]
     },
     "execution_count": 18,
     "metadata": {},
     "output_type": "execute_result"
    }
   ],
   "source": [
    "df_ms_train[['x_axis', 'y_axis', 'z_axis']].head(3)"
   ]
  },
  {
   "cell_type": "markdown",
   "metadata": {},
   "source": [
    "**Note**\n",
    "- Now both the MS and WISDM datasets were scaled\n",
    "- Next, we need to format the data to build the models"
   ]
  },
  {
   "cell_type": "markdown",
   "metadata": {},
   "source": [
    "#### Create datasets for building models\n",
    "\n",
    "- Each data point to build the model is an 2D array with size of (L,M), where L represents the number of samples take from the time series and M represents the number of features.\n",
    "- When building the baseline models, I used L = 200 for both MS and WIDSM datasets. As we will see later, the optimized L will be different for the two cases.\n",
    "- Since WISDM datasets only have acceleration('x_axis', 'y_axis', 'z_axis') recorded, M=3 for this case."
   ]
  },
  {
   "cell_type": "code",
   "execution_count": 19,
   "metadata": {},
   "outputs": [],
   "source": [
    "def create_dataset(X, y, time_steps=1, step=1):\n",
    "    '''\n",
    "    This function creats the timeseries data from the raw datasets.\n",
    "    X: The input features for building the model\n",
    "    y: The labels for the corresponding input dataset\n",
    "    time_step: The window length (number of samples in the time series) of each of the training datasets\n",
    "    step: The moving distance for the window to generate the next training datasets.\n",
    "    The difference from (time_step - step) gives the number of overlapping samples between the two nearby rows of training dataset.\n",
    "    '''\n",
    "    Xs, ys = [], []\n",
    "    for i in range(0, len(X) - time_steps, step):\n",
    "        v = X.iloc[i:(i + time_steps)].values\n",
    "        labels = y.iloc[i: i + time_steps]\n",
    "        Xs.append(v)\n",
    "        ys.append(stats.mode(labels)[0][0])\n",
    "    return np.array(Xs), np.array(ys).reshape(-1, 1)"
   ]
  },
  {
   "cell_type": "code",
   "execution_count": 20,
   "metadata": {},
   "outputs": [],
   "source": [
    "def create_dataset_X(X, time_steps=1, step=1):\n",
    "    '''\n",
    "    This function is very similar as the above function. The only difference is this function does not need inputting labels\n",
    "    Using this function to create validation datasets.\n",
    "    '''\n",
    "    Xs, ys = [], []\n",
    "    for i in range(0, len(X) - time_steps, step):\n",
    "        v = X.iloc[i:(i + time_steps)].values\n",
    "#        labels = y.iloc[i: i + time_steps]\n",
    "        Xs.append(v)\n",
    "#        ys.append(stats.mode(labels)[0][0])\n",
    "    return np.array(Xs)#, np.array(ys).reshape(-1, 1)"
   ]
  },
  {
   "cell_type": "markdown",
   "metadata": {},
   "source": [
    "##### Create model building datasets for WISDM"
   ]
  },
  {
   "cell_type": "code",
   "execution_count": 21,
   "metadata": {},
   "outputs": [
    {
     "data": {
      "text/plain": [
       "Index(['user_id', 'activity', 'timestamp', 'x_axis', 'y_axis', 'z_axis'], dtype='object')"
      ]
     },
     "execution_count": 21,
     "metadata": {},
     "output_type": "execute_result"
    }
   ],
   "source": [
    "df_wd_train.columns[:]"
   ]
  },
  {
   "cell_type": "code",
   "execution_count": 24,
   "metadata": {},
   "outputs": [],
   "source": [
    "TIME_STEPS = 200\n",
    "STEP = 40\n",
    "\n",
    "X_wd_train, y_wd_train = create_dataset(\n",
    "    df_wd_train[df_wd.columns[-3:]],\n",
    "    df_wd_train.activity,\n",
    "    TIME_STEPS,\n",
    "    STEP\n",
    ")\n",
    "\n",
    "X_wd_test, y_wd_test = create_dataset(\n",
    "    df_wd_test[df_wd.columns[-3:]],\n",
    "    df_wd_test.activity,\n",
    "    TIME_STEPS,\n",
    "    STEP\n",
    ")"
   ]
  },
  {
   "cell_type": "code",
   "execution_count": 25,
   "metadata": {},
   "outputs": [
    {
     "name": "stdout",
     "output_type": "stream",
     "text": [
      "(22454, 200, 3) (22454, 1)\n"
     ]
    }
   ],
   "source": [
    "print(X_wd_train.shape, y_wd_train.shape)"
   ]
  },
  {
   "cell_type": "code",
   "execution_count": 26,
   "metadata": {},
   "outputs": [],
   "source": [
    "enc = OneHotEncoder(handle_unknown='ignore', sparse=False)\n",
    "\n",
    "enc = enc.fit(y_wd_train)\n",
    "\n",
    "y_wd_train = enc.transform(y_wd_train)\n",
    "y_wd_test = enc.transform(y_wd_test)"
   ]
  },
  {
   "cell_type": "code",
   "execution_count": 27,
   "metadata": {},
   "outputs": [
    {
     "name": "stdout",
     "output_type": "stream",
     "text": [
      "(22454, 200, 3) (22454, 6)\n"
     ]
    }
   ],
   "source": [
    "print(X_wd_train.shape, y_wd_train.shape)"
   ]
  },
  {
   "cell_type": "code",
   "execution_count": 28,
   "metadata": {},
   "outputs": [
    {
     "name": "stdout",
     "output_type": "stream",
     "text": [
      "(4992, 200, 3) (4992, 6)\n"
     ]
    }
   ],
   "source": [
    "print(X_wd_test.shape, y_wd_test.shape)"
   ]
  },
  {
   "cell_type": "code",
   "execution_count": 48,
   "metadata": {},
   "outputs": [],
   "source": [
    "model_wd = keras.Sequential()\n",
    "model_wd.add(\n",
    "    keras.layers.Bidirectional(\n",
    "      keras.layers.LSTM(\n",
    "          units=128, \n",
    "          input_shape=[X_wd_train.shape[1], X_wd_train.shape[2]]\n",
    "      )\n",
    "    )\n",
    ")\n",
    "model_wd.add(keras.layers.Dropout(rate=0.5))\n",
    "model_wd.add(keras.layers.Dense(units=128, activation='relu'))\n",
    "model_wd.add(keras.layers.Dense(y_wd_train.shape[1], activation='softmax'))\n",
    "model_wd.compile(loss='categorical_crossentropy', optimizer='adam', metrics=['acc'])"
   ]
  },
  {
   "cell_type": "code",
   "execution_count": 49,
   "metadata": {},
   "outputs": [
    {
     "name": "stdout",
     "output_type": "stream",
     "text": [
      "Epoch 1/6\n",
      "316/316 [==============================] - 133s 421ms/step - loss: 1.0552 - acc: 0.6382 - val_loss: 0.8573 - val_acc: 0.7587\n",
      "Epoch 2/6\n",
      "316/316 [==============================] - 137s 435ms/step - loss: 0.8200 - acc: 0.7152 - val_loss: 0.8130 - val_acc: 0.7760\n",
      "Epoch 3/6\n",
      "316/316 [==============================] - 142s 448ms/step - loss: 0.6913 - acc: 0.7586 - val_loss: 0.8987 - val_acc: 0.7386\n",
      "Epoch 4/6\n",
      "316/316 [==============================] - 146s 463ms/step - loss: 0.6149 - acc: 0.7785 - val_loss: 0.7616 - val_acc: 0.7747\n",
      "Epoch 5/6\n",
      "316/316 [==============================] - 147s 466ms/step - loss: 0.5535 - acc: 0.7925 - val_loss: 0.6386 - val_acc: 0.7845\n",
      "Epoch 6/6\n",
      "316/316 [==============================] - 146s 463ms/step - loss: 0.5191 - acc: 0.8010 - val_loss: 0.6987 - val_acc: 0.8139\n"
     ]
    }
   ],
   "source": [
    "history_wd = model_wd.fit(\n",
    "    X_wd_train, y_wd_train,\n",
    "    epochs=6,\n",
    "    batch_size=64,\n",
    "    validation_split=0.1,\n",
    "    shuffle=True\n",
    ")"
   ]
  },
  {
   "cell_type": "code",
   "execution_count": 50,
   "metadata": {},
   "outputs": [
    {
     "data": {
      "image/png": "[encoded data removed]",
      "text/plain": [
       "<Figure size 432x288 with 1 Axes>"
      ]
     },
     "metadata": {
      "needs_background": "light"
     },
     "output_type": "display_data"
    }
   ],
   "source": [
    "plt.plot(history_wd.history['loss'], label='train')\n",
    "plt.plot(history_wd.history['val_loss'], label='test')\n",
    "plt.legend();"
   ]
  },
  {
   "cell_type": "code",
   "execution_count": 51,
   "metadata": {},
   "outputs": [
    {
     "name": "stdout",
     "output_type": "stream",
     "text": [
      "156/156 [==============================] - 6s 40ms/step - loss: 0.7664 - acc: 0.7788\n"
     ]
    },
    {
     "data": {
      "text/plain": [
       "[0.7663702368736267, 0.7788461446762085]"
      ]
     },
     "execution_count": 51,
     "metadata": {},
     "output_type": "execute_result"
    }
   ],
   "source": [
    "model_wd.evaluate(X_wd_test,y_wd_test)"
   ]
  },
  {
   "cell_type": "code",
   "execution_count": 52,
   "metadata": {},
   "outputs": [],
   "source": [
    "model_wd.save('./02_models/0926wd_lstm_md.h5')"
   ]
  },
  {
   "cell_type": "markdown",
   "metadata": {},
   "source": [
    "**Note** The baseline of RNN LSTM model for the WISDM model was 0.78"
   ]
  },
  {
   "cell_type": "markdown",
   "metadata": {},
   "source": [
    "##### Create model building datasets for MS"
   ]
  },
  {
   "cell_type": "code",
   "execution_count": 29,
   "metadata": {},
   "outputs": [
    {
     "data": {
      "text/plain": [
       "Index(['attitude.roll', 'attitude.pitch', 'attitude.yaw', 'gravity.x',\n",
       "       'gravity.y', 'gravity.z', 'rotationRate.x', 'rotationRate.y',\n",
       "       'rotationRate.z', 'userAcceleration.x', 'userAcceleration.y',\n",
       "       'userAcceleration.z', 'weight', 'height', 'age', 'gender', 'trial',\n",
       "       'x_axis', 'y_axis', 'z_axis', 'user_id', 'activity'],\n",
       "      dtype='object')"
      ]
     },
     "execution_count": 29,
     "metadata": {},
     "output_type": "execute_result"
    }
   ],
   "source": [
    "df_ms_train.columns[:]"
   ]
  },
  {
   "cell_type": "code",
   "execution_count": 30,
   "metadata": {},
   "outputs": [],
   "source": [
    "TIME_STEPS = 200\n",
    "STEP = 40\n",
    "\n",
    "X_ms_train, y_ms_train = create_dataset(\n",
    "    df_ms_train[df_ms.columns[17:20]],\n",
    "    df_ms_train.activity,\n",
    "    TIME_STEPS,\n",
    "    STEP\n",
    ")\n",
    "\n",
    "X_ms_test, y_ms_test = create_dataset(\n",
    "    df_ms_test[df_ms.columns[17:20]],\n",
    "    df_ms_test.activity,\n",
    "    TIME_STEPS,\n",
    "    STEP\n",
    ")"
   ]
  },
  {
   "cell_type": "code",
   "execution_count": 31,
   "metadata": {},
   "outputs": [
    {
     "name": "stdout",
     "output_type": "stream",
     "text": [
      "(24806, 200, 3) (24806, 1)\n"
     ]
    }
   ],
   "source": [
    "print(X_ms_train.shape, y_ms_train.shape)"
   ]
  },
  {
   "cell_type": "code",
   "execution_count": 32,
   "metadata": {},
   "outputs": [],
   "source": [
    "enc = OneHotEncoder(handle_unknown='ignore', sparse=False)\n",
    "\n",
    "enc = enc.fit(y_ms_train)\n",
    "\n",
    "y_ms_train = enc.transform(y_ms_train)\n",
    "y_ms_test = enc.transform(y_ms_test)"
   ]
  },
  {
   "cell_type": "code",
   "execution_count": 33,
   "metadata": {},
   "outputs": [
    {
     "name": "stdout",
     "output_type": "stream",
     "text": [
      "(24806, 200, 3) (24806, 6)\n"
     ]
    }
   ],
   "source": [
    "print(X_ms_train.shape, y_ms_train.shape)"
   ]
  },
  {
   "cell_type": "code",
   "execution_count": 34,
   "metadata": {},
   "outputs": [
    {
     "name": "stdout",
     "output_type": "stream",
     "text": [
      "(10506, 200, 3) (10506, 6)\n"
     ]
    }
   ],
   "source": [
    "print(X_ms_test.shape, y_ms_test.shape)"
   ]
  },
  {
   "cell_type": "code",
   "execution_count": 63,
   "metadata": {},
   "outputs": [],
   "source": [
    "model_ms = keras.Sequential()\n",
    "model_ms.add(\n",
    "    keras.layers.Bidirectional(\n",
    "      keras.layers.LSTM(\n",
    "          units=128, \n",
    "          input_shape=[X_ms_train.shape[1], X_ms_train.shape[2]]\n",
    "      )\n",
    "    )\n",
    ")\n",
    "model_ms.add(keras.layers.Dropout(rate=0.5))\n",
    "model_ms.add(keras.layers.Dense(units=128, activation='relu'))\n",
    "model_ms.add(keras.layers.Dense(y_ms_train.shape[1], activation='softmax'))\n",
    "model_ms.compile(loss='categorical_crossentropy', optimizer='adam', metrics=['acc'])"
   ]
  },
  {
   "cell_type": "code",
   "execution_count": 64,
   "metadata": {},
   "outputs": [
    {
     "name": "stdout",
     "output_type": "stream",
     "text": [
      "Epoch 1/6\n",
      "349/349 [==============================] - 106s 304ms/step - loss: 0.7848 - acc: 0.7081 - val_loss: 0.3383 - val_acc: 0.8484\n",
      "Epoch 2/6\n",
      "349/349 [==============================] - 154s 442ms/step - loss: 0.4675 - acc: 0.8322 - val_loss: 0.4964 - val_acc: 0.8267\n",
      "Epoch 3/6\n",
      "349/349 [==============================] - 163s 468ms/step - loss: 0.4387 - acc: 0.8411 - val_loss: 0.2400 - val_acc: 0.9141\n",
      "Epoch 4/6\n",
      "349/349 [==============================] - 163s 467ms/step - loss: 0.5124 - acc: 0.8252 - val_loss: 0.2771 - val_acc: 0.8859\n",
      "Epoch 5/6\n",
      "349/349 [==============================] - 163s 467ms/step - loss: 0.5951 - acc: 0.7877 - val_loss: 0.2267 - val_acc: 0.9137\n",
      "Epoch 6/6\n",
      "349/349 [==============================] - 164s 470ms/step - loss: 0.3588 - acc: 0.8740 - val_loss: 0.2678 - val_acc: 0.9073\n"
     ]
    }
   ],
   "source": [
    "history_ms = model_ms.fit(\n",
    "    X_ms_train, y_ms_train,\n",
    "    epochs=6,\n",
    "    batch_size=64,\n",
    "    validation_split=0.1,\n",
    "    shuffle=True\n",
    ")"
   ]
  },
  {
   "cell_type": "code",
   "execution_count": 65,
   "metadata": {},
   "outputs": [
    {
     "data": {
      "image/png": "[encoded data removed]",
      "text/plain": [
       "<Figure size 432x288 with 1 Axes>"
      ]
     },
     "metadata": {
      "needs_background": "light"
     },
     "output_type": "display_data"
    }
   ],
   "source": [
    "plt.plot(history_ms.history['loss'], label='train')\n",
    "plt.plot(history_ms.history['val_loss'], label='test')\n",
    "plt.legend();"
   ]
  },
  {
   "cell_type": "code",
   "execution_count": 66,
   "metadata": {},
   "outputs": [
    {
     "name": "stdout",
     "output_type": "stream",
     "text": [
      "329/329 [==============================] - 13s 41ms/step - loss: 0.4514 - acc: 0.8174\n"
     ]
    },
    {
     "data": {
      "text/plain": [
       "[0.4513981342315674, 0.8174376487731934]"
      ]
     },
     "execution_count": 66,
     "metadata": {},
     "output_type": "execute_result"
    }
   ],
   "source": [
    "model_ms.evaluate(X_ms_test,y_ms_test)"
   ]
  },
  {
   "cell_type": "code",
   "execution_count": 77,
   "metadata": {},
   "outputs": [],
   "source": [
    "model_ms.save('./02_models/0926ms_lstm_md.h5')"
   ]
  },
  {
   "cell_type": "markdown",
   "metadata": {},
   "source": [
    "**Note** The baseline of RNN LSTM model for the MS dataset is 0.82"
   ]
  },
  {
   "cell_type": "markdown",
   "metadata": {},
   "source": [
    "##### Combine MS and WISDM datasets to build a baseline model"
   ]
  },
  {
   "cell_type": "code",
   "execution_count": 35,
   "metadata": {},
   "outputs": [
    {
     "name": "stdout",
     "output_type": "stream",
     "text": [
      "(47260, 200, 3) (47260, 6)\n"
     ]
    }
   ],
   "source": [
    "X_cb_train = np.concatenate((X_wd_train,X_ms_train),axis = 0 )\n",
    "y_cb_train = np.concatenate((y_wd_train,y_ms_train),axis = 0 )\n",
    "print(X_cb_train.shape,y_cb_train.shape)"
   ]
  },
  {
   "cell_type": "code",
   "execution_count": 36,
   "metadata": {},
   "outputs": [
    {
     "name": "stdout",
     "output_type": "stream",
     "text": [
      "(15498, 200, 3) (15498, 6)\n"
     ]
    }
   ],
   "source": [
    "X_cb_test = np.concatenate((X_wd_test,X_ms_test),axis = 0 )\n",
    "y_cb_test = np.concatenate((y_wd_test,y_ms_test),axis = 0 )\n",
    "print(X_cb_test.shape,y_cb_test.shape)"
   ]
  },
  {
   "cell_type": "code",
   "execution_count": 71,
   "metadata": {},
   "outputs": [],
   "source": [
    "model_cb = keras.Sequential()\n",
    "model_cb.add(\n",
    "    keras.layers.Bidirectional(\n",
    "      keras.layers.LSTM(\n",
    "          units=128, \n",
    "          input_shape=[X_cb_train.shape[1], X_cb_train.shape[2]]\n",
    "      )\n",
    "    )\n",
    ")\n",
    "model_cb.add(keras.layers.Dropout(rate=0.5))\n",
    "model_cb.add(keras.layers.Dense(units=128, activation='relu'))\n",
    "model_cb.add(keras.layers.Dense(y_cb_train.shape[1], activation='softmax'))\n",
    "model_cb.compile(loss='categorical_crossentropy', optimizer='adam', metrics=['acc'])"
   ]
  },
  {
   "cell_type": "code",
   "execution_count": 72,
   "metadata": {},
   "outputs": [
    {
     "name": "stdout",
     "output_type": "stream",
     "text": [
      "Epoch 1/6\n",
      "665/665 [==============================] - 306s 460ms/step - loss: 0.8422 - acc: 0.6946 - val_loss: 0.4112 - val_acc: 0.8347\n",
      "Epoch 2/6\n",
      "665/665 [==============================] - 333s 500ms/step - loss: 0.4552 - acc: 0.8398 - val_loss: 0.2997 - val_acc: 0.8915\n",
      "Epoch 3/6\n",
      "665/665 [==============================] - 338s 508ms/step - loss: 0.3738 - acc: 0.8666 - val_loss: 0.2615 - val_acc: 0.8989\n",
      "Epoch 4/6\n",
      "665/665 [==============================] - 338s 508ms/step - loss: 0.2742 - acc: 0.9058 - val_loss: 0.2217 - val_acc: 0.9350\n",
      "Epoch 5/6\n",
      "665/665 [==============================] - 335s 503ms/step - loss: 0.3202 - acc: 0.8890 - val_loss: 0.2648 - val_acc: 0.9107\n",
      "Epoch 6/6\n",
      "665/665 [==============================] - 335s 504ms/step - loss: 0.5375 - acc: 0.8067 - val_loss: 0.4213 - val_acc: 0.8390\n"
     ]
    }
   ],
   "source": [
    "history_cb = model_cb.fit(\n",
    "    X_cb_train, y_cb_train,\n",
    "    epochs=6,\n",
    "    batch_size=64,\n",
    "    validation_split=0.1,\n",
    "    shuffle=True\n",
    ")"
   ]
  },
  {
   "cell_type": "code",
   "execution_count": 73,
   "metadata": {},
   "outputs": [
    {
     "data": {
      "image/png": "[encoded data removed]",
      "text/plain": [
       "<Figure size 432x288 with 1 Axes>"
      ]
     },
     "metadata": {
      "needs_background": "light"
     },
     "output_type": "display_data"
    }
   ],
   "source": [
    "plt.plot(history_cb.history['loss'], label='train')\n",
    "plt.plot(history_cb.history['val_loss'], label='test')\n",
    "plt.legend();"
   ]
  },
  {
   "cell_type": "code",
   "execution_count": 74,
   "metadata": {},
   "outputs": [
    {
     "name": "stdout",
     "output_type": "stream",
     "text": [
      "329/329 [==============================] - 18s 54ms/step - loss: 0.6175 - acc: 0.7332\n"
     ]
    },
    {
     "data": {
      "text/plain": [
       "[0.617490828037262, 0.7332000732421875]"
      ]
     },
     "execution_count": 74,
     "metadata": {},
     "output_type": "execute_result"
    }
   ],
   "source": [
    "# Evaluate the combine model on MS datasets\n",
    "model_cb.evaluate(X_ms_test,y_ms_test)"
   ]
  },
  {
   "cell_type": "code",
   "execution_count": 75,
   "metadata": {},
   "outputs": [
    {
     "name": "stdout",
     "output_type": "stream",
     "text": [
      "156/156 [==============================] - 7s 43ms/step - loss: 0.4464 - acc: 0.8321: 0s - loss: 0.4336 - ac\n"
     ]
    },
    {
     "data": {
      "text/plain": [
       "[0.4464147388935089, 0.8321313858032227]"
      ]
     },
     "execution_count": 75,
     "metadata": {},
     "output_type": "execute_result"
    }
   ],
   "source": [
    "# Evaluate the combine model on WISDM datasets\n",
    "model_cb.evaluate(X_wd_test,y_wd_test)"
   ]
  },
  {
   "cell_type": "code",
   "execution_count": 76,
   "metadata": {},
   "outputs": [
    {
     "name": "stdout",
     "output_type": "stream",
     "text": [
      "485/485 [==============================] - 20s 41ms/step - loss: 0.5624 - acc: 0.7651\n"
     ]
    },
    {
     "data": {
      "text/plain": [
       "[0.5623863935470581, 0.7650664448738098]"
      ]
     },
     "execution_count": 76,
     "metadata": {},
     "output_type": "execute_result"
    }
   ],
   "source": [
    "# Evaluate the combine model on combined datasets\n",
    "model_cb.evaluate(X_cb_test,y_cb_test)"
   ]
  },
  {
   "cell_type": "code",
   "execution_count": 78,
   "metadata": {},
   "outputs": [],
   "source": [
    "model_cb.save('./02_models/0926wd_lstm_cb.h5')"
   ]
  },
  {
   "cell_type": "markdown",
   "metadata": {},
   "source": [
    "**Note** The baseline of RNN LSTM model for the combined WISDM and MS datasets were:\n",
    "- 0.73 for MS datasets\n",
    "- 0.83 for the WISDM datasets\n",
    "- 0.77 for the combined datasets"
   ]
  },
  {
   "cell_type": "markdown",
   "metadata": {},
   "source": [
    "#### Summary\n",
    "- In this section, three baseline models have been built with the WISDM, MS, and combined datasets using the total acceleration. These models gave the bottom lines the HAR classifiers.\n",
    "- Window size was 200 samples and window shift was 40 samples were used to create the model building datasets, which could be optimized. As one will see in the folling sections, the WISDM datasets and the MS dataset should have different window sizes.\n",
    "- The MS datasets had more features collected, and we expected better models could be achieved when using more features\n",
    "- In this section, the model building datasets were labelled after concatenating all individual activities in to one dataframe. However, labelling them before concatenating should be more accurate."
   ]
  }
 ],
 "metadata": {
  "kernelspec": {
   "display_name": "Python [conda env:proj]",
   "language": "python",
   "name": "conda-env-proj-py"
  },
  "language_info": {
   "codemirror_mode": {
    "name": "ipython",
    "version": 3
   },
   "file_extension": ".py",
   "mimetype": "text/x-python",
   "name": "python",
   "nbconvert_exporter": "python",
   "pygments_lexer": "ipython3",
   "version": "3.7.9"
  }
 },
 "nbformat": 4,
 "nbformat_minor": 4
}
