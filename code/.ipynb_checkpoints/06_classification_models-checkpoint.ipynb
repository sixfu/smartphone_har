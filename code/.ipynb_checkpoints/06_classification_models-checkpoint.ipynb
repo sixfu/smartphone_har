{
 "cells": [
  {
   "cell_type": "markdown",
   "metadata": {},
   "source": [
    "## Classification models\n",
    "*This notebook was run at google colab"
   ]
  },
  {
   "cell_type": "markdown",
   "metadata": {},
   "source": [
    "### Content  \n",
    "[1. Loading the datasets and scaling the features for model building](#1Loadingml)  \n",
    "[2. RNN LSTM classification models](#2RNNLSTMclassificationmodelsml)  \n",
    "- [2.1 RNN LSTM models built from WISDM datasets](#2.1ml)  \n",
    "- [2.2 RNN LSTM models built from MS datasets](#2.2ml)  \n",
    "- [2.3 RNN LSTM models built the combined MS and WISDM datasets](#2.3ml)  \n",
    "\n",
    "[3. CNN classification models](#3ml)  \n",
    "- [3.1 CNN models built from WISDM datasets](#3.1ml)  \n",
    "- [3.2 CNN models built from MS datasets](#3.2ml)   \n",
    "- [3.3 CNN models built from the combined datasets](#3.3ml)   \n",
    "\n",
    "[4. Other classification models](#4ml)  \n",
    "- [4.1 Logistical Regression model](#4.1ml)  \n",
    "- [4.2 Support vector machine classification model](#4.2ml)   \n",
    "- [4.3 KNN model](#4.3ml)   \n",
    "- [4.4 Random forest model](#4.4ml)   \n",
    "- [4.5 Summary](#4.5ml)\n",
    "\n",
    "[5 Additional work for CNN models with the MS datasets](#5ml)   \n",
    "- [5.1 12 features v.s. 3 features](#5.1ml)  \n",
    "- [5.2 Different network parameters](#5.2ml)  \n",
    "- [5.3 Putting all subjects in the training datasets](#5.3ml)  \n",
    "\n",
    "[6 Conclusions](#6ml)  \n"
   ]
  },
  {
   "cell_type": "code",
   "execution_count": 3,
   "metadata": {
    "id": "PZyKNLfwpXj2"
   },
   "outputs": [],
   "source": [
    "import numpy as np\n",
    "import pandas as pd\n",
    "import matplotlib.pyplot as plt\n",
    "from sklearn.preprocessing import RobustScaler\n",
    "from scipy import stats\n",
    "from sklearn.preprocessing import OneHotEncoder\n",
    "import tensorflow as tf\n",
    "from tensorflow import keras\n",
    "from sklearn.model_selection import train_test_split\n",
    "from tensorflow.keras.layers import Dense, Dropout, Flatten, Conv2D, MaxPooling2D\n",
    "from tensorflow.keras.models import Sequential\n",
    "from sklearn.linear_model import LogisticRegression\n",
    "import scipy.signal as signal\n",
    "from sklearn.ensemble import RandomForestClassifier\n",
    "from sklearn.neighbors import KNeighborsClassifier\n",
    "from sklearn.svm import SVC\n",
    "import pickle"
   ]
  },
  {
   "cell_type": "markdown",
   "metadata": {},
   "source": [
    "<a name=\"1Loadingml\"></a>\n",
    "### 1. Loading the datasets and scaling the features for model building"
   ]
  },
  {
   "cell_type": "code",
   "execution_count": 5,
   "metadata": {
    "colab": {
     "base_uri": "https://localhost:8080/",
     "height": 72,
     "resources": {
      "http://localhost:8080/nbextensions/google.colab/files.js": {
       "data": "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",
       "headers": [
        [
         "content-type",
         "application/javascript"
        ]
       ],
       "ok": true,
       "status": 200,
       "status_text": ""
      }
     }
    },
    "id": "pAhGmYKipbM9",
    "outputId": "8ddb98b5-c08d-43aa-8c89-dd52499a33b0"
   },
   "outputs": [
    {
     "data": {
      "text/html": [
       "\n",
       "     <input type=\"file\" id=\"files-d06fe80a-e61d-4e9e-a25e-2affb9916a83\" name=\"files[]\" multiple disabled\n",
       "        style=\"border:none\" />\n",
       "     <output id=\"result-d06fe80a-e61d-4e9e-a25e-2affb9916a83\">\n",
       "      Upload widget is only available when the cell has been executed in the\n",
       "      current browser session. Please rerun this cell to enable.\n",
       "      </output>\n",
       "      <script src=\"/nbextensions/google.colab/files.js\"></script> "
      ],
      "text/plain": [
       "<IPython.core.display.HTML object>"
      ]
     },
     "metadata": {
      "tags": []
     },
     "output_type": "display_data"
    },
    {
     "name": "stdout",
     "output_type": "stream",
     "text": [
      "Saving raw_wisdm0926_df.csv to raw_wisdm0926_df.csv\n"
     ]
    }
   ],
   "source": [
    "from google.colab import files\n",
    "uploaded = files.upload()"
   ]
  },
  {
   "cell_type": "code",
   "execution_count": 7,
   "metadata": {
    "colab": {
     "base_uri": "https://localhost:8080/",
     "height": 72,
     "resources": {
      "http://localhost:8080/nbextensions/google.colab/files.js": {
       "data": "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",
       "headers": [
        [
         "content-type",
         "application/javascript"
        ]
       ],
       "ok": true,
       "status": 200,
       "status_text": ""
      }
     }
    },
    "id": "3b6T8vOmqZ_T",
    "outputId": "c233c812-d377-4e9f-c2e6-516bc8f1fbf9"
   },
   "outputs": [
    {
     "data": {
      "text/html": [
       "\n",
       "     <input type=\"file\" id=\"files-784c546a-9640-4cfd-b08b-6916141af5cc\" name=\"files[]\" multiple disabled\n",
       "        style=\"border:none\" />\n",
       "     <output id=\"result-784c546a-9640-4cfd-b08b-6916141af5cc\">\n",
       "      Upload widget is only available when the cell has been executed in the\n",
       "      current browser session. Please rerun this cell to enable.\n",
       "      </output>\n",
       "      <script src=\"/nbextensions/google.colab/files.js\"></script> "
      ],
      "text/plain": [
       "<IPython.core.display.HTML object>"
      ]
     },
     "metadata": {
      "tags": []
     },
     "output_type": "display_data"
    },
    {
     "name": "stdout",
     "output_type": "stream",
     "text": [
      "Saving raw_ms_all0926_df.csv to raw_ms_all0926_df.csv\n"
     ]
    }
   ],
   "source": [
    "from google.colab import files\n",
    "uploaded = files.upload()"
   ]
  },
  {
   "cell_type": "code",
   "execution_count": 4,
   "metadata": {
    "id": "VJZHRLMmpXj5"
   },
   "outputs": [],
   "source": [
    "df_ms = pd.read_csv('raw_ms_all0926_df.csv') # read in the ms datasets\n",
    "df_wd = pd.read_csv('raw_wisdm0926_df.csv')  # read in the wisdm datasets"
   ]
  },
  {
   "cell_type": "code",
   "execution_count": 5,
   "metadata": {
    "colab": {
     "base_uri": "https://localhost:8080/",
     "height": 34
    },
    "id": "nr7s_CPkvsFp",
    "outputId": "4f65cd94-3782-41cb-db2f-6af4bab362d0"
   },
   "outputs": [
    {
     "name": "stdout",
     "output_type": "stream",
     "text": [
      "(1412865, 22) (1098203, 6)\n"
     ]
    }
   ],
   "source": [
    "print(df_ms.shape,df_wd.shape)"
   ]
  },
  {
   "cell_type": "code",
   "execution_count": 7,
   "metadata": {
    "id": "MGyrgzMtpXj8"
   },
   "outputs": [],
   "source": [
    "# Manually setup training and testing datasets for both WISDM and MS\n",
    "df_wd_train = df_wd[df_wd['user_id'] <= 30]\n",
    "df_wd_test = df_wd[df_wd['user_id'] > 30]\n",
    "df_ms_train = df_ms[df_ms['user_id'] <= 66]\n",
    "df_ms_test = df_ms[df_ms['user_id'] > 66]"
   ]
  },
  {
   "cell_type": "code",
   "execution_count": 8,
   "metadata": {
    "id": "tueFhvmSpXj-"
   },
   "outputs": [],
   "source": [
    "#define a function to scale the features for building the models\n",
    "def robustscale_data(df_train,df_test,cols,scaler=RobustScaler()):\n",
    "    scale_columns = cols\n",
    "    scaler = scaler.fit(df_train[scale_columns])\n",
    "    df_train.loc[:, scale_columns] = scaler.transform(df_train[scale_columns].to_numpy())\n",
    "    df_test.loc[:, scale_columns] = scaler.transform(df_test[scale_columns].to_numpy())\n",
    "    return df_train,df_test"
   ]
  },
  {
   "cell_type": "code",
   "execution_count": 12,
   "metadata": {
    "colab": {
     "base_uri": "https://localhost:8080/",
     "height": 221
    },
    "id": "3FJek9ogpXkA",
    "outputId": "e6878b41-904d-46f8-80cd-4b8d43fecfc8"
   },
   "outputs": [
    {
     "name": "stderr",
     "output_type": "stream",
     "text": [
      "/usr/local/lib/python3.6/dist-packages/pandas/core/indexing.py:1736: SettingWithCopyWarning: \n",
      "A value is trying to be set on a copy of a slice from a DataFrame.\n",
      "Try using .loc[row_indexer,col_indexer] = value instead\n",
      "\n",
      "See the caveats in the documentation: https://pandas.pydata.org/pandas-docs/stable/user_guide/indexing.html#returning-a-view-versus-a-copy\n",
      "  isetter(loc, value[:, i].tolist())\n",
      "/usr/local/lib/python3.6/dist-packages/pandas/core/indexing.py:1736: SettingWithCopyWarning: \n",
      "A value is trying to be set on a copy of a slice from a DataFrame.\n",
      "Try using .loc[row_indexer,col_indexer] = value instead\n",
      "\n",
      "See the caveats in the documentation: https://pandas.pydata.org/pandas-docs/stable/user_guide/indexing.html#returning-a-view-versus-a-copy\n",
      "  isetter(loc, value[:, i].tolist())\n"
     ]
    }
   ],
   "source": [
    "# scale the acceleration in the WISDM datasets\n",
    "df_wd_train,df_wd_test = robustscale_data(df_wd_train,df_wd_test,['x_axis', 'y_axis', 'z_axis'])"
   ]
  },
  {
   "cell_type": "code",
   "execution_count": 13,
   "metadata": {
    "colab": {
     "base_uri": "https://localhost:8080/",
     "height": 428
    },
    "id": "NlAsxv8DpXkD",
    "outputId": "4c4b4703-8b89-4c5f-f7ac-a07b2907b375"
   },
   "outputs": [
    {
     "name": "stderr",
     "output_type": "stream",
     "text": [
      "/usr/local/lib/python3.6/dist-packages/pandas/core/indexing.py:1736: SettingWithCopyWarning: \n",
      "A value is trying to be set on a copy of a slice from a DataFrame.\n",
      "Try using .loc[row_indexer,col_indexer] = value instead\n",
      "\n",
      "See the caveats in the documentation: https://pandas.pydata.org/pandas-docs/stable/user_guide/indexing.html#returning-a-view-versus-a-copy\n",
      "  isetter(loc, value[:, i].tolist())\n",
      "/usr/local/lib/python3.6/dist-packages/pandas/core/indexing.py:1736: SettingWithCopyWarning: \n",
      "A value is trying to be set on a copy of a slice from a DataFrame.\n",
      "Try using .loc[row_indexer,col_indexer] = value instead\n",
      "\n",
      "See the caveats in the documentation: https://pandas.pydata.org/pandas-docs/stable/user_guide/indexing.html#returning-a-view-versus-a-copy\n",
      "  isetter(loc, value[:, i].tolist())\n"
     ]
    },
    {
     "data": {
      "text/html": [
       "<div>\n",
       "<style scoped>\n",
       "    .dataframe tbody tr th:only-of-type {\n",
       "        vertical-align: middle;\n",
       "    }\n",
       "\n",
       "    .dataframe tbody tr th {\n",
       "        vertical-align: top;\n",
       "    }\n",
       "\n",
       "    .dataframe thead th {\n",
       "        text-align: right;\n",
       "    }\n",
       "</style>\n",
       "<table border=\"1\" class=\"dataframe\">\n",
       "  <thead>\n",
       "    <tr style=\"text-align: right;\">\n",
       "      <th></th>\n",
       "      <th>attitude.roll</th>\n",
       "      <th>attitude.pitch</th>\n",
       "      <th>attitude.yaw</th>\n",
       "      <th>gravity.x</th>\n",
       "      <th>gravity.y</th>\n",
       "      <th>gravity.z</th>\n",
       "      <th>rotationRate.x</th>\n",
       "      <th>rotationRate.y</th>\n",
       "      <th>rotationRate.z</th>\n",
       "      <th>userAcceleration.x</th>\n",
       "      <th>userAcceleration.y</th>\n",
       "      <th>userAcceleration.z</th>\n",
       "      <th>weight</th>\n",
       "      <th>height</th>\n",
       "      <th>age</th>\n",
       "      <th>gender</th>\n",
       "      <th>trial</th>\n",
       "      <th>x_axis</th>\n",
       "      <th>y_axis</th>\n",
       "      <th>z_axis</th>\n",
       "      <th>user_id</th>\n",
       "      <th>activity</th>\n",
       "    </tr>\n",
       "  </thead>\n",
       "  <tbody>\n",
       "    <tr>\n",
       "      <th>992434</th>\n",
       "      <td>-0.252531</td>\n",
       "      <td>-1.399097</td>\n",
       "      <td>-0.498399</td>\n",
       "      <td>-0.042686</td>\n",
       "      <td>0.985296</td>\n",
       "      <td>-0.165423</td>\n",
       "      <td>0.075694</td>\n",
       "      <td>0.414436</td>\n",
       "      <td>-0.228922</td>\n",
       "      <td>-0.041406</td>\n",
       "      <td>-0.336126</td>\n",
       "      <td>0.048022</td>\n",
       "      <td>54.0</td>\n",
       "      <td>164.0</td>\n",
       "      <td>26.0</td>\n",
       "      <td>0.0</td>\n",
       "      <td>1.0</td>\n",
       "      <td>-0.298364</td>\n",
       "      <td>-0.334976</td>\n",
       "      <td>-0.173145</td>\n",
       "      <td>67.0</td>\n",
       "      <td>Downstairs</td>\n",
       "    </tr>\n",
       "    <tr>\n",
       "      <th>992435</th>\n",
       "      <td>-0.262335</td>\n",
       "      <td>-1.393297</td>\n",
       "      <td>-0.519827</td>\n",
       "      <td>-0.045786</td>\n",
       "      <td>0.984288</td>\n",
       "      <td>-0.170512</td>\n",
       "      <td>0.299622</td>\n",
       "      <td>0.573656</td>\n",
       "      <td>-0.279905</td>\n",
       "      <td>-0.023229</td>\n",
       "      <td>-0.467488</td>\n",
       "      <td>0.030818</td>\n",
       "      <td>54.0</td>\n",
       "      <td>164.0</td>\n",
       "      <td>26.0</td>\n",
       "      <td>0.0</td>\n",
       "      <td>1.0</td>\n",
       "      <td>-0.271320</td>\n",
       "      <td>-0.550886</td>\n",
       "      <td>-0.213503</td>\n",
       "      <td>67.0</td>\n",
       "      <td>Downstairs</td>\n",
       "    </tr>\n",
       "    <tr>\n",
       "      <th>992436</th>\n",
       "      <td>-0.280650</td>\n",
       "      <td>-1.384364</td>\n",
       "      <td>-0.547095</td>\n",
       "      <td>-0.051335</td>\n",
       "      <td>0.982672</td>\n",
       "      <td>-0.178088</td>\n",
       "      <td>0.398279</td>\n",
       "      <td>0.329841</td>\n",
       "      <td>-0.398544</td>\n",
       "      <td>0.085927</td>\n",
       "      <td>-0.488348</td>\n",
       "      <td>-0.014753</td>\n",
       "      <td>54.0</td>\n",
       "      <td>164.0</td>\n",
       "      <td>26.0</td>\n",
       "      <td>0.0</td>\n",
       "      <td>1.0</td>\n",
       "      <td>-0.085477</td>\n",
       "      <td>-0.587546</td>\n",
       "      <td>-0.309718</td>\n",
       "      <td>67.0</td>\n",
       "      <td>Downstairs</td>\n",
       "    </tr>\n",
       "    <tr>\n",
       "      <th>992437</th>\n",
       "      <td>-0.304861</td>\n",
       "      <td>-1.373910</td>\n",
       "      <td>-0.575785</td>\n",
       "      <td>-0.058712</td>\n",
       "      <td>0.980680</td>\n",
       "      <td>-0.186584</td>\n",
       "      <td>0.416658</td>\n",
       "      <td>0.146548</td>\n",
       "      <td>-0.398181</td>\n",
       "      <td>0.193081</td>\n",
       "      <td>-0.468672</td>\n",
       "      <td>0.013244</td>\n",
       "      <td>54.0</td>\n",
       "      <td>164.0</td>\n",
       "      <td>26.0</td>\n",
       "      <td>0.0</td>\n",
       "      <td>1.0</td>\n",
       "      <td>0.093497</td>\n",
       "      <td>-0.558702</td>\n",
       "      <td>-0.274414</td>\n",
       "      <td>67.0</td>\n",
       "      <td>Downstairs</td>\n",
       "    </tr>\n",
       "    <tr>\n",
       "      <th>992438</th>\n",
       "      <td>-0.322147</td>\n",
       "      <td>-1.364975</td>\n",
       "      <td>-0.597435</td>\n",
       "      <td>-0.064700</td>\n",
       "      <td>0.978894</td>\n",
       "      <td>-0.193845</td>\n",
       "      <td>0.324923</td>\n",
       "      <td>0.232823</td>\n",
       "      <td>-0.315611</td>\n",
       "      <td>0.167163</td>\n",
       "      <td>-0.357525</td>\n",
       "      <td>0.116315</td>\n",
       "      <td>54.0</td>\n",
       "      <td>164.0</td>\n",
       "      <td>26.0</td>\n",
       "      <td>0.0</td>\n",
       "      <td>1.0</td>\n",
       "      <td>0.036266</td>\n",
       "      <td>-0.380323</td>\n",
       "      <td>-0.100965</td>\n",
       "      <td>67.0</td>\n",
       "      <td>Downstairs</td>\n",
       "    </tr>\n",
       "  </tbody>\n",
       "</table>\n",
       "</div>"
      ],
      "text/plain": [
       "        attitude.roll  attitude.pitch  ...  user_id    activity\n",
       "992434      -0.252531       -1.399097  ...     67.0  Downstairs\n",
       "992435      -0.262335       -1.393297  ...     67.0  Downstairs\n",
       "992436      -0.280650       -1.384364  ...     67.0  Downstairs\n",
       "992437      -0.304861       -1.373910  ...     67.0  Downstairs\n",
       "992438      -0.322147       -1.364975  ...     67.0  Downstairs\n",
       "\n",
       "[5 rows x 22 columns]"
      ]
     },
     "execution_count": 13,
     "metadata": {
      "tags": []
     },
     "output_type": "execute_result"
    }
   ],
   "source": [
    "# scale the acceleration in the MS datasets\n",
    "df_ms_train,df_ms_test = robustscale_data(df_ms_train,df_ms_test,['x_axis', 'y_axis', 'z_axis'])\n",
    "df_ms_test.head()"
   ]
  },
  {
   "cell_type": "markdown",
   "metadata": {
    "id": "90Y5mqSIpXkF"
   },
   "source": [
    "Now the accelerations for both MS and WISDM datasets are scaled"
   ]
  },
  {
   "cell_type": "markdown",
   "metadata": {
    "id": "O0RNNVG4pXkL"
   },
   "source": [
    "<a name=\"2RNNLSTMclassificationmodelsml\"></a>\n",
    "### 2. RNN LSTM classification models"
   ]
  },
  {
   "cell_type": "markdown",
   "metadata": {},
   "source": [
    "In section 3, some baseline RNN LSTM models were built and evaluated. It was also pointed out that the model could be improved by adjusting the ways to create the model building datasets:\n",
    "- Adjust the window length to create the model building datasets\n",
    "- Labelling the training/testsing datasets by activities before merging into one dataset\n",
    "\n",
    "Here in this part, we will see whether the above two factor will have impact on the RNN LSTM models."
   ]
  },
  {
   "cell_type": "markdown",
   "metadata": {
    "id": "O0RNNVG4pXkL"
   },
   "source": [
    "<a name=\"2.1ml\"></a>\n",
    "#### 2.1 RNN LSTM models built from WISDM datasets"
   ]
  },
  {
   "cell_type": "code",
   "execution_count": 1,
   "metadata": {
    "id": "FsttG0AOpXkG"
   },
   "outputs": [],
   "source": [
    "#Credit to in this reference(https://towardsdatascience.com/time-series-classification-for-human-activity-recognition-with-lstms-using-tensorflow-2-and-keras-b816431afdff)\n",
    "def create_dataset(X, y, time_steps=1, step=1):\n",
    "    '''\n",
    "    This function creats the timeseries data for model building from the raw datasets.\n",
    "    X: The input features for building the model\n",
    "    y: The labels for the corresponding input dataset\n",
    "    time_step: The window length (number of samples in the time series) of each of the training datasets\n",
    "    step: The moving distance for the window to generate the next training datasets.\n",
    "    The difference from (time_step - step) gives the number of overlapping samples between the two nearby rows of training dataset.\n",
    "    '''\n",
    "    Xs, ys = [], []\n",
    "    for i in range(0, len(X) - time_steps, step):\n",
    "        v = X.iloc[i:(i + time_steps)].values\n",
    "        labels = y.iloc[i: i + time_steps]\n",
    "        Xs.append(v)\n",
    "        ys.append(stats.mode(labels)[0][0])\n",
    "    return np.array(Xs), np.array(ys).reshape(-1, 1)"
   ]
  },
  {
   "cell_type": "code",
   "execution_count": 11,
   "metadata": {
    "id": "WcNoBdqlpXkL"
   },
   "outputs": [],
   "source": [
    "#define a function to scan the window length and window shifting step\n",
    "\n",
    "def create_train_test(time_steps,step,df_train = df_wd_train, df_test = df_wd_test,start=-3,end=None):\n",
    "    \n",
    "    # Create training datasets \n",
    "    X2_wd_train, y2_wd_train = create_dataset(\n",
    "    df_train[df_train.columns[start:end]],\n",
    "    df_train.activity,\n",
    "    time_steps,\n",
    "    step)\n",
    "    # Create testing datasets\n",
    "    X2_wd_test, y2_wd_test = create_dataset(\n",
    "    df_test[df_test.columns[start:end]],\n",
    "    df_test.activity,\n",
    "    time_steps,\n",
    "    step)\n",
    "    \n",
    "    return X2_wd_train, y2_wd_train, X2_wd_test, y2_wd_test"
   ]
  },
  {
   "cell_type": "code",
   "execution_count": 15,
   "metadata": {
    "colab": {
     "base_uri": "https://localhost:8080/",
     "height": 34
    },
    "id": "RBQcdxcMpXkN",
    "outputId": "0267840b-276b-40d9-a62b-772a652efe58"
   },
   "outputs": [
    {
     "data": {
      "text/plain": [
       "['Jogging', 'Sitting', 'Downstairs', 'Walking', 'Standing', 'Upstairs']"
      ]
     },
     "execution_count": 15,
     "metadata": {
      "tags": []
     },
     "output_type": "execute_result"
    }
   ],
   "source": [
    "activity_list = list(set(df_wd['activity']))\n",
    "activity_list"
   ]
  },
  {
   "cell_type": "markdown",
   "metadata": {},
   "source": [
    "##### Using (window size = 200, step size = 40) to create model building datasets"
   ]
  },
  {
   "cell_type": "code",
   "execution_count": 18,
   "metadata": {
    "id": "p0VjQVPBpXkP"
   },
   "outputs": [],
   "source": [
    "# Creating training and testing datasets used to build models by activities, and merge all together\n",
    "X_wd_train = np.zeros((0,200,3))\n",
    "y_wd_train = np.zeros((0,1))\n",
    "X_wd_test = np.zeros((0,200,3))\n",
    "y_wd_test = np.zeros((0,1))\n",
    "for act in activity_list:\n",
    "    X1,y1,X2,y2 = create_train_test(time_steps=200,step=40,df_train=df_wd_train[df_wd_train['activity']==act],df_test=df_wd_test[df_wd_test['activity']==act])\n",
    "    X_wd_train = np.append(X_wd_train,X1,axis=0)\n",
    "    y_wd_train = np.append(y_wd_train,y1,axis=0)\n",
    "    X_wd_test = np.append(X_wd_test,X2,axis=0)\n",
    "    y_wd_test = np.append(y_wd_test,y2,axis=0)\n"
   ]
  },
  {
   "cell_type": "code",
   "execution_count": 19,
   "metadata": {
    "colab": {
     "base_uri": "https://localhost:8080/",
     "height": 34
    },
    "id": "fn0Inu7NpXkS",
    "outputId": "7d46f10d-c922-4eaf-b9e7-b7be0fe9c0f2"
   },
   "outputs": [
    {
     "name": "stdout",
     "output_type": "stream",
     "text": [
      "(22431, 200, 3) (22431, 1) (4969, 200, 3) (4969, 1)\n"
     ]
    }
   ],
   "source": [
    "print(X_wd_train.shape, y_wd_train.shape, X_wd_test.shape,y_wd_test.shape)"
   ]
  },
  {
   "cell_type": "code",
   "execution_count": 20,
   "metadata": {
    "id": "5vVUM4wfpXkU"
   },
   "outputs": [],
   "source": [
    "# create one hot encoder for labels\n",
    "enc = OneHotEncoder(handle_unknown='ignore', sparse=False)\n",
    "\n",
    "enc = enc.fit(y_wd_train)\n",
    "\n",
    "y_wd_train = enc.transform(y_wd_train)\n",
    "y_wd_test = enc.transform(y_wd_test)"
   ]
  },
  {
   "cell_type": "code",
   "execution_count": 3,
   "metadata": {
    "id": "X1StRonkpXkh"
   },
   "outputs": [],
   "source": [
    "#Creating validation datasets from training datasets\n",
    "X_wd_train_train,X_wd_train_val,y_wd_train_train,y_wd_train_val = train_test_split(X_wd_train,y_wd_train,stratify=y_wd_train,test_size = 0.1)"
   ]
  },
  {
   "cell_type": "code",
   "execution_count": 28,
   "metadata": {
    "colab": {
     "base_uri": "https://localhost:8080/",
     "height": 34
    },
    "id": "vFmSP1tjpXkk",
    "outputId": "ab72e4c4-77a1-42b0-a5b3-92b24d9ac35b"
   },
   "outputs": [
    {
     "name": "stdout",
     "output_type": "stream",
     "text": [
      "(20187, 200, 3) (20187, 6) (2244, 200, 3) (2244, 6)\n"
     ]
    }
   ],
   "source": [
    "print(X_wd_train_train.shape,y_wd_train_train.shape,X_wd_train_val.shape,y_wd_train_val.shape)"
   ]
  },
  {
   "cell_type": "code",
   "execution_count": 29,
   "metadata": {
    "id": "OkjSTBHgpXkn"
   },
   "outputs": [],
   "source": [
    "# Using the same parameters as baseline, bulid a RNN LSTM model\n",
    "model_wd1 = keras.Sequential()\n",
    "model_wd1.add(\n",
    "    keras.layers.Bidirectional(\n",
    "      keras.layers.LSTM(\n",
    "          units=128, \n",
    "          input_shape=[X_wd_train_train.shape[1], X_wd_train_train.shape[2]]\n",
    "      )\n",
    "    )\n",
    ")\n",
    "model_wd1.add(keras.layers.Dropout(rate=0.5))\n",
    "model_wd1.add(keras.layers.Dense(units=128, activation='relu'))\n",
    "model_wd1.add(keras.layers.Dense(y_wd_train.shape[1], activation='softmax'))\n",
    "model_wd1.compile(loss='categorical_crossentropy', optimizer='adam', metrics=['acc'])"
   ]
  },
  {
   "cell_type": "code",
   "execution_count": 30,
   "metadata": {
    "colab": {
     "base_uri": "https://localhost:8080/",
     "height": 221
    },
    "id": "32UlR6LcpXkp",
    "outputId": "70a77c3c-c480-4bc8-f856-5bc57df46265"
   },
   "outputs": [
    {
     "name": "stdout",
     "output_type": "stream",
     "text": [
      "Epoch 1/6\n",
      "316/316 [==============================] - 11s 33ms/step - loss: 0.9653 - acc: 0.6734 - val_loss: 0.7176 - val_acc: 0.7571\n",
      "Epoch 2/6\n",
      "316/316 [==============================] - 10s 31ms/step - loss: 0.5928 - acc: 0.7917 - val_loss: 0.5305 - val_acc: 0.8160\n",
      "Epoch 3/6\n",
      "316/316 [==============================] - 10s 31ms/step - loss: 0.4811 - acc: 0.8253 - val_loss: 0.4123 - val_acc: 0.8520\n",
      "Epoch 4/6\n",
      "316/316 [==============================] - 10s 31ms/step - loss: 0.5873 - acc: 0.8030 - val_loss: 0.6658 - val_acc: 0.7848\n",
      "Epoch 5/6\n",
      "316/316 [==============================] - 10s 31ms/step - loss: 0.6575 - acc: 0.7662 - val_loss: 0.7465 - val_acc: 0.7647\n",
      "Epoch 6/6\n",
      "316/316 [==============================] - 10s 31ms/step - loss: 0.5688 - acc: 0.7953 - val_loss: 0.4061 - val_acc: 0.8436\n"
     ]
    }
   ],
   "source": [
    "history_wd1 = model_wd1.fit(\n",
    "    X_wd_train_train, y_wd_train_train,\n",
    "    epochs=6,\n",
    "    batch_size=64,\n",
    "#     validation_split=0.1,\n",
    "    validation_data=(X_wd_train_val,y_wd_train_val),\n",
    "    shuffle=True\n",
    ")"
   ]
  },
  {
   "cell_type": "code",
   "execution_count": 31,
   "metadata": {
    "colab": {
     "base_uri": "https://localhost:8080/",
     "height": 265
    },
    "id": "CzyX_1IxpXkr",
    "outputId": "99cb8790-2fcf-4382-9559-2498b8602ad1"
   },
   "outputs": [
    {
     "data": {
      "image/png": "[encoded data removed]",
      "text/plain": [
       "<Figure size 432x288 with 1 Axes>"
      ]
     },
     "metadata": {
      "needs_background": "light",
      "tags": []
     },
     "output_type": "display_data"
    }
   ],
   "source": [
    "plt.plot(history_wd1.history['loss'], label='train')\n",
    "plt.plot(history_wd1.history['val_loss'], label='test')\n",
    "plt.legend();"
   ]
  },
  {
   "cell_type": "code",
   "execution_count": 32,
   "metadata": {
    "colab": {
     "base_uri": "https://localhost:8080/",
     "height": 51
    },
    "id": "hWY9_ZzFpXkt",
    "outputId": "26d4f4a9-d130-486b-acf1-c5718f760ec8"
   },
   "outputs": [
    {
     "name": "stdout",
     "output_type": "stream",
     "text": [
      "156/156 [==============================] - 2s 11ms/step - loss: 0.4881 - acc: 0.8243\n"
     ]
    },
    {
     "data": {
      "text/plain": [
       "[0.4881127178668976, 0.8243107199668884]"
      ]
     },
     "execution_count": 32,
     "metadata": {
      "tags": []
     },
     "output_type": "execute_result"
    }
   ],
   "source": [
    "model_wd1.evaluate(X_wd_test,y_wd_test)"
   ]
  },
  {
   "cell_type": "code",
   "execution_count": 46,
   "metadata": {
    "id": "LwwxdX1upXkv"
   },
   "outputs": [],
   "source": [
    "model_wd1.save('1002wd_lstm_md_val.h5')"
   ]
  },
  {
   "cell_type": "markdown",
   "metadata": {
    "id": "8yyT36MEpXkx"
   },
   "source": [
    "##### Comments\n",
    "Compared to the baseline model in section 3, the following two factors led to a better RNN LSTM models for WISDM datasets (Accuracy was increased from 0.78 to 0.82):\n",
    "- Creating train/test datasets by activity before merging into one big datasets\n",
    "- Splitting train/validation datasets by y stratify other than using the validation inside the model.fit()"
   ]
  },
  {
   "cell_type": "markdown",
   "metadata": {
    "id": "Fb3TsgAspXky"
   },
   "source": [
    "##### Create train and test datasets with window = 80 and shift = 16 for WISDM datasets, and resample each datasets from (80,3) to (200,3)"
   ]
  },
  {
   "cell_type": "code",
   "execution_count": 33,
   "metadata": {
    "id": "z9mCUgVipXky"
   },
   "outputs": [],
   "source": [
    "# Creating training and testing datasets used to build models by activities, and then merge all together\n",
    "time_steps = 80\n",
    "step = 16\n",
    "X2_wd_train = np.zeros((0,time_steps,3))\n",
    "y2_wd_train = np.zeros((0,1))\n",
    "X2_wd_test = np.zeros((0,time_steps,3))\n",
    "y2_wd_test = np.zeros((0,1))\n",
    "for act in activity_list:\n",
    "    X1,y1,X2,y2 = create_train_test(time_steps=time_steps,step=step,df_train=df_wd_train[df_wd_train['activity']==act],df_test=df_wd_test[df_wd_test['activity']==act])\n",
    "    X2_wd_train = np.append(X2_wd_train,X1,axis=0)\n",
    "    y2_wd_train = np.append(y2_wd_train,y1,axis=0)\n",
    "    X2_wd_test = np.append(X2_wd_test,X2,axis=0)\n",
    "    y2_wd_test = np.append(y2_wd_test,y2,axis=0)"
   ]
  },
  {
   "cell_type": "code",
   "execution_count": 35,
   "metadata": {
    "colab": {
     "base_uri": "https://localhost:8080/",
     "height": 34
    },
    "id": "An6Q6TUlpXk1",
    "outputId": "96461f37-082e-475d-a4cc-629b839a1252"
   },
   "outputs": [
    {
     "name": "stdout",
     "output_type": "stream",
     "text": [
      "(56120, 80, 3) (56120, 1) (12464, 80, 3) (12464, 1)\n"
     ]
    }
   ],
   "source": [
    "print(X2_wd_train.shape, y2_wd_train.shape, X2_wd_test.shape,y2_wd_test.shape)"
   ]
  },
  {
   "cell_type": "code",
   "execution_count": 37,
   "metadata": {
    "id": "CENsvDCxpXk4"
   },
   "outputs": [],
   "source": [
    "X2_wd_train_resample = signal.resample(X2_wd_train,200,axis=1)\n",
    "X2_wd_test_resample = signal.resample(X2_wd_test,200,axis=1)"
   ]
  },
  {
   "cell_type": "code",
   "execution_count": 38,
   "metadata": {
    "colab": {
     "base_uri": "https://localhost:8080/",
     "height": 34
    },
    "id": "-gqk_m4mpXk6",
    "outputId": "9936c96a-9d81-4555-f81c-1422fbf35972"
   },
   "outputs": [
    {
     "name": "stdout",
     "output_type": "stream",
     "text": [
      "(56120, 200, 3) (56120, 1) (12464, 200, 3) (12464, 1)\n"
     ]
    }
   ],
   "source": [
    "print(X2_wd_train_resample.shape, y2_wd_train.shape, X2_wd_test_resample.shape,y2_wd_test.shape)"
   ]
  },
  {
   "cell_type": "code",
   "execution_count": 39,
   "metadata": {
    "id": "OlxtzkixpXk9"
   },
   "outputs": [],
   "source": [
    "# create one hot encoder for labels\n",
    "enc = OneHotEncoder(handle_unknown='ignore', sparse=False)\n",
    "\n",
    "enc = enc.fit(y2_wd_train)\n",
    "\n",
    "y2_wd_train = enc.transform(y2_wd_train)\n",
    "y2_wd_test = enc.transform(y2_wd_test)"
   ]
  },
  {
   "cell_type": "code",
   "execution_count": 40,
   "metadata": {
    "id": "pNaAPwJ_pXk_"
   },
   "outputs": [],
   "source": [
    "#Splitting training/validation datasets before resampling, and train a model with datasets had size of (80,3)\n",
    "X2_wd_train_train,X2_wd_train_val,y2_wd_train_train,y2_wd_train_val = train_test_split(X2_wd_train,y2_wd_train,stratify=y2_wd_train,test_size = 0.1)"
   ]
  },
  {
   "cell_type": "code",
   "execution_count": 41,
   "metadata": {
    "id": "S5GgGLJ6pXlB"
   },
   "outputs": [],
   "source": [
    "model_wd2 = keras.Sequential()\n",
    "model_wd2.add(\n",
    "    keras.layers.Bidirectional(\n",
    "      keras.layers.LSTM(\n",
    "          units=128, \n",
    "          input_shape=[X2_wd_train_train.shape[1], X2_wd_train_train.shape[2]]\n",
    "      )\n",
    "    )\n",
    ")\n",
    "model_wd2.add(keras.layers.Dropout(rate=0.5))\n",
    "model_wd2.add(keras.layers.Dense(units=128, activation='relu'))\n",
    "model_wd2.add(keras.layers.Dense(y2_wd_train.shape[1], activation='softmax'))\n",
    "model_wd2.compile(loss='categorical_crossentropy', optimizer='adam', metrics=['acc'])"
   ]
  },
  {
   "cell_type": "code",
   "execution_count": 42,
   "metadata": {
    "colab": {
     "base_uri": "https://localhost:8080/",
     "height": 221
    },
    "id": "8bSAZLkMpXlE",
    "outputId": "5d0b6b13-5477-4d82-a6ff-72be6555c339"
   },
   "outputs": [
    {
     "name": "stdout",
     "output_type": "stream",
     "text": [
      "Epoch 1/6\n",
      "790/790 [==============================] - 12s 15ms/step - loss: 0.6216 - acc: 0.7836 - val_loss: 0.3669 - val_acc: 0.8539\n",
      "Epoch 2/6\n",
      "790/790 [==============================] - 11s 14ms/step - loss: 0.2932 - acc: 0.8952 - val_loss: 0.2131 - val_acc: 0.9214\n",
      "Epoch 3/6\n",
      "790/790 [==============================] - 11s 14ms/step - loss: 0.2156 - acc: 0.9257 - val_loss: 0.1790 - val_acc: 0.9439\n",
      "Epoch 4/6\n",
      "790/790 [==============================] - 11s 14ms/step - loss: 0.1513 - acc: 0.9509 - val_loss: 0.1331 - val_acc: 0.9549\n",
      "Epoch 5/6\n",
      "790/790 [==============================] - 11s 14ms/step - loss: 0.1257 - acc: 0.9613 - val_loss: 0.0991 - val_acc: 0.9695\n",
      "Epoch 6/6\n",
      "790/790 [==============================] - 11s 14ms/step - loss: 0.1134 - acc: 0.9651 - val_loss: 0.0941 - val_acc: 0.9708\n"
     ]
    }
   ],
   "source": [
    "history_wd2 = model_wd2.fit(\n",
    "    X2_wd_train_train, y2_wd_train_train,\n",
    "    epochs=6,\n",
    "    batch_size=64,\n",
    "    validation_data=(X2_wd_train_val,y2_wd_train_val),\n",
    "    shuffle=True,\n",
    "    workers=1\n",
    ")"
   ]
  },
  {
   "cell_type": "code",
   "execution_count": 43,
   "metadata": {
    "colab": {
     "base_uri": "https://localhost:8080/",
     "height": 265
    },
    "id": "hqDJ6soSpXlG",
    "outputId": "8a49bae0-5481-4c26-94af-0112b440abda"
   },
   "outputs": [
    {
     "data": {
      "image/png": "[encoded data removed]",
      "text/plain": [
       "<Figure size 432x288 with 1 Axes>"
      ]
     },
     "metadata": {
      "needs_background": "light",
      "tags": []
     },
     "output_type": "display_data"
    }
   ],
   "source": [
    "plt.plot(history_wd2.history['loss'], label='train')\n",
    "plt.plot(history_wd2.history['val_loss'], label='test')\n",
    "plt.legend();"
   ]
  },
  {
   "cell_type": "code",
   "execution_count": 44,
   "metadata": {
    "colab": {
     "base_uri": "https://localhost:8080/",
     "height": 51
    },
    "id": "UogvW4N3pXlI",
    "outputId": "ee66d207-d92e-4875-dfa5-3d91886f101a"
   },
   "outputs": [
    {
     "name": "stdout",
     "output_type": "stream",
     "text": [
      "390/390 [==============================] - 2s 6ms/step - loss: 0.3193 - acc: 0.9018\n"
     ]
    },
    {
     "data": {
      "text/plain": [
       "[0.3193252682685852, 0.9017971754074097]"
      ]
     },
     "execution_count": 44,
     "metadata": {
      "tags": []
     },
     "output_type": "execute_result"
    }
   ],
   "source": [
    "model_wd2.evaluate(X2_wd_test,y2_wd_test)"
   ]
  },
  {
   "cell_type": "code",
   "execution_count": 47,
   "metadata": {
    "id": "eU_rRbEl7cNJ"
   },
   "outputs": [],
   "source": [
    "model_wd2.save('1002wd_lstm_md_val_sr80.h5')"
   ]
  },
  {
   "cell_type": "markdown",
   "metadata": {
    "id": "M1PV1kWLpXlK"
   },
   "source": [
    "- The above was from 80 window length was good.\n",
    "- Next, use the datasets reampled to (200,3) from (80,3), since the WIDSM and MS datasets need to have the same size to be combined.\n"
   ]
  },
  {
   "cell_type": "code",
   "execution_count": 48,
   "metadata": {
    "id": "johzl6kTpXlL"
   },
   "outputs": [],
   "source": [
    "#Splitting training/validation datasets after resampling, and train a model with datasets had size of (200,3)\n",
    "X2_wd_train_resample_train,X2_wd_train_resample_val,y2_wd_train_train,y2_wd_train_val = train_test_split(X2_wd_train_resample,y2_wd_train,stratify=y2_wd_train,test_size = 0.1)"
   ]
  },
  {
   "cell_type": "code",
   "execution_count": 49,
   "metadata": {
    "id": "GG8w3SS7pXlM"
   },
   "outputs": [],
   "source": [
    "model_wd3 = keras.Sequential()\n",
    "model_wd3.add(\n",
    "    keras.layers.Bidirectional(\n",
    "      keras.layers.LSTM(\n",
    "          units=128, \n",
    "          input_shape=[X2_wd_train_resample_train.shape[1], X2_wd_train_resample_train.shape[2]]\n",
    "      )\n",
    "    )\n",
    ")\n",
    "model_wd3.add(keras.layers.Dropout(rate=0.5))\n",
    "model_wd3.add(keras.layers.Dense(units=128, activation='relu'))\n",
    "model_wd3.add(keras.layers.Dense(y_wd_train.shape[1], activation='softmax'))\n",
    "model_wd3.compile(loss='categorical_crossentropy', optimizer='adam', metrics=['acc'])"
   ]
  },
  {
   "cell_type": "code",
   "execution_count": 50,
   "metadata": {
    "colab": {
     "base_uri": "https://localhost:8080/",
     "height": 221
    },
    "id": "-_b6MSiWpXlO",
    "outputId": "7123992b-5444-4543-e50d-0c3e79d9b5b8"
   },
   "outputs": [
    {
     "name": "stdout",
     "output_type": "stream",
     "text": [
      "Epoch 1/6\n",
      "790/790 [==============================] - 25s 32ms/step - loss: 0.7661 - acc: 0.7351 - val_loss: 0.5205 - val_acc: 0.8161\n",
      "Epoch 2/6\n",
      "790/790 [==============================] - 24s 31ms/step - loss: 0.4220 - acc: 0.8454 - val_loss: 0.3883 - val_acc: 0.8592\n",
      "Epoch 3/6\n",
      "790/790 [==============================] - 25s 31ms/step - loss: 0.4614 - acc: 0.8375 - val_loss: 0.8407 - val_acc: 0.7133\n",
      "Epoch 4/6\n",
      "790/790 [==============================] - 25s 31ms/step - loss: 0.4499 - acc: 0.8432 - val_loss: 0.3997 - val_acc: 0.8619\n",
      "Epoch 5/6\n",
      "790/790 [==============================] - 24s 31ms/step - loss: 0.3940 - acc: 0.8630 - val_loss: 0.3243 - val_acc: 0.8890\n",
      "Epoch 6/6\n",
      "790/790 [==============================] - 24s 31ms/step - loss: 0.3146 - acc: 0.8905 - val_loss: 0.2242 - val_acc: 0.9259\n"
     ]
    }
   ],
   "source": [
    "history_wd3 = model_wd3.fit(\n",
    "    X2_wd_train_resample_train, y2_wd_train_train,\n",
    "    epochs=6,\n",
    "    batch_size=64,\n",
    "#     validation_split=0.1,\n",
    "    validation_data=(X2_wd_train_resample_val,y2_wd_train_val),\n",
    "    shuffle=True,\n",
    "    workers=1\n",
    ")"
   ]
  },
  {
   "cell_type": "code",
   "execution_count": 51,
   "metadata": {
    "colab": {
     "base_uri": "https://localhost:8080/",
     "height": 265
    },
    "id": "2qc4mI3gpXlQ",
    "outputId": "daf337d8-92cc-4189-8d39-d0a445ce907e"
   },
   "outputs": [
    {
     "data": {
      "image/png": "[encoded data removed]",
      "text/plain": [
       "<Figure size 432x288 with 1 Axes>"
      ]
     },
     "metadata": {
      "needs_background": "light",
      "tags": []
     },
     "output_type": "display_data"
    }
   ],
   "source": [
    "plt.plot(history_wd3.history['loss'], label='train')\n",
    "plt.plot(history_wd3.history['val_loss'], label='test')\n",
    "plt.legend();"
   ]
  },
  {
   "cell_type": "code",
   "execution_count": 53,
   "metadata": {
    "id": "MwkuyFJlpXlS"
   },
   "outputs": [],
   "source": [
    "model_wd3.save('1002wd_lstm_md_val_sr80_to200.h5')"
   ]
  },
  {
   "cell_type": "code",
   "execution_count": 52,
   "metadata": {
    "colab": {
     "base_uri": "https://localhost:8080/",
     "height": 51
    },
    "id": "9Dhq8aN_pXlV",
    "outputId": "3833e00d-4d6d-4261-8c08-a7e99378bfea"
   },
   "outputs": [
    {
     "name": "stdout",
     "output_type": "stream",
     "text": [
      "390/390 [==============================] - 4s 11ms/step - loss: 0.3939 - acc: 0.8992\n"
     ]
    },
    {
     "data": {
      "text/plain": [
       "[0.39392367005348206, 0.8992297649383545]"
      ]
     },
     "execution_count": 52,
     "metadata": {
      "tags": []
     },
     "output_type": "execute_result"
    }
   ],
   "source": [
    "model_wd3.evaluate(X2_wd_test_resample,y2_wd_test) # results are very close to 80 window size"
   ]
  },
  {
   "cell_type": "markdown",
   "metadata": {
    "id": "KX_o16U9pXlZ"
   },
   "source": [
    "**Summary**\n",
    "- The models built from datasets before and after resampling to the size of (200,3) are both good, and had close performance"
   ]
  },
  {
   "cell_type": "markdown",
   "metadata": {
    "id": "pVBZGPHtpXmk"
   },
   "source": [
    "<a name=\"2.2ml\"></a>\n",
    "#### 2.2 RNN LSTM models built from MS datasets"
   ]
  },
  {
   "cell_type": "code",
   "execution_count": 54,
   "metadata": {
    "id": "cHhMiKHtpXmm"
   },
   "outputs": [],
   "source": [
    "# Creating training and testing datasets used to build models by activities, and then merge all together\n",
    "X_ms_train = np.zeros((0,200,3))\n",
    "y_ms_train = np.zeros((0,1))\n",
    "X_ms_test = np.zeros((0,200,3))\n",
    "y_ms_test = np.zeros((0,1))\n",
    "for act in activity_list:\n",
    "    X1,y1,X2,y2 = create_train_test(time_steps=200,step=40,df_train=df_ms_train[df_ms_train['activity']==act],df_test=df_ms_test[df_ms_test['activity']==act],start=17,end=20)\n",
    "    X_ms_train = np.append(X_ms_train,X1,axis=0)\n",
    "    y_ms_train = np.append(y_ms_train,y1,axis=0)\n",
    "    X_ms_test = np.append(X_ms_test,X2,axis=0)\n",
    "    y_ms_test = np.append(y_ms_test,y2,axis=0)"
   ]
  },
  {
   "cell_type": "code",
   "execution_count": 55,
   "metadata": {
    "colab": {
     "base_uri": "https://localhost:8080/",
     "height": 34
    },
    "id": "dsQBH6jApXmo",
    "outputId": "f42f607d-3aa0-49c7-8adb-68e1240749e6"
   },
   "outputs": [
    {
     "name": "stdout",
     "output_type": "stream",
     "text": [
      "(24783, 200, 3) (24783, 1) (10483, 200, 3) (10483, 1)\n"
     ]
    }
   ],
   "source": [
    "print(X_ms_train.shape, y_ms_train.shape, X_ms_test.shape,y_ms_test.shape)"
   ]
  },
  {
   "cell_type": "code",
   "execution_count": 56,
   "metadata": {
    "id": "huFSwrMApXmp"
   },
   "outputs": [],
   "source": [
    "enc = OneHotEncoder(handle_unknown='ignore', sparse=False)\n",
    "\n",
    "enc = enc.fit(y_ms_train)\n",
    "\n",
    "y_ms_train = enc.transform(y_ms_train)\n",
    "y_ms_test = enc.transform(y_ms_test)"
   ]
  },
  {
   "cell_type": "code",
   "execution_count": 57,
   "metadata": {
    "id": "3fl6qm8cpXmq"
   },
   "outputs": [],
   "source": [
    "# Splitting training and valication datasets used to build models for MS datasets\n",
    "X_ms_train_train,X_ms_train_val,y_ms_train_train,y_ms_train_val = train_test_split(X_ms_train,y_ms_train,stratify=y_ms_train,test_size = 0.1)"
   ]
  },
  {
   "cell_type": "code",
   "execution_count": 78,
   "metadata": {
    "id": "5x7wtqnMpXms"
   },
   "outputs": [],
   "source": [
    "model_ms = keras.Sequential()\n",
    "model_ms.add(\n",
    "    keras.layers.Bidirectional(\n",
    "      keras.layers.LSTM(\n",
    "          units=128, \n",
    "          input_shape=[X_ms_train_train.shape[1], X_ms_train_train.shape[2]]\n",
    "      )\n",
    "    )\n",
    ")\n",
    "model_ms.add(keras.layers.Dropout(rate=0.5))\n",
    "model_ms.add(keras.layers.Dense(units=128, activation='relu'))\n",
    "model_ms.add(keras.layers.Dense(y_ms_train_train.shape[1], activation='softmax'))\n",
    "model_ms.compile(loss='categorical_crossentropy', optimizer='adam', metrics=['acc'])"
   ]
  },
  {
   "cell_type": "code",
   "execution_count": 79,
   "metadata": {
    "colab": {
     "base_uri": "https://localhost:8080/",
     "height": 357
    },
    "id": "vdzjzGgNpXmt",
    "outputId": "dfc04e02-d5ce-4077-d1d6-c13f32d8369d"
   },
   "outputs": [
    {
     "name": "stdout",
     "output_type": "stream",
     "text": [
      "Epoch 1/10\n",
      "349/349 [==============================] - 11s 33ms/step - loss: 0.8548 - acc: 0.6892 - val_loss: 0.6090 - val_acc: 0.7564\n",
      "Epoch 2/10\n",
      "349/349 [==============================] - 11s 31ms/step - loss: 0.5936 - acc: 0.7823 - val_loss: 0.6395 - val_acc: 0.7438\n",
      "Epoch 3/10\n",
      "349/349 [==============================] - 11s 31ms/step - loss: 0.5902 - acc: 0.7690 - val_loss: 0.8999 - val_acc: 0.7104\n",
      "Epoch 4/10\n",
      "349/349 [==============================] - 11s 31ms/step - loss: 0.6638 - acc: 0.7403 - val_loss: 0.2758 - val_acc: 0.8891\n",
      "Epoch 5/10\n",
      "349/349 [==============================] - 11s 31ms/step - loss: 0.4321 - acc: 0.8438 - val_loss: 0.2916 - val_acc: 0.9004\n",
      "Epoch 6/10\n",
      "349/349 [==============================] - 11s 31ms/step - loss: 0.2598 - acc: 0.9039 - val_loss: 0.2289 - val_acc: 0.9254\n",
      "Epoch 7/10\n",
      "349/349 [==============================] - 11s 31ms/step - loss: 0.1953 - acc: 0.9341 - val_loss: 0.1307 - val_acc: 0.9597\n",
      "Epoch 8/10\n",
      "349/349 [==============================] - 11s 31ms/step - loss: 0.2733 - acc: 0.9082 - val_loss: 0.4812 - val_acc: 0.8249\n",
      "Epoch 9/10\n",
      "349/349 [==============================] - 11s 31ms/step - loss: 0.2176 - acc: 0.9288 - val_loss: 0.1357 - val_acc: 0.9580\n",
      "Epoch 10/10\n",
      "349/349 [==============================] - 11s 31ms/step - loss: 0.1714 - acc: 0.9465 - val_loss: 0.1487 - val_acc: 0.9516\n"
     ]
    }
   ],
   "source": [
    "history_ms = model_ms.fit(\n",
    "    X_ms_train_train, y_ms_train_train,\n",
    "    epochs=10,\n",
    "    batch_size=64,\n",
    "    validation_data = (X_ms_train_val,y_ms_train_val),\n",
    "    shuffle=True\n",
    ")"
   ]
  },
  {
   "cell_type": "code",
   "execution_count": 80,
   "metadata": {
    "colab": {
     "base_uri": "https://localhost:8080/",
     "height": 265
    },
    "id": "uV4sXbOupXmu",
    "outputId": "167fafeb-4aff-4a60-997b-cf95d094828d"
   },
   "outputs": [
    {
     "data": {
      "image/png": "[encoded data removed]",
      "text/plain": [
       "<Figure size 432x288 with 1 Axes>"
      ]
     },
     "metadata": {
      "needs_background": "light",
      "tags": []
     },
     "output_type": "display_data"
    }
   ],
   "source": [
    "plt.plot(history_ms.history['loss'], label='train')\n",
    "plt.plot(history_ms.history['val_loss'], label='test')\n",
    "plt.legend();"
   ]
  },
  {
   "cell_type": "code",
   "execution_count": 81,
   "metadata": {
    "colab": {
     "base_uri": "https://localhost:8080/",
     "height": 51
    },
    "id": "8XQSjBYgpXmv",
    "outputId": "afa6d03c-a53f-42e2-c39d-aa0259e33818"
   },
   "outputs": [
    {
     "name": "stdout",
     "output_type": "stream",
     "text": [
      "328/328 [==============================] - 4s 11ms/step - loss: 0.6893 - acc: 0.8097\n"
     ]
    },
    {
     "data": {
      "text/plain": [
       "[0.6893343329429626, 0.8096919059753418]"
      ]
     },
     "execution_count": 81,
     "metadata": {
      "tags": []
     },
     "output_type": "execute_result"
    }
   ],
   "source": [
    "model_ms.evaluate(X_ms_test,y_ms_test)"
   ]
  },
  {
   "cell_type": "code",
   "execution_count": 88,
   "metadata": {
    "id": "CI-IFYwTpXmw"
   },
   "outputs": [],
   "source": [
    "model_ms.save('1002ms_lstm_md.h5')"
   ]
  },
  {
   "cell_type": "markdown",
   "metadata": {},
   "source": [
    "#### Comment\n",
    "Compared to the baseline model in section 3, the following two factors led to a better RNN LSTM models for MS datasets (Accuracy was increased from 0.80 to 0.81):\n",
    "- Creating train/test datasets by activity before merging into one big datasets\n",
    "- Splitting train/validation datasets by y stratify other than using the validation inside the model.fit()"
   ]
  },
  {
   "cell_type": "markdown",
   "metadata": {
    "id": "QV4EKsa9pXlc"
   },
   "source": [
    "<a name=\"2.2ml\"></a>\n",
    "#### 2.3 RNN LSTM models built the combined MS and WISDM datasets"
   ]
  },
  {
   "cell_type": "code",
   "execution_count": 89,
   "metadata": {
    "colab": {
     "base_uri": "https://localhost:8080/",
     "height": 34
    },
    "id": "QIBucyHupXld",
    "outputId": "a9e0da9c-e05f-48d1-b1d7-ddcb850da99e"
   },
   "outputs": [
    {
     "name": "stdout",
     "output_type": "stream",
     "text": [
      "(50508, 6) (22304, 6)\n"
     ]
    }
   ],
   "source": [
    "print(y2_wd_train_train.shape, y_ms_train_train.shape)"
   ]
  },
  {
   "cell_type": "code",
   "execution_count": 90,
   "metadata": {
    "colab": {
     "base_uri": "https://localhost:8080/",
     "height": 34
    },
    "id": "FuD4E927pXlh",
    "outputId": "97a24671-1948-40b3-ae45-4f79485d8b78"
   },
   "outputs": [
    {
     "name": "stdout",
     "output_type": "stream",
     "text": [
      "(72812, 200, 3) (72812, 6)\n"
     ]
    }
   ],
   "source": [
    "X_cb_train = np.concatenate((X2_wd_train_resample_train,X_ms_train_train),axis = 0 )\n",
    "y_cb_train = np.concatenate((y2_wd_train_train,y_ms_train_train),axis = 0 )\n",
    "print(X_cb_train.shape,y_cb_train.shape)"
   ]
  },
  {
   "cell_type": "code",
   "execution_count": 91,
   "metadata": {
    "colab": {
     "base_uri": "https://localhost:8080/",
     "height": 34
    },
    "id": "ekZyfz3epXlj",
    "outputId": "d97a437b-2b85-4f5b-de93-14b8a6498d24"
   },
   "outputs": [
    {
     "name": "stdout",
     "output_type": "stream",
     "text": [
      "(12464, 6) (10483, 6)\n"
     ]
    }
   ],
   "source": [
    "print(y2_wd_test.shape, y_ms_test.shape)"
   ]
  },
  {
   "cell_type": "code",
   "execution_count": 92,
   "metadata": {
    "colab": {
     "base_uri": "https://localhost:8080/",
     "height": 34
    },
    "id": "F1V_CTK3pXll",
    "outputId": "c806eaf0-8036-4123-981b-187f1e0c511b"
   },
   "outputs": [
    {
     "name": "stdout",
     "output_type": "stream",
     "text": [
      "(22947, 200, 3) (22947, 6)\n"
     ]
    }
   ],
   "source": [
    "X_cb_test = np.concatenate((X2_wd_test_resample,X_ms_test),axis = 0 )\n",
    "y_cb_test = np.concatenate((y2_wd_test,y_ms_test),axis = 0 )\n",
    "print(X_cb_test.shape,y_cb_test.shape)"
   ]
  },
  {
   "cell_type": "code",
   "execution_count": 94,
   "metadata": {
    "colab": {
     "base_uri": "https://localhost:8080/",
     "height": 34
    },
    "id": "LIbAc8y8pXlm",
    "outputId": "17897e4c-228c-4129-e24c-5344070c442d"
   },
   "outputs": [
    {
     "name": "stdout",
     "output_type": "stream",
     "text": [
      "(5612, 6) (2479, 6)\n"
     ]
    }
   ],
   "source": [
    "print(y2_wd_train_val.shape, y_ms_train_val.shape)"
   ]
  },
  {
   "cell_type": "code",
   "execution_count": 95,
   "metadata": {
    "colab": {
     "base_uri": "https://localhost:8080/",
     "height": 34
    },
    "id": "kJ6ms5IjpXlo",
    "outputId": "f66c3afb-402f-4e97-eeed-7217691d14a5"
   },
   "outputs": [
    {
     "name": "stdout",
     "output_type": "stream",
     "text": [
      "(8091, 200, 3) (8091, 6)\n"
     ]
    }
   ],
   "source": [
    "X_cb_val = np.concatenate((X2_wd_train_resample_val,X_ms_train_val),axis = 0 )\n",
    "y_cb_val = np.concatenate((y2_wd_train_val,y_ms_train_val),axis = 0 )\n",
    "print(X_cb_val.shape,y_cb_val.shape)"
   ]
  },
  {
   "cell_type": "code",
   "execution_count": 96,
   "metadata": {
    "id": "wFyrRV-KpXlq"
   },
   "outputs": [],
   "source": [
    "model_wd5 = keras.Sequential()\n",
    "model_wd5.add(\n",
    "    keras.layers.Bidirectional(\n",
    "      keras.layers.LSTM(\n",
    "          units=128, \n",
    "          input_shape=[X_cb_train.shape[1], X_cb_train.shape[2]]\n",
    "      )\n",
    "    )\n",
    ")\n",
    "model_wd5.add(keras.layers.Dropout(rate=0.5))\n",
    "model_wd5.add(keras.layers.Dense(units=128, activation='relu'))\n",
    "model_wd5.add(keras.layers.Dense(y_cb_train.shape[1], activation='softmax'))\n",
    "model_wd5.compile(loss='categorical_crossentropy', optimizer='adam', metrics=['acc'])"
   ]
  },
  {
   "cell_type": "code",
   "execution_count": 97,
   "metadata": {
    "colab": {
     "base_uri": "https://localhost:8080/",
     "height": 221
    },
    "id": "6hQqqRhXpXlr",
    "outputId": "d51e3580-155b-44ad-8b56-724269db8230"
   },
   "outputs": [
    {
     "name": "stdout",
     "output_type": "stream",
     "text": [
      "Epoch 1/6\n",
      "1138/1138 [==============================] - 36s 32ms/step - loss: 0.6784 - acc: 0.7635 - val_loss: 0.3453 - val_acc: 0.8708\n",
      "Epoch 2/6\n",
      "1138/1138 [==============================] - 35s 31ms/step - loss: 0.3554 - acc: 0.8755 - val_loss: 0.3986 - val_acc: 0.8616\n",
      "Epoch 3/6\n",
      "1138/1138 [==============================] - 35s 31ms/step - loss: 0.3364 - acc: 0.8770 - val_loss: 0.2130 - val_acc: 0.9275\n",
      "Epoch 4/6\n",
      "1138/1138 [==============================] - 35s 31ms/step - loss: 0.3320 - acc: 0.8806 - val_loss: 0.1924 - val_acc: 0.9323\n",
      "Epoch 5/6\n",
      "1138/1138 [==============================] - 35s 31ms/step - loss: 0.2346 - acc: 0.9192 - val_loss: 0.2316 - val_acc: 0.9203\n",
      "Epoch 6/6\n",
      "1138/1138 [==============================] - 35s 31ms/step - loss: 0.3252 - acc: 0.8896 - val_loss: 0.2180 - val_acc: 0.9289\n"
     ]
    }
   ],
   "source": [
    "history_wd5 = model_wd5.fit(\n",
    "    X_cb_train, y_cb_train,\n",
    "    epochs=6,\n",
    "    batch_size=64,\n",
    "    validation_data=(X_cb_val,y_cb_val),\n",
    "    shuffle=True,\n",
    "    workers=1\n",
    ")"
   ]
  },
  {
   "cell_type": "code",
   "execution_count": 98,
   "metadata": {
    "colab": {
     "base_uri": "https://localhost:8080/",
     "height": 51
    },
    "id": "hS9J-zyfpXly",
    "outputId": "b0452232-c3bf-4a6b-ea5f-7efea756c2c9"
   },
   "outputs": [
    {
     "name": "stdout",
     "output_type": "stream",
     "text": [
      "718/718 [==============================] - 8s 11ms/step - loss: 0.4184 - acc: 0.8688\n"
     ]
    },
    {
     "data": {
      "text/plain": [
       "[0.4183962941169739, 0.8688281774520874]"
      ]
     },
     "execution_count": 98,
     "metadata": {
      "tags": []
     },
     "output_type": "execute_result"
    }
   ],
   "source": [
    "#evaluate the combined testing datasets\n",
    "model_wd5.evaluate(X_cb_test,y_cb_test)"
   ]
  },
  {
   "cell_type": "code",
   "execution_count": 99,
   "metadata": {
    "colab": {
     "base_uri": "https://localhost:8080/",
     "height": 51
    },
    "id": "2SFiznS0pXlz",
    "outputId": "fc3bf758-e7dc-4115-f3dd-94ff77f71934"
   },
   "outputs": [
    {
     "name": "stdout",
     "output_type": "stream",
     "text": [
      "328/328 [==============================] - 3s 11ms/step - loss: 0.4086 - acc: 0.8550\n"
     ]
    },
    {
     "data": {
      "text/plain": [
       "[0.40858426690101624, 0.8550033569335938]"
      ]
     },
     "execution_count": 99,
     "metadata": {
      "tags": []
     },
     "output_type": "execute_result"
    }
   ],
   "source": [
    "#evaluate the ms testing datasets\n",
    "model_wd5.evaluate(X_ms_test,y_ms_test)"
   ]
  },
  {
   "cell_type": "code",
   "execution_count": 100,
   "metadata": {
    "colab": {
     "base_uri": "https://localhost:8080/",
     "height": 51
    },
    "id": "GSWwwgmXpXl1",
    "outputId": "56f1fae6-2ef7-48cc-bf87-85d1f4bd0828"
   },
   "outputs": [
    {
     "name": "stdout",
     "output_type": "stream",
     "text": [
      "390/390 [==============================] - 4s 11ms/step - loss: 0.4266 - acc: 0.8805\n"
     ]
    },
    {
     "data": {
      "text/plain": [
       "[0.4266488254070282, 0.880455732345581]"
      ]
     },
     "execution_count": 100,
     "metadata": {
      "tags": []
     },
     "output_type": "execute_result"
    }
   ],
   "source": [
    "#evaluate the WISDM testing datasets\n",
    "model_wd5.evaluate(X2_wd_test_resample,y2_wd_test)"
   ]
  },
  {
   "cell_type": "code",
   "execution_count": 114,
   "metadata": {
    "id": "dmFHzOSLpXl-"
   },
   "outputs": [],
   "source": [
    "model_wd5.save('1002cb_lstm_md.h5')"
   ]
  },
  {
   "cell_type": "markdown",
   "metadata": {
    "id": "P8uxdJVupXmA"
   },
   "source": [
    "#### Comments\n",
    "- The RNN LSTM models built from the combined datasets are listed below. Here the comparisons are between the baseline flow and the optimized flow. It is clear to see that the models were improved by using the optimized flow to create the model building datasets. \n",
    "| Models      \t| WISDM dataset \t| MS dataset  \t| Combined dataset \t|\n",
    "|-------------\t|-------\t|------\t|----------\t|\n",
    "| Baseline flow   \t| 0.83  \t| 0.73 \t| 0.77     \t|\n",
    "| Optimized flow \t| 0.88  \t| 0.86 \t| 0.87     \t|\n",
    "\n",
    "- The RNN LSTM model built from the combined datasets performed as good as the corresponding models from each individual datasets\n",
    "- This indicated that building the cross platform classification models were feasiable"
   ]
  },
  {
   "cell_type": "markdown",
   "metadata": {
    "id": "UhhWdQ6EpXmy"
   },
   "source": [
    "<a name=\"3ml\"></a>\n",
    "### 3. CNN classification models"
   ]
  },
  {
   "cell_type": "code",
   "execution_count": 186,
   "metadata": {
    "id": "AWU7xA72MuNp"
   },
   "outputs": [],
   "source": [
    "# Define a function which builds a CNN classification model.\n",
    "def build_cnn_model_2lay(x_train = X_cb_train_rs,y_train = y_cb_train, x_val = X_cb_val_rs, y_val = y_cb_val,epo_num=10):\n",
    "    # \n",
    "    #INPUT: x_train -> the training dataset\n",
    "    #       y_train -> the labels for the training dataset\n",
    "    #       x_val  -> the validation dataset\n",
    "    #       y_val  -> the labels for the validation dataset\n",
    "    #       epo_num -> number of epochs for building the CNN model\n",
    "    \n",
    "    #OUTPUT: history -> histroy of the model fitting\n",
    "    #        cnn_model - the CNN model\n",
    "    #The structures of the CNN were hard coded in the function below which have two convolutional layers\n",
    "    \n",
    "    # Instantiate a CNN.\n",
    "    cnn_model = Sequential()\n",
    "    # Add a convolutional layer.\n",
    "\n",
    "    cnn_model.add(Conv2D(padding = 'same',\n",
    "                        filters = 128,  # number of filters\n",
    "                        kernel_size = (3,3),# height/width of filter\n",
    "                        activation = 'relu', # activation function \n",
    "                        input_shape = (x_train.shape[1],x_train.shape[2],x_train.shape[3]) # shape of input (image)\n",
    "    )) \n",
    "\n",
    "    cnn_model.add(Conv2D(64,\n",
    "                          kernel_size=(3,3),\n",
    "                        padding = 'same',\n",
    "                          activation='relu'))\n",
    "    # Add a pooling layer.\n",
    "    cnn_model.add(MaxPooling2D(pool_size=(2,1))) # dimensions of region of pooling\n",
    "\n",
    "    # Add another convolutional layer.\n",
    "    cnn_model.add(Conv2D(64,\n",
    "                          kernel_size=(3,3),\n",
    "                        padding = 'same',\n",
    "                          activation='relu'))\n",
    "\n",
    "    cnn_model.add(Conv2D(32,\n",
    "                          kernel_size=(3,3),\n",
    "                        padding = 'same',\n",
    "                          activation='relu'))\n",
    "    # Add another pooling layer.\n",
    "    cnn_model.add(MaxPooling2D(pool_size=(2,1)))\n",
    "\n",
    "    # Flatten to go from the \"box\" to the vertical line of nodes\n",
    "    cnn_model.add(Flatten())\n",
    "\n",
    "    # Add a densely-connected layer with 64 neurons.\n",
    "    cnn_model.add(Dense(64, activation='relu'))\n",
    "\n",
    "    #Try to avoid overfitting!\n",
    "    cnn_model.add(Dropout(0.4))\n",
    "\n",
    "    # Add a densely-connected layer with 32 neurons.\n",
    "    cnn_model.add(Dense(32, activation='relu'))\n",
    "\n",
    "    # Try to avoid overfitting!\n",
    "    cnn_model.add(Dropout(0.4))\n",
    "\n",
    "    # Add a final layer\n",
    "    cnn_model.add(Dense(y_train.shape[1], activation='softmax'))\n",
    "\n",
    "    # Compile model\n",
    "    cnn_model.compile(loss='categorical_crossentropy',\n",
    "                        optimizer='adam',\n",
    "                        metrics=['accuracy'])\n",
    "    # Fit model on training data\n",
    "    history = cnn_model.fit(x_train,\n",
    "                              y_train,\n",
    "                              batch_size=128,\n",
    "                              validation_data=(x_val, y_val),\n",
    "                              epochs=epo_num,\n",
    "                              verbose=1)\n",
    "    return history, cnn_model"
   ]
  },
  {
   "cell_type": "code",
   "execution_count": 185,
   "metadata": {
    "id": "GTjWzvX3MuU9"
   },
   "outputs": [],
   "source": [
    "def build_cnn_model_3lay(x_train = X_cb_train_rs,y_train = y_cb_train, x_val = X_cb_val_rs, y_val = y_cb_val,epo_num=10):\n",
    "    # \n",
    "    #INPUT: x_train -> the training dataset\n",
    "    #       y_train -> the labels for the training dataset\n",
    "    #       x_val  -> the validation dataset\n",
    "    #       y_val  -> the labels for the validation dataset\n",
    "    #       epo_num -> number of epochs for building the CNN model\n",
    "    \n",
    "    #OUTPUT: history -> histroy of the model fitting\n",
    "    #        cnn_model - the CNN model\n",
    "    #The structures of the CNN were hard coded in the function below which have three convolutional layers\n",
    "    \n",
    "    \n",
    "    # Instantiate a CNN.\n",
    "    cnn_model = Sequential()\n",
    "    # Add a convolutional layer.\n",
    "\n",
    "    cnn_model.add(Conv2D(padding = 'same',\n",
    "                        filters = 128,  # number of filters\n",
    "                        kernel_size = (3,3),# height/width of filter\n",
    "                        activation = 'relu', # activation function \n",
    "                        input_shape = (x_train.shape[1],x_train.shape[2],x_train.shape[3]) # shape of input (image)\n",
    "    )) \n",
    "\n",
    "    cnn_model.add(Conv2D(64,\n",
    "                          kernel_size=(3,3),\n",
    "                        padding = 'same',\n",
    "                          activation='relu'))\n",
    "    # Add a pooling layer.\n",
    "    cnn_model.add(MaxPooling2D(pool_size=(2,1))) # dimensions of region of pooling\n",
    "\n",
    "    # Add another convolutional layer.\n",
    "    cnn_model.add(Conv2D(64,\n",
    "                          kernel_size=(3,3),\n",
    "                        padding = 'same',\n",
    "                          activation='relu'))\n",
    "\n",
    "    cnn_model.add(Conv2D(32,\n",
    "                          kernel_size=(3,3),\n",
    "                        padding = 'same',\n",
    "                          activation='relu'))\n",
    "    # Add another pooling layer.\n",
    "    cnn_model.add(MaxPooling2D(pool_size=(2,1)))\n",
    "\n",
    "    # Add another convolutional layer.\n",
    "    cnn_model.add(Conv2D(32,\n",
    "                          kernel_size=(3,3),\n",
    "                        padding = 'same',\n",
    "                          activation='relu'))\n",
    "\n",
    "    cnn_model.add(Conv2D(16,\n",
    "                          kernel_size=(3,3),\n",
    "                        padding = 'same',\n",
    "                          activation='relu'))\n",
    "    # Add another pooling layer.\n",
    "    cnn_model.add(MaxPooling2D(pool_size=(2,1)))\n",
    "\n",
    "     # Flatten to go from the \"box\" to the vertical line of nodes\n",
    "    cnn_model.add(Flatten())\n",
    "\n",
    "    # Add a densely-connected layer with 64 neurons.\n",
    "    cnn_model.add(Dense(64, activation='relu'))\n",
    "\n",
    "    #Try to avoid overfitting!\n",
    "    cnn_model.add(Dropout(0.4))\n",
    "\n",
    "    # Add a densely-connected layer with 32 neurons.\n",
    "    cnn_model.add(Dense(32, activation='relu'))\n",
    "\n",
    "    # Try to avoid overfitting!\n",
    "    cnn_model.add(Dropout(0.4))\n",
    "\n",
    "    # Add a final layer\n",
    "    cnn_model.add(Dense(y_train.shape[1], activation='softmax'))\n",
    "\n",
    "    # Compile model\n",
    "    cnn_model.compile(loss='categorical_crossentropy',\n",
    "                        optimizer='adam',\n",
    "                        metrics=['accuracy'])\n",
    "    # Fit model on training data\n",
    "    history = cnn_model.fit(x_train,\n",
    "                              y_train,\n",
    "                              batch_size=128,\n",
    "                              validation_data=(x_val, y_val),\n",
    "                              epochs=epo_num,\n",
    "                              verbose=1)\n",
    "    return history, cnn_model"
   ]
  },
  {
   "cell_type": "markdown",
   "metadata": {},
   "source": [
    "<a name=\"3.1ml\"></a>\n",
    "#### 3.1 CNN models built from WISDM datasets"
   ]
  },
  {
   "cell_type": "code",
   "execution_count": 111,
   "metadata": {
    "id": "Fya1w939QYFP"
   },
   "outputs": [],
   "source": [
    "# Reshape the data for CNN models\n",
    "X_wd_train_train_rs = np.array(X2_wd_train_resample_train).reshape(X2_wd_train_resample_train.shape[0],X2_wd_train_resample_train.shape[1],X2_wd_train_resample_train.shape[2],1)\n",
    "X_wd_train_val_rs = np.array(X2_wd_train_resample_val).reshape(X2_wd_train_resample_val.shape[0],X2_wd_train_resample_val.shape[1],X2_wd_train_resample_val.shape[2],1)\n",
    "X_wd_test_rs = np.array(X2_wd_test_resample).reshape(X2_wd_test_resample.shape[0],X2_wd_test_resample.shape[1],X2_wd_test_resample.shape[2],1)"
   ]
  },
  {
   "cell_type": "code",
   "execution_count": 128,
   "metadata": {
    "colab": {
     "base_uri": "https://localhost:8080/",
     "height": 357
    },
    "id": "VerJzgkMQYIb",
    "outputId": "e6ad7bb9-a2ad-4816-c355-f53bfecceb66"
   },
   "outputs": [
    {
     "name": "stdout",
     "output_type": "stream",
     "text": [
      "Epoch 1/10\n",
      "395/395 [==============================] - 10s 25ms/step - loss: 0.6428 - accuracy: 0.7590 - val_loss: 0.2505 - val_accuracy: 0.8936\n",
      "Epoch 2/10\n",
      "395/395 [==============================] - 9s 23ms/step - loss: 0.2801 - accuracy: 0.8862 - val_loss: 0.2180 - val_accuracy: 0.9405\n",
      "Epoch 3/10\n",
      "395/395 [==============================] - 9s 23ms/step - loss: 0.1912 - accuracy: 0.9249 - val_loss: 0.0934 - val_accuracy: 0.9674\n",
      "Epoch 4/10\n",
      "395/395 [==============================] - 9s 23ms/step - loss: 0.1447 - accuracy: 0.9493 - val_loss: 0.0676 - val_accuracy: 0.9799\n",
      "Epoch 5/10\n",
      "395/395 [==============================] - 9s 23ms/step - loss: 0.1023 - accuracy: 0.9669 - val_loss: 0.0606 - val_accuracy: 0.9827\n",
      "Epoch 6/10\n",
      "395/395 [==============================] - 9s 23ms/step - loss: 0.0922 - accuracy: 0.9708 - val_loss: 0.0751 - val_accuracy: 0.9763\n",
      "Epoch 7/10\n",
      "395/395 [==============================] - 9s 23ms/step - loss: 0.0705 - accuracy: 0.9774 - val_loss: 0.0535 - val_accuracy: 0.9838\n",
      "Epoch 8/10\n",
      "395/395 [==============================] - 9s 23ms/step - loss: 0.0607 - accuracy: 0.9809 - val_loss: 0.0665 - val_accuracy: 0.9792\n",
      "Epoch 9/10\n",
      "395/395 [==============================] - 9s 23ms/step - loss: 0.0607 - accuracy: 0.9809 - val_loss: 0.0356 - val_accuracy: 0.9875\n",
      "Epoch 10/10\n",
      "395/395 [==============================] - 9s 23ms/step - loss: 0.0469 - accuracy: 0.9864 - val_loss: 0.0320 - val_accuracy: 0.9904\n"
     ]
    }
   ],
   "source": [
    "# Build a 2 convolutional layer CNN, with 10 epochs\n",
    "history_cnn_wd1,cnn_model_wd1 = build_cnn_model_2lay(x_train = X_wd_train_train_rs,y_train=y2_wd_train_train,x_val=X_wd_train_val_rs,y_val=y2_wd_train_val)"
   ]
  },
  {
   "cell_type": "code",
   "execution_count": 129,
   "metadata": {
    "colab": {
     "base_uri": "https://localhost:8080/",
     "height": 51
    },
    "id": "CXzFf5ciYfeO",
    "outputId": "9174f514-2c89-4a98-9cd5-14c1e1a990a6"
   },
   "outputs": [
    {
     "name": "stdout",
     "output_type": "stream",
     "text": [
      "390/390 [==============================] - 2s 4ms/step - loss: 0.4194 - accuracy: 0.9318\n"
     ]
    },
    {
     "data": {
      "text/plain": [
       "[0.41935470700263977, 0.9318035840988159]"
      ]
     },
     "execution_count": 129,
     "metadata": {
      "tags": []
     },
     "output_type": "execute_result"
    }
   ],
   "source": [
    "#evaluate the wd testing datasets\n",
    "cnn_model_wd1.evaluate(X_wd_test_rs,y2_wd_test)"
   ]
  },
  {
   "cell_type": "code",
   "execution_count": 130,
   "metadata": {
    "colab": {
     "base_uri": "https://localhost:8080/",
     "height": 697
    },
    "id": "dKsfGcslYfkm",
    "outputId": "270887a5-04f8-4126-a77d-95468fb7d04e"
   },
   "outputs": [
    {
     "name": "stdout",
     "output_type": "stream",
     "text": [
      "Epoch 1/20\n",
      "395/395 [==============================] - 9s 23ms/step - loss: 0.7210 - accuracy: 0.7198 - val_loss: 0.2905 - val_accuracy: 0.8740\n",
      "Epoch 2/20\n",
      "395/395 [==============================] - 9s 23ms/step - loss: 0.3234 - accuracy: 0.8638 - val_loss: 0.2065 - val_accuracy: 0.9116\n",
      "Epoch 3/20\n",
      "395/395 [==============================] - 9s 23ms/step - loss: 0.2519 - accuracy: 0.8938 - val_loss: 0.1940 - val_accuracy: 0.9289\n",
      "Epoch 4/20\n",
      "395/395 [==============================] - 9s 23ms/step - loss: 0.2171 - accuracy: 0.9117 - val_loss: 0.1807 - val_accuracy: 0.9428\n",
      "Epoch 5/20\n",
      "395/395 [==============================] - 9s 23ms/step - loss: 0.1767 - accuracy: 0.9364 - val_loss: 0.1190 - val_accuracy: 0.9612\n",
      "Epoch 6/20\n",
      "395/395 [==============================] - 9s 23ms/step - loss: 0.1373 - accuracy: 0.9545 - val_loss: 0.0951 - val_accuracy: 0.9647\n",
      "Epoch 7/20\n",
      "395/395 [==============================] - 9s 23ms/step - loss: 0.1112 - accuracy: 0.9655 - val_loss: 0.0961 - val_accuracy: 0.9692\n",
      "Epoch 8/20\n",
      "395/395 [==============================] - 9s 23ms/step - loss: 0.0937 - accuracy: 0.9730 - val_loss: 0.0662 - val_accuracy: 0.9822\n",
      "Epoch 9/20\n",
      "395/395 [==============================] - 9s 23ms/step - loss: 0.0748 - accuracy: 0.9792 - val_loss: 0.0520 - val_accuracy: 0.9865\n",
      "Epoch 10/20\n",
      "395/395 [==============================] - 9s 23ms/step - loss: 0.0606 - accuracy: 0.9835 - val_loss: 0.0961 - val_accuracy: 0.9816\n",
      "Epoch 11/20\n",
      "395/395 [==============================] - 9s 23ms/step - loss: 0.0503 - accuracy: 0.9869 - val_loss: 0.0524 - val_accuracy: 0.9850\n",
      "Epoch 12/20\n",
      "395/395 [==============================] - 9s 23ms/step - loss: 0.0512 - accuracy: 0.9856 - val_loss: 0.0314 - val_accuracy: 0.9911\n",
      "Epoch 13/20\n",
      "395/395 [==============================] - 9s 23ms/step - loss: 0.0462 - accuracy: 0.9871 - val_loss: 0.0363 - val_accuracy: 0.9893\n",
      "Epoch 14/20\n",
      "395/395 [==============================] - 9s 23ms/step - loss: 0.0365 - accuracy: 0.9904 - val_loss: 0.0314 - val_accuracy: 0.9911\n",
      "Epoch 15/20\n",
      "395/395 [==============================] - 9s 23ms/step - loss: 0.0298 - accuracy: 0.9921 - val_loss: 0.0395 - val_accuracy: 0.9909\n",
      "Epoch 16/20\n",
      "395/395 [==============================] - 9s 23ms/step - loss: 0.0323 - accuracy: 0.9919 - val_loss: 0.0222 - val_accuracy: 0.9947\n",
      "Epoch 17/20\n",
      "395/395 [==============================] - 9s 23ms/step - loss: 0.0318 - accuracy: 0.9914 - val_loss: 0.0184 - val_accuracy: 0.9945\n",
      "Epoch 18/20\n",
      "395/395 [==============================] - 9s 23ms/step - loss: 0.0190 - accuracy: 0.9952 - val_loss: 0.0302 - val_accuracy: 0.9922\n",
      "Epoch 19/20\n",
      "395/395 [==============================] - 9s 23ms/step - loss: 0.0261 - accuracy: 0.9937 - val_loss: 0.0490 - val_accuracy: 0.9870\n",
      "Epoch 20/20\n",
      "395/395 [==============================] - 9s 23ms/step - loss: 0.0345 - accuracy: 0.9914 - val_loss: 0.0201 - val_accuracy: 0.9945\n"
     ]
    }
   ],
   "source": [
    "# Build a 2 convolutional layer CNN, with 20 epochs\n",
    "history_cnn_wd2,cnn_model_wd2 = build_cnn_model_2lay(x_train = X_wd_train_train_rs,y_train=y2_wd_train_train,x_val=X_wd_train_val_rs,y_val=y2_wd_train_val,epo_num=20)"
   ]
  },
  {
   "cell_type": "code",
   "execution_count": 131,
   "metadata": {
    "colab": {
     "base_uri": "https://localhost:8080/",
     "height": 51
    },
    "id": "VAYC-WbiZm4c",
    "outputId": "a9a52e7c-5735-4bcc-a411-c3a6a03cd35b"
   },
   "outputs": [
    {
     "name": "stdout",
     "output_type": "stream",
     "text": [
      "390/390 [==============================] - 2s 4ms/step - loss: 0.8600 - accuracy: 0.9081\n"
     ]
    },
    {
     "data": {
      "text/plain": [
       "[0.8600345849990845, 0.9080551862716675]"
      ]
     },
     "execution_count": 131,
     "metadata": {
      "tags": []
     },
     "output_type": "execute_result"
    }
   ],
   "source": [
    "#evaluate the wd testing datasets\n",
    "cnn_model_wd2.evaluate(X_wd_test_rs,y2_wd_test)"
   ]
  },
  {
   "cell_type": "code",
   "execution_count": 132,
   "metadata": {
    "colab": {
     "base_uri": "https://localhost:8080/",
     "height": 697
    },
    "id": "qTzEi9cHaDVj",
    "outputId": "9f8c4fb6-3532-40cc-ae89-2a76befc7b3b"
   },
   "outputs": [
    {
     "name": "stdout",
     "output_type": "stream",
     "text": [
      "Epoch 1/20\n",
      "395/395 [==============================] - 10s 25ms/step - loss: 0.6468 - accuracy: 0.7324 - val_loss: 0.2940 - val_accuracy: 0.8838\n",
      "Epoch 2/20\n",
      "395/395 [==============================] - 9s 24ms/step - loss: 0.2554 - accuracy: 0.8777 - val_loss: 0.1962 - val_accuracy: 0.9154\n",
      "Epoch 3/20\n",
      "395/395 [==============================] - 10s 24ms/step - loss: 0.2039 - accuracy: 0.9015 - val_loss: 0.1553 - val_accuracy: 0.9337\n",
      "Epoch 4/20\n",
      "395/395 [==============================] - 10s 24ms/step - loss: 0.1692 - accuracy: 0.9319 - val_loss: 0.1182 - val_accuracy: 0.9555\n",
      "Epoch 5/20\n",
      "395/395 [==============================] - 10s 24ms/step - loss: 0.1157 - accuracy: 0.9609 - val_loss: 0.0844 - val_accuracy: 0.9704\n",
      "Epoch 6/20\n",
      "395/395 [==============================] - 9s 24ms/step - loss: 0.0971 - accuracy: 0.9720 - val_loss: 0.0638 - val_accuracy: 0.9795\n",
      "Epoch 7/20\n",
      "395/395 [==============================] - 9s 24ms/step - loss: 0.0669 - accuracy: 0.9811 - val_loss: 0.0448 - val_accuracy: 0.9856\n",
      "Epoch 8/20\n",
      "395/395 [==============================] - 9s 24ms/step - loss: 0.0492 - accuracy: 0.9864 - val_loss: 0.0324 - val_accuracy: 0.9907\n",
      "Epoch 9/20\n",
      "395/395 [==============================] - 10s 24ms/step - loss: 0.0462 - accuracy: 0.9876 - val_loss: 0.0436 - val_accuracy: 0.9866\n",
      "Epoch 10/20\n",
      "395/395 [==============================] - 10s 24ms/step - loss: 0.0416 - accuracy: 0.9892 - val_loss: 0.0383 - val_accuracy: 0.9891\n",
      "Epoch 11/20\n",
      "395/395 [==============================] - 10s 24ms/step - loss: 0.0373 - accuracy: 0.9900 - val_loss: 0.0315 - val_accuracy: 0.9895\n",
      "Epoch 12/20\n",
      "395/395 [==============================] - 10s 24ms/step - loss: 0.0251 - accuracy: 0.9932 - val_loss: 0.0273 - val_accuracy: 0.9929\n",
      "Epoch 13/20\n",
      "395/395 [==============================] - 10s 24ms/step - loss: 0.0293 - accuracy: 0.9924 - val_loss: 0.0306 - val_accuracy: 0.9891\n",
      "Epoch 14/20\n",
      "395/395 [==============================] - 10s 24ms/step - loss: 0.0216 - accuracy: 0.9941 - val_loss: 0.0234 - val_accuracy: 0.9948\n",
      "Epoch 15/20\n",
      "395/395 [==============================] - 10s 24ms/step - loss: 0.0228 - accuracy: 0.9946 - val_loss: 0.0404 - val_accuracy: 0.9900\n",
      "Epoch 16/20\n",
      "395/395 [==============================] - 9s 24ms/step - loss: 0.0204 - accuracy: 0.9950 - val_loss: 0.0464 - val_accuracy: 0.9882\n",
      "Epoch 17/20\n",
      "395/395 [==============================] - 10s 24ms/step - loss: 0.0316 - accuracy: 0.9919 - val_loss: 0.0214 - val_accuracy: 0.9939\n",
      "Epoch 18/20\n",
      "395/395 [==============================] - 10s 24ms/step - loss: 0.0201 - accuracy: 0.9946 - val_loss: 0.0178 - val_accuracy: 0.9948\n",
      "Epoch 19/20\n",
      "395/395 [==============================] - 10s 24ms/step - loss: 0.0216 - accuracy: 0.9945 - val_loss: 0.0239 - val_accuracy: 0.9934\n",
      "Epoch 20/20\n",
      "395/395 [==============================] - 10s 24ms/step - loss: 0.0191 - accuracy: 0.9950 - val_loss: 0.0235 - val_accuracy: 0.9925\n"
     ]
    }
   ],
   "source": [
    "# Build a 3 convolutional layer CNN, with 20 epochs\n",
    "history_cnn_wd3,cnn_model_wd3 = build_cnn_model_3lay(x_train = X_wd_train_train_rs,y_train=y2_wd_train_train,x_val=X_wd_train_val_rs,y_val=y2_wd_train_val,epo_num=20)"
   ]
  },
  {
   "cell_type": "code",
   "execution_count": 133,
   "metadata": {
    "colab": {
     "base_uri": "https://localhost:8080/",
     "height": 51
    },
    "id": "ibn5LlsOaDeQ",
    "outputId": "ca1176f4-2900-424c-fbea-ed1f9f22d28a"
   },
   "outputs": [
    {
     "name": "stdout",
     "output_type": "stream",
     "text": [
      "390/390 [==============================] - 2s 4ms/step - loss: 0.6292 - accuracy: 0.9150\n"
     ]
    },
    {
     "data": {
      "text/plain": [
       "[0.6292020082473755, 0.9149550795555115]"
      ]
     },
     "execution_count": 133,
     "metadata": {
      "tags": []
     },
     "output_type": "execute_result"
    }
   ],
   "source": [
    "#evaluate the wd testing datasets\n",
    "cnn_model_wd3.evaluate(X_wd_test_rs,y2_wd_test)"
   ]
  },
  {
   "cell_type": "code",
   "execution_count": 135,
   "metadata": {
    "id": "5-wjaX3-baxp"
   },
   "outputs": [],
   "source": [
    "# Save the models\n",
    "cnn_model_wd1.save('1002wd_cnn_md_epo10_2lay.h5')\n",
    "cnn_model_wd2.save('1002wd_cnn_md_epo20_2lay.h5')\n",
    "cnn_model_wd3.save('1002wd_cnn_md_epo20_3lay.h5')"
   ]
  },
  {
   "cell_type": "markdown",
   "metadata": {
    "id": "w9X4TACMbbB_"
   },
   "source": [
    "<a name=\"3.2ml\"></a>\n",
    "#### 3.2 CNN models built from MS datasets"
   ]
  },
  {
   "cell_type": "code",
   "execution_count": 82,
   "metadata": {
    "id": "rtaslLjxpXmy"
   },
   "outputs": [],
   "source": [
    "# Reshape the data for CNN models\n",
    "X_ms_train_train_rs = np.array(X_ms_train_train).reshape(X_ms_train_train.shape[0],X_ms_train_train.shape[1],X_ms_train_train.shape[2],1)\n",
    "X_ms_train_val_rs = np.array(X_ms_train_val).reshape(X_ms_train_val.shape[0],X_ms_train_val.shape[1],X_ms_train_val.shape[2],1)\n",
    "X_ms_test_rs = np.array(X_ms_test).reshape(X_ms_test.shape[0],X_ms_test.shape[1],X_ms_test.shape[2],1)"
   ]
  },
  {
   "cell_type": "code",
   "execution_count": 83,
   "metadata": {
    "colab": {
     "base_uri": "https://localhost:8080/",
     "height": 34
    },
    "id": "-R0762LzpXmz",
    "outputId": "5d38ab9b-4ebc-40c1-a3aa-67e11e7c7c33"
   },
   "outputs": [
    {
     "name": "stdout",
     "output_type": "stream",
     "text": [
      "(22304, 200, 3, 1) (2479, 200, 3, 1) (10483, 200, 3, 1)\n"
     ]
    }
   ],
   "source": [
    "print(X_ms_train_train_rs.shape,X_ms_train_val_rs.shape,X_ms_test_rs.shape)"
   ]
  },
  {
   "cell_type": "code",
   "execution_count": 136,
   "metadata": {
    "colab": {
     "base_uri": "https://localhost:8080/",
     "height": 357
    },
    "id": "toS3z_QNQX9I",
    "outputId": "6a0e886e-5ba8-442e-d688-6690b6e06ba1"
   },
   "outputs": [
    {
     "name": "stdout",
     "output_type": "stream",
     "text": [
      "Epoch 1/10\n",
      "175/175 [==============================] - 4s 24ms/step - loss: 0.7872 - accuracy: 0.6934 - val_loss: 0.3433 - val_accuracy: 0.8612\n",
      "Epoch 2/10\n",
      "175/175 [==============================] - 4s 23ms/step - loss: 0.3414 - accuracy: 0.8702 - val_loss: 0.2437 - val_accuracy: 0.9246\n",
      "Epoch 3/10\n",
      "175/175 [==============================] - 4s 23ms/step - loss: 0.2409 - accuracy: 0.9112 - val_loss: 0.1489 - val_accuracy: 0.9637\n",
      "Epoch 4/10\n",
      "175/175 [==============================] - 4s 23ms/step - loss: 0.1902 - accuracy: 0.9397 - val_loss: 0.1196 - val_accuracy: 0.9625\n",
      "Epoch 5/10\n",
      "175/175 [==============================] - 4s 23ms/step - loss: 0.1469 - accuracy: 0.9580 - val_loss: 0.0751 - val_accuracy: 0.9742\n",
      "Epoch 6/10\n",
      "175/175 [==============================] - 4s 23ms/step - loss: 0.1165 - accuracy: 0.9664 - val_loss: 0.0579 - val_accuracy: 0.9839\n",
      "Epoch 7/10\n",
      "175/175 [==============================] - 4s 23ms/step - loss: 0.1146 - accuracy: 0.9651 - val_loss: 0.0691 - val_accuracy: 0.9758\n",
      "Epoch 8/10\n",
      "175/175 [==============================] - 4s 23ms/step - loss: 0.1017 - accuracy: 0.9697 - val_loss: 0.0509 - val_accuracy: 0.9867\n",
      "Epoch 9/10\n",
      "175/175 [==============================] - 4s 23ms/step - loss: 0.0829 - accuracy: 0.9751 - val_loss: 0.0463 - val_accuracy: 0.9867\n",
      "Epoch 10/10\n",
      "175/175 [==============================] - 4s 23ms/step - loss: 0.0847 - accuracy: 0.9744 - val_loss: 0.0480 - val_accuracy: 0.9891\n"
     ]
    }
   ],
   "source": [
    "# Build a 2 convolutional layer CNN, with 10 epochs\n",
    "history_cnn_ms1,cnn_model_ms1 = build_cnn_model_2lay(x_train = X_ms_train_train_rs,y_train=y_ms_train_train,x_val=X_ms_train_val_rs,y_val=y_ms_train_val)"
   ]
  },
  {
   "cell_type": "code",
   "execution_count": 137,
   "metadata": {
    "colab": {
     "base_uri": "https://localhost:8080/",
     "height": 697
    },
    "id": "VNLkjhA2b19s",
    "outputId": "817facf9-9012-4427-db97-9dcec834d324"
   },
   "outputs": [
    {
     "name": "stdout",
     "output_type": "stream",
     "text": [
      "Epoch 1/20\n",
      "175/175 [==============================] - 4s 24ms/step - loss: 0.6573 - accuracy: 0.7479 - val_loss: 0.1814 - val_accuracy: 0.9330\n",
      "Epoch 2/20\n",
      "175/175 [==============================] - 4s 23ms/step - loss: 0.2339 - accuracy: 0.9195 - val_loss: 0.0920 - val_accuracy: 0.9697\n",
      "Epoch 3/20\n",
      "175/175 [==============================] - 4s 23ms/step - loss: 0.1472 - accuracy: 0.9543 - val_loss: 0.0809 - val_accuracy: 0.9758\n",
      "Epoch 4/20\n",
      "175/175 [==============================] - 4s 23ms/step - loss: 0.1139 - accuracy: 0.9673 - val_loss: 0.0579 - val_accuracy: 0.9790\n",
      "Epoch 5/20\n",
      "175/175 [==============================] - 4s 23ms/step - loss: 0.0866 - accuracy: 0.9734 - val_loss: 0.0393 - val_accuracy: 0.9883\n",
      "Epoch 6/20\n",
      "175/175 [==============================] - 4s 23ms/step - loss: 0.0644 - accuracy: 0.9807 - val_loss: 0.0524 - val_accuracy: 0.9827\n",
      "Epoch 7/20\n",
      "175/175 [==============================] - 4s 23ms/step - loss: 0.0659 - accuracy: 0.9816 - val_loss: 0.0459 - val_accuracy: 0.9867\n",
      "Epoch 8/20\n",
      "175/175 [==============================] - 4s 23ms/step - loss: 0.0499 - accuracy: 0.9856 - val_loss: 0.0298 - val_accuracy: 0.9919\n",
      "Epoch 9/20\n",
      "175/175 [==============================] - 4s 23ms/step - loss: 0.0408 - accuracy: 0.9873 - val_loss: 0.0307 - val_accuracy: 0.9915\n",
      "Epoch 10/20\n",
      "175/175 [==============================] - 4s 23ms/step - loss: 0.0376 - accuracy: 0.9890 - val_loss: 0.0409 - val_accuracy: 0.9875\n",
      "Epoch 11/20\n",
      "175/175 [==============================] - 4s 23ms/step - loss: 0.0324 - accuracy: 0.9901 - val_loss: 0.0327 - val_accuracy: 0.9895\n",
      "Epoch 12/20\n",
      "175/175 [==============================] - 4s 23ms/step - loss: 0.0369 - accuracy: 0.9888 - val_loss: 0.0435 - val_accuracy: 0.9907\n",
      "Epoch 13/20\n",
      "175/175 [==============================] - 4s 23ms/step - loss: 0.0493 - accuracy: 0.9859 - val_loss: 0.0352 - val_accuracy: 0.9911\n",
      "Epoch 14/20\n",
      "175/175 [==============================] - 4s 23ms/step - loss: 0.0344 - accuracy: 0.9891 - val_loss: 0.0871 - val_accuracy: 0.9911\n",
      "Epoch 15/20\n",
      "175/175 [==============================] - 4s 23ms/step - loss: 0.0215 - accuracy: 0.9935 - val_loss: 0.0378 - val_accuracy: 0.9935\n",
      "Epoch 16/20\n",
      "175/175 [==============================] - 4s 23ms/step - loss: 0.0188 - accuracy: 0.9940 - val_loss: 0.0402 - val_accuracy: 0.9944\n",
      "Epoch 17/20\n",
      "175/175 [==============================] - 4s 23ms/step - loss: 0.0115 - accuracy: 0.9966 - val_loss: 0.0329 - val_accuracy: 0.9944\n",
      "Epoch 18/20\n",
      "175/175 [==============================] - 4s 23ms/step - loss: 0.0280 - accuracy: 0.9932 - val_loss: 0.0420 - val_accuracy: 0.9903\n",
      "Epoch 19/20\n",
      "175/175 [==============================] - 4s 23ms/step - loss: 0.0249 - accuracy: 0.9931 - val_loss: 0.0325 - val_accuracy: 0.9944\n",
      "Epoch 20/20\n",
      "175/175 [==============================] - 4s 23ms/step - loss: 0.0473 - accuracy: 0.9890 - val_loss: 0.0382 - val_accuracy: 0.9927\n"
     ]
    }
   ],
   "source": [
    "# Build a 2 convolutional layer CNN, with 20 epochs\n",
    "history_cnn_ms2,cnn_model_ms2 = build_cnn_model_2lay(x_train = X_ms_train_train_rs,y_train=y_ms_train_train,x_val=X_ms_train_val_rs,y_val=y_ms_train_val,epo_num=20)"
   ]
  },
  {
   "cell_type": "code",
   "execution_count": 138,
   "metadata": {
    "colab": {
     "base_uri": "https://localhost:8080/",
     "height": 697
    },
    "id": "JGYRZzXgb2F1",
    "outputId": "1aa66841-4d7b-4367-dfd0-8e40c2ccbea4"
   },
   "outputs": [
    {
     "name": "stdout",
     "output_type": "stream",
     "text": [
      "Epoch 1/20\n",
      "175/175 [==============================] - 4s 25ms/step - loss: 0.7473 - accuracy: 0.7075 - val_loss: 0.1773 - val_accuracy: 0.9492\n",
      "Epoch 2/20\n",
      "175/175 [==============================] - 4s 24ms/step - loss: 0.2254 - accuracy: 0.9285 - val_loss: 0.1042 - val_accuracy: 0.9681\n",
      "Epoch 3/20\n",
      "175/175 [==============================] - 4s 24ms/step - loss: 0.1396 - accuracy: 0.9601 - val_loss: 0.0720 - val_accuracy: 0.9750\n",
      "Epoch 4/20\n",
      "175/175 [==============================] - 4s 24ms/step - loss: 0.0982 - accuracy: 0.9724 - val_loss: 0.0503 - val_accuracy: 0.9855\n",
      "Epoch 5/20\n",
      "175/175 [==============================] - 4s 24ms/step - loss: 0.0848 - accuracy: 0.9777 - val_loss: 0.0724 - val_accuracy: 0.9859\n",
      "Epoch 6/20\n",
      "175/175 [==============================] - 4s 24ms/step - loss: 0.0760 - accuracy: 0.9792 - val_loss: 0.0366 - val_accuracy: 0.9899\n",
      "Epoch 7/20\n",
      "175/175 [==============================] - 4s 24ms/step - loss: 0.0564 - accuracy: 0.9834 - val_loss: 0.0429 - val_accuracy: 0.9907\n",
      "Epoch 8/20\n",
      "175/175 [==============================] - 4s 24ms/step - loss: 0.0527 - accuracy: 0.9857 - val_loss: 0.0454 - val_accuracy: 0.9907\n",
      "Epoch 9/20\n",
      "175/175 [==============================] - 4s 24ms/step - loss: 0.0459 - accuracy: 0.9873 - val_loss: 0.0396 - val_accuracy: 0.9883\n",
      "Epoch 10/20\n",
      "175/175 [==============================] - 4s 24ms/step - loss: 0.0354 - accuracy: 0.9899 - val_loss: 0.0296 - val_accuracy: 0.9923\n",
      "Epoch 11/20\n",
      "175/175 [==============================] - 4s 24ms/step - loss: 0.0330 - accuracy: 0.9910 - val_loss: 0.0296 - val_accuracy: 0.9915\n",
      "Epoch 12/20\n",
      "175/175 [==============================] - 4s 24ms/step - loss: 0.0338 - accuracy: 0.9905 - val_loss: 0.0258 - val_accuracy: 0.9939\n",
      "Epoch 13/20\n",
      "175/175 [==============================] - 4s 24ms/step - loss: 0.0212 - accuracy: 0.9937 - val_loss: 0.0292 - val_accuracy: 0.9931\n",
      "Epoch 14/20\n",
      "175/175 [==============================] - 4s 24ms/step - loss: 0.0335 - accuracy: 0.9910 - val_loss: 0.0556 - val_accuracy: 0.9895\n",
      "Epoch 15/20\n",
      "175/175 [==============================] - 4s 24ms/step - loss: 0.0288 - accuracy: 0.9918 - val_loss: 0.0231 - val_accuracy: 0.9939\n",
      "Epoch 16/20\n",
      "175/175 [==============================] - 4s 24ms/step - loss: 0.0189 - accuracy: 0.9943 - val_loss: 0.0160 - val_accuracy: 0.9952\n",
      "Epoch 17/20\n",
      "175/175 [==============================] - 4s 24ms/step - loss: 0.0113 - accuracy: 0.9964 - val_loss: 0.0243 - val_accuracy: 0.9956\n",
      "Epoch 18/20\n",
      "175/175 [==============================] - 4s 24ms/step - loss: 0.0164 - accuracy: 0.9953 - val_loss: 0.0328 - val_accuracy: 0.9952\n",
      "Epoch 19/20\n",
      "175/175 [==============================] - 4s 24ms/step - loss: 0.0115 - accuracy: 0.9966 - val_loss: 0.0223 - val_accuracy: 0.9964\n",
      "Epoch 20/20\n",
      "175/175 [==============================] - 4s 24ms/step - loss: 0.0230 - accuracy: 0.9944 - val_loss: 0.0188 - val_accuracy: 0.9952\n"
     ]
    }
   ],
   "source": [
    "# Build a 3 convolutional layer CNN, with 20 epochs\n",
    "history_cnn_ms3,cnn_model_ms3 = build_cnn_model_3lay(x_train = X_ms_train_train_rs,y_train=y_ms_train_train,x_val=X_ms_train_val_rs,y_val=y_ms_train_val,epo_num=20)"
   ]
  },
  {
   "cell_type": "code",
   "execution_count": 140,
   "metadata": {
    "id": "qjt78Yqsb2Ds"
   },
   "outputs": [],
   "source": [
    "# Save the models\n",
    "cnn_model_ms1.save('1002ms_cnn_md_epo10_2lay.h5')\n",
    "cnn_model_ms2.save('1002ms_cnn_md_epo20_2lay.h5')\n",
    "cnn_model_ms3.save('1002ms_cnn_md_epo20_3lay.h5')"
   ]
  },
  {
   "cell_type": "code",
   "execution_count": 141,
   "metadata": {
    "colab": {
     "base_uri": "https://localhost:8080/",
     "height": 51
    },
    "id": "R8NUyLrib2BQ",
    "outputId": "dbe3da8a-6663-4287-891e-0497d2ee6d59"
   },
   "outputs": [
    {
     "name": "stdout",
     "output_type": "stream",
     "text": [
      "328/328 [==============================] - 1s 4ms/step - loss: 0.2904 - accuracy: 0.9312\n"
     ]
    },
    {
     "data": {
      "text/plain": [
       "[0.29037564992904663, 0.9312219619750977]"
      ]
     },
     "execution_count": 141,
     "metadata": {
      "tags": []
     },
     "output_type": "execute_result"
    }
   ],
   "source": [
    "cnn_model_ms1.evaluate(X_ms_test_rs,y_ms_test)"
   ]
  },
  {
   "cell_type": "code",
   "execution_count": 142,
   "metadata": {
    "colab": {
     "base_uri": "https://localhost:8080/",
     "height": 51
    },
    "id": "z8oR7u2hdldK",
    "outputId": "cc9dd83a-ffa5-4046-e8c8-13a5388b6bed"
   },
   "outputs": [
    {
     "name": "stdout",
     "output_type": "stream",
     "text": [
      "328/328 [==============================] - 1s 4ms/step - loss: 0.5166 - accuracy: 0.9078\n"
     ]
    },
    {
     "data": {
      "text/plain": [
       "[0.5165888667106628, 0.907755434513092]"
      ]
     },
     "execution_count": 142,
     "metadata": {
      "tags": []
     },
     "output_type": "execute_result"
    }
   ],
   "source": [
    "cnn_model_ms2.evaluate(X_ms_test_rs,y_ms_test)"
   ]
  },
  {
   "cell_type": "code",
   "execution_count": 143,
   "metadata": {
    "colab": {
     "base_uri": "https://localhost:8080/",
     "height": 51
    },
    "id": "B5BrxOhEdpE5",
    "outputId": "5fceafed-ba8e-4c87-fc7f-1f8ba6015a5e"
   },
   "outputs": [
    {
     "name": "stdout",
     "output_type": "stream",
     "text": [
      "328/328 [==============================] - 1s 4ms/step - loss: 0.6274 - accuracy: 0.8701\n"
     ]
    },
    {
     "data": {
      "text/plain": [
       "[0.6274060010910034, 0.8700753450393677]"
      ]
     },
     "execution_count": 143,
     "metadata": {
      "tags": []
     },
     "output_type": "execute_result"
    }
   ],
   "source": [
    "cnn_model_ms3.evaluate(X_ms_test_rs,y_ms_test)"
   ]
  },
  {
   "cell_type": "markdown",
   "metadata": {
    "id": "cyU47jG4pXmB"
   },
   "source": [
    "<a name=\"3.3ml\"></a>\n",
    "#### 3.3 CNN models built from the combined datasets"
   ]
  },
  {
   "cell_type": "code",
   "execution_count": 102,
   "metadata": {
    "id": "dfllypn_pXmC"
   },
   "outputs": [],
   "source": [
    "#combine the MS and WISDM datasets for building CNN models\n",
    "X_cb_train_rs = np.array(X_cb_train).reshape(X_cb_train.shape[0],X_cb_train.shape[1],X_cb_train.shape[2],1)\n",
    "X_cb_val_rs = np.array(X_cb_val).reshape(X_cb_val.shape[0],X_cb_val.shape[1],X_cb_val.shape[2],1)\n",
    "X_cb_test_rs = np.array(X_cb_test).reshape(X_cb_test.shape[0],X_cb_test.shape[1],X_cb_test.shape[2],1)"
   ]
  },
  {
   "cell_type": "code",
   "execution_count": 106,
   "metadata": {
    "colab": {
     "base_uri": "https://localhost:8080/",
     "height": 357
    },
    "id": "vS3DG_hpMuRB",
    "outputId": "061e1cdc-5ec4-437e-9c53-3ac2938be457"
   },
   "outputs": [
    {
     "name": "stdout",
     "output_type": "stream",
     "text": [
      "Epoch 1/10\n",
      "569/569 [==============================] - 14s 25ms/step - loss: 0.5330 - accuracy: 0.7961 - val_loss: 0.2365 - val_accuracy: 0.9051\n",
      "Epoch 2/10\n",
      "569/569 [==============================] - 13s 23ms/step - loss: 0.2447 - accuracy: 0.9030 - val_loss: 0.1525 - val_accuracy: 0.9472\n",
      "Epoch 3/10\n",
      "569/569 [==============================] - 13s 23ms/step - loss: 0.1567 - accuracy: 0.9495 - val_loss: 0.1068 - val_accuracy: 0.9607\n",
      "Epoch 4/10\n",
      "569/569 [==============================] - 13s 23ms/step - loss: 0.1158 - accuracy: 0.9650 - val_loss: 0.0850 - val_accuracy: 0.9737\n",
      "Epoch 5/10\n",
      "569/569 [==============================] - 13s 23ms/step - loss: 0.0946 - accuracy: 0.9719 - val_loss: 0.0574 - val_accuracy: 0.9834\n",
      "Epoch 6/10\n",
      "569/569 [==============================] - 13s 23ms/step - loss: 0.0703 - accuracy: 0.9794 - val_loss: 0.0712 - val_accuracy: 0.9774\n",
      "Epoch 7/10\n",
      "569/569 [==============================] - 13s 23ms/step - loss: 0.0672 - accuracy: 0.9802 - val_loss: 0.0709 - val_accuracy: 0.9789\n",
      "Epoch 8/10\n",
      "569/569 [==============================] - 13s 23ms/step - loss: 0.0513 - accuracy: 0.9850 - val_loss: 0.0502 - val_accuracy: 0.9857\n",
      "Epoch 9/10\n",
      "569/569 [==============================] - 13s 23ms/step - loss: 0.0485 - accuracy: 0.9857 - val_loss: 0.0535 - val_accuracy: 0.9839\n",
      "Epoch 10/10\n",
      "569/569 [==============================] - 13s 23ms/step - loss: 0.0379 - accuracy: 0.9890 - val_loss: 0.0349 - val_accuracy: 0.9912\n"
     ]
    }
   ],
   "source": [
    "# Build a 2 convolutional layer CNN, with 10 epochs\n",
    "history,cnn_model_cb = build_cnn_model_2lay()"
   ]
  },
  {
   "cell_type": "code",
   "execution_count": 108,
   "metadata": {
    "colab": {
     "base_uri": "https://localhost:8080/",
     "height": 51
    },
    "id": "_pr9Ba7LMuZ-",
    "outputId": "8921b197-45bc-4fa9-965a-f0fb296e65a5"
   },
   "outputs": [
    {
     "name": "stdout",
     "output_type": "stream",
     "text": [
      "718/718 [==============================] - 3s 4ms/step - loss: 0.5064 - accuracy: 0.9244\n"
     ]
    },
    {
     "data": {
      "text/plain": [
       "[0.506413459777832, 0.9244345426559448]"
      ]
     },
     "execution_count": 108,
     "metadata": {
      "tags": []
     },
     "output_type": "execute_result"
    }
   ],
   "source": [
    "#evaluate the combined testing datasets\n",
    "cnn_model_cb.evaluate(X_cb_test_rs,y_cb_test)"
   ]
  },
  {
   "cell_type": "code",
   "execution_count": 109,
   "metadata": {
    "colab": {
     "base_uri": "https://localhost:8080/",
     "height": 51
    },
    "id": "SeS4lZ1oPkPm",
    "outputId": "436d6c34-17b5-4b57-9924-9832be54c0fb"
   },
   "outputs": [
    {
     "name": "stdout",
     "output_type": "stream",
     "text": [
      "328/328 [==============================] - 1s 4ms/step - loss: 0.5990 - accuracy: 0.9086\n"
     ]
    },
    {
     "data": {
      "text/plain": [
       "[0.5989689826965332, 0.908613920211792]"
      ]
     },
     "execution_count": 109,
     "metadata": {
      "tags": []
     },
     "output_type": "execute_result"
    }
   ],
   "source": [
    "#evaluate the ms testing datasets\n",
    "cnn_model_cb.evaluate(X_ms_test_rs,y_ms_test)"
   ]
  },
  {
   "cell_type": "code",
   "execution_count": 112,
   "metadata": {
    "colab": {
     "base_uri": "https://localhost:8080/",
     "height": 51
    },
    "id": "vTmsDM_2MudW",
    "outputId": "d79cb788-33ee-4521-c752-dcf65368cf1f"
   },
   "outputs": [
    {
     "name": "stdout",
     "output_type": "stream",
     "text": [
      "390/390 [==============================] - 2s 4ms/step - loss: 0.4286 - accuracy: 0.9377\n"
     ]
    },
    {
     "data": {
      "text/plain": [
       "[0.42856860160827637, 0.937740683555603]"
      ]
     },
     "execution_count": 112,
     "metadata": {
      "tags": []
     },
     "output_type": "execute_result"
    }
   ],
   "source": [
    "#evaluate the wd testing datasets\n",
    "cnn_model_cb.evaluate(X_wd_test_rs,y2_wd_test)"
   ]
  },
  {
   "cell_type": "code",
   "execution_count": 113,
   "metadata": {
    "id": "66eqEWO0MuXW"
   },
   "outputs": [],
   "source": [
    "cnn_model_cb.save('1002cb_cnn_md_2lay_epo10.h5')"
   ]
  },
  {
   "cell_type": "code",
   "execution_count": 122,
   "metadata": {
    "colab": {
     "base_uri": "https://localhost:8080/",
     "height": 697
    },
    "id": "7BaNgI7uTGxy",
    "outputId": "00994b20-3fdc-4157-c27c-ee9fe526ccdf"
   },
   "outputs": [
    {
     "name": "stdout",
     "output_type": "stream",
     "text": [
      "Epoch 1/20\n",
      "569/569 [==============================] - 14s 25ms/step - loss: 0.5768 - accuracy: 0.7790 - val_loss: 0.2242 - val_accuracy: 0.9298\n",
      "Epoch 2/20\n",
      "569/569 [==============================] - 14s 24ms/step - loss: 0.1974 - accuracy: 0.9336 - val_loss: 0.1118 - val_accuracy: 0.9664\n",
      "Epoch 3/20\n",
      "569/569 [==============================] - 14s 24ms/step - loss: 0.1274 - accuracy: 0.9635 - val_loss: 0.0672 - val_accuracy: 0.9770\n",
      "Epoch 4/20\n",
      "569/569 [==============================] - 14s 24ms/step - loss: 0.0919 - accuracy: 0.9746 - val_loss: 0.0616 - val_accuracy: 0.9799\n",
      "Epoch 5/20\n",
      "569/569 [==============================] - 14s 24ms/step - loss: 0.0687 - accuracy: 0.9811 - val_loss: 0.0789 - val_accuracy: 0.9775\n",
      "Epoch 6/20\n",
      "569/569 [==============================] - 14s 24ms/step - loss: 0.0617 - accuracy: 0.9833 - val_loss: 0.1157 - val_accuracy: 0.9638\n",
      "Epoch 7/20\n",
      "569/569 [==============================] - 14s 24ms/step - loss: 0.0537 - accuracy: 0.9852 - val_loss: 0.0296 - val_accuracy: 0.9917\n",
      "Epoch 8/20\n",
      "569/569 [==============================] - 14s 24ms/step - loss: 0.0438 - accuracy: 0.9876 - val_loss: 0.0737 - val_accuracy: 0.9822\n",
      "Epoch 9/20\n",
      "569/569 [==============================] - 14s 24ms/step - loss: 0.0356 - accuracy: 0.9901 - val_loss: 0.0289 - val_accuracy: 0.9912\n",
      "Epoch 10/20\n",
      "569/569 [==============================] - 14s 24ms/step - loss: 0.0381 - accuracy: 0.9900 - val_loss: 0.0232 - val_accuracy: 0.9942\n",
      "Epoch 11/20\n",
      "569/569 [==============================] - 14s 24ms/step - loss: 0.0315 - accuracy: 0.9921 - val_loss: 0.0287 - val_accuracy: 0.9917\n",
      "Epoch 12/20\n",
      "569/569 [==============================] - 14s 24ms/step - loss: 0.0264 - accuracy: 0.9929 - val_loss: 0.0342 - val_accuracy: 0.9915\n",
      "Epoch 13/20\n",
      "569/569 [==============================] - 14s 24ms/step - loss: 0.0287 - accuracy: 0.9925 - val_loss: 0.0221 - val_accuracy: 0.9943\n",
      "Epoch 14/20\n",
      "569/569 [==============================] - 14s 24ms/step - loss: 0.0209 - accuracy: 0.9948 - val_loss: 0.0217 - val_accuracy: 0.9939\n",
      "Epoch 15/20\n",
      "569/569 [==============================] - 14s 24ms/step - loss: 0.0359 - accuracy: 0.9909 - val_loss: 0.0312 - val_accuracy: 0.9907\n",
      "Epoch 16/20\n",
      "569/569 [==============================] - 14s 24ms/step - loss: 0.0223 - accuracy: 0.9944 - val_loss: 0.0386 - val_accuracy: 0.9899\n",
      "Epoch 17/20\n",
      "569/569 [==============================] - 14s 24ms/step - loss: 0.0216 - accuracy: 0.9949 - val_loss: 0.0298 - val_accuracy: 0.9915\n",
      "Epoch 18/20\n",
      "569/569 [==============================] - 14s 24ms/step - loss: 0.0267 - accuracy: 0.9941 - val_loss: 0.0245 - val_accuracy: 0.9946\n",
      "Epoch 19/20\n",
      "569/569 [==============================] - 14s 24ms/step - loss: 0.0120 - accuracy: 0.9966 - val_loss: 0.0165 - val_accuracy: 0.9957\n",
      "Epoch 20/20\n",
      "569/569 [==============================] - 14s 24ms/step - loss: 0.0226 - accuracy: 0.9944 - val_loss: 0.0170 - val_accuracy: 0.9969\n"
     ]
    }
   ],
   "source": [
    "# Build a 3 convolutional layer CNN, with 20 epochs\n",
    "history2,cnn_model_cb2 = build_cnn_model_3lay(epo_num=20)"
   ]
  },
  {
   "cell_type": "code",
   "execution_count": 123,
   "metadata": {
    "colab": {
     "base_uri": "https://localhost:8080/",
     "height": 265
    },
    "id": "eRX1iOyWTG1N",
    "outputId": "3e487b14-fef0-4f89-ee77-0f26a1c8f20f"
   },
   "outputs": [
    {
     "data": {
      "image/png": "[encoded data removed]",
      "text/plain": [
       "<Figure size 432x288 with 1 Axes>"
      ]
     },
     "metadata": {
      "needs_background": "light",
      "tags": []
     },
     "output_type": "display_data"
    }
   ],
   "source": [
    "plt.plot(history.history['loss'], label='train')\n",
    "plt.plot(history.history['val_loss'], label='test')\n",
    "plt.legend();"
   ]
  },
  {
   "cell_type": "code",
   "execution_count": 124,
   "metadata": {
    "colab": {
     "base_uri": "https://localhost:8080/",
     "height": 51
    },
    "id": "1W0a7oudTG9J",
    "outputId": "ab485147-26ee-4482-b12f-c6b32354065a"
   },
   "outputs": [
    {
     "name": "stdout",
     "output_type": "stream",
     "text": [
      "718/718 [==============================] - 3s 4ms/step - loss: 0.7467 - accuracy: 0.9212\n"
     ]
    },
    {
     "data": {
      "text/plain": [
       "[0.7467483878135681, 0.9212097525596619]"
      ]
     },
     "execution_count": 124,
     "metadata": {
      "tags": []
     },
     "output_type": "execute_result"
    }
   ],
   "source": [
    "#evaluate the combined testing datasets\n",
    "cnn_model_cb2.evaluate(X_cb_test_rs,y_cb_test)"
   ]
  },
  {
   "cell_type": "code",
   "execution_count": 125,
   "metadata": {
    "colab": {
     "base_uri": "https://localhost:8080/",
     "height": 51
    },
    "id": "EXhMypOKTHAX",
    "outputId": "e6be988c-5b5a-45ff-901b-d99f3f486d9e"
   },
   "outputs": [
    {
     "name": "stdout",
     "output_type": "stream",
     "text": [
      "328/328 [==============================] - 1s 4ms/step - loss: 0.8108 - accuracy: 0.9014\n"
     ]
    },
    {
     "data": {
      "text/plain": [
       "[0.8108214139938354, 0.9013640880584717]"
      ]
     },
     "execution_count": 125,
     "metadata": {
      "tags": []
     },
     "output_type": "execute_result"
    }
   ],
   "source": [
    "#evaluate the ms testing datasets\n",
    "cnn_model_cb2.evaluate(X_ms_test_rs,y_ms_test)"
   ]
  },
  {
   "cell_type": "code",
   "execution_count": 126,
   "metadata": {
    "colab": {
     "base_uri": "https://localhost:8080/",
     "height": 51
    },
    "id": "r_V64WTPTHGx",
    "outputId": "2cedbe8c-753e-4904-fd48-e955c6933933"
   },
   "outputs": [
    {
     "name": "stdout",
     "output_type": "stream",
     "text": [
      "390/390 [==============================] - 2s 4ms/step - loss: 0.6929 - accuracy: 0.9379\n"
     ]
    },
    {
     "data": {
      "text/plain": [
       "[0.6928594708442688, 0.9379011392593384]"
      ]
     },
     "execution_count": 126,
     "metadata": {
      "tags": []
     },
     "output_type": "execute_result"
    }
   ],
   "source": [
    "#evaluate the wd testing datasets\n",
    "cnn_model_cb2.evaluate(X_wd_test_rs,y2_wd_test)"
   ]
  },
  {
   "cell_type": "code",
   "execution_count": 127,
   "metadata": {
    "id": "GtVrqkJaTG6r"
   },
   "outputs": [],
   "source": [
    "cnn_model_cb2.save('1002cb_cnn_md_3lay_epo20.h5')"
   ]
  },
  {
   "cell_type": "markdown",
   "metadata": {},
   "source": [
    "#### Comments\n",
    "- The CNN models performed slightly better than the RNN LSTM models.\n",
    "- The best CNN and RNN models built from the combined datasets are compared in the table below: \n",
    "| Models      \t| WISDM dataset \t| MS dataset  \t| Combined dataset \t|\n",
    "|-------------\t|-------\t|------\t|----------\t|\n",
    "| CNN   \t| 0.94  \t| 0.90 \t| 0.92     \t|\n",
    "| RNN LSTM \t| 0.88  \t| 0.86 \t| 0.87     \t|\n",
    "\n",
    "- This project will choose CNN models for future work and evaluation.\n",
    "- The CNN model obtained from the combined datasets indicated that it was promising to build the cross platform classification models."
   ]
  },
  {
   "cell_type": "markdown",
   "metadata": {
    "id": "O1HRACGtpXm7"
   },
   "source": [
    "<a name=\"4ml\"></a>\n",
    "### 4. Other classification models"
   ]
  },
  {
   "cell_type": "code",
   "execution_count": 144,
   "metadata": {
    "id": "mB54-pOYpXm7"
   },
   "outputs": [],
   "source": [
    "# Create datasets for building other classification models\n",
    "X_ms_train_train_lr = X_ms_train_train.reshape(22304,600)\n",
    "X_ms_train_val_lr = X_ms_train_val.reshape(X_ms_train_val.shape[0],600)\n",
    "X_ms_test_lr = X_ms_test.reshape(X_ms_test.shape[0],600)"
   ]
  },
  {
   "cell_type": "code",
   "execution_count": 145,
   "metadata": {
    "colab": {
     "base_uri": "https://localhost:8080/",
     "height": 34
    },
    "id": "yGUfTDQqpXm8",
    "outputId": "98707ef8-1a52-4bf8-ea86-13cb564acc55"
   },
   "outputs": [
    {
     "name": "stdout",
     "output_type": "stream",
     "text": [
      "(22304, 600) (2479, 600) (10483, 600)\n"
     ]
    }
   ],
   "source": [
    "print(X_ms_train_train_lr.shape,X_ms_train_val_lr.shape,X_ms_test_lr.shape)"
   ]
  },
  {
   "cell_type": "markdown",
   "metadata": {},
   "source": [
    "<a name=\"4.1ml\"></a>\n",
    "#### 4.1 Logistical Regression model"
   ]
  },
  {
   "cell_type": "code",
   "execution_count": 146,
   "metadata": {
    "id": "c4Kc0H5CpXm9"
   },
   "outputs": [],
   "source": [
    "md_lr = LogisticRegression(max_iter=5000,C=0.2)"
   ]
  },
  {
   "cell_type": "code",
   "execution_count": 147,
   "metadata": {
    "colab": {
     "base_uri": "https://localhost:8080/",
     "height": 156
    },
    "id": "oDczihBPpXm-",
    "outputId": "00acc4ad-9b19-4d23-c29a-f1d670e35169"
   },
   "outputs": [
    {
     "name": "stderr",
     "output_type": "stream",
     "text": [
      "/usr/local/lib/python3.6/dist-packages/sklearn/utils/validation.py:760: DataConversionWarning: A column-vector y was passed when a 1d array was expected. Please change the shape of y to (n_samples, ), for example using ravel().\n",
      "  y = column_or_1d(y, warn=True)\n"
     ]
    },
    {
     "data": {
      "text/plain": [
       "LogisticRegression(C=0.2, class_weight=None, dual=False, fit_intercept=True,\n",
       "                   intercept_scaling=1, l1_ratio=None, max_iter=5000,\n",
       "                   multi_class='auto', n_jobs=None, penalty='l2',\n",
       "                   random_state=None, solver='lbfgs', tol=0.0001, verbose=0,\n",
       "                   warm_start=False)"
      ]
     },
     "execution_count": 147,
     "metadata": {
      "tags": []
     },
     "output_type": "execute_result"
    }
   ],
   "source": [
    "md_lr.fit(X_ms_train_train_lr,enc.inverse_transform(y_ms_train_train))"
   ]
  },
  {
   "cell_type": "code",
   "execution_count": 148,
   "metadata": {
    "colab": {
     "base_uri": "https://localhost:8080/",
     "height": 34
    },
    "id": "6tbsecMipXm_",
    "outputId": "f5a12c80-2c09-480c-b5d2-88773eb7238e"
   },
   "outputs": [
    {
     "data": {
      "text/plain": [
       "0.5568059540889526"
      ]
     },
     "execution_count": 148,
     "metadata": {
      "tags": []
     },
     "output_type": "execute_result"
    }
   ],
   "source": [
    "md_lr.score(X_ms_train_train_lr,enc.inverse_transform(y_ms_train_train))"
   ]
  },
  {
   "cell_type": "code",
   "execution_count": 149,
   "metadata": {
    "colab": {
     "base_uri": "https://localhost:8080/",
     "height": 34
    },
    "id": "HIGudC9-pXnA",
    "outputId": "ca21d6b7-4f93-4acd-b319-a013f656c5c6"
   },
   "outputs": [
    {
     "data": {
      "text/plain": [
       "0.40770771725651056"
      ]
     },
     "execution_count": 149,
     "metadata": {
      "tags": []
     },
     "output_type": "execute_result"
    }
   ],
   "source": [
    "md_lr.score(X_ms_test_lr,enc.inverse_transform(y_ms_test))"
   ]
  },
  {
   "cell_type": "code",
   "execution_count": 156,
   "metadata": {
    "id": "PvpFEDIrgiu1"
   },
   "outputs": [],
   "source": [
    "pickle.dump(md_lr, open('ms_md_lr.sav', 'wb'))"
   ]
  },
  {
   "cell_type": "markdown",
   "metadata": {},
   "source": [
    "<a name=\"4.2ml\"></a>\n",
    "#### 4.2 Support vector machine classification model"
   ]
  },
  {
   "cell_type": "code",
   "execution_count": 151,
   "metadata": {
    "id": "jICtrVGKpXnD"
   },
   "outputs": [],
   "source": [
    "md_svc = SVC(C=0.5) # default C=1, train score =0.96, test score =0.81"
   ]
  },
  {
   "cell_type": "code",
   "execution_count": 152,
   "metadata": {
    "colab": {
     "base_uri": "https://localhost:8080/",
     "height": 139
    },
    "id": "Up-Im7eupXnF",
    "outputId": "57a5d32e-a9d0-43d2-879e-2da653f0506c"
   },
   "outputs": [
    {
     "name": "stderr",
     "output_type": "stream",
     "text": [
      "/usr/local/lib/python3.6/dist-packages/sklearn/utils/validation.py:760: DataConversionWarning: A column-vector y was passed when a 1d array was expected. Please change the shape of y to (n_samples, ), for example using ravel().\n",
      "  y = column_or_1d(y, warn=True)\n"
     ]
    },
    {
     "data": {
      "text/plain": [
       "SVC(C=0.5, break_ties=False, cache_size=200, class_weight=None, coef0=0.0,\n",
       "    decision_function_shape='ovr', degree=3, gamma='scale', kernel='rbf',\n",
       "    max_iter=-1, probability=False, random_state=None, shrinking=True,\n",
       "    tol=0.001, verbose=False)"
      ]
     },
     "execution_count": 152,
     "metadata": {
      "tags": []
     },
     "output_type": "execute_result"
    }
   ],
   "source": [
    "md_svc.fit(X_ms_train_train_lr,enc.inverse_transform(y_ms_train_train))"
   ]
  },
  {
   "cell_type": "code",
   "execution_count": 153,
   "metadata": {
    "colab": {
     "base_uri": "https://localhost:8080/",
     "height": 34
    },
    "id": "k_z_3xA1pXnG",
    "outputId": "7e8940fc-eb52-4ad1-8b68-01eb4f7c5ef2"
   },
   "outputs": [
    {
     "data": {
      "text/plain": [
       "0.9446287661406025"
      ]
     },
     "execution_count": 153,
     "metadata": {
      "tags": []
     },
     "output_type": "execute_result"
    }
   ],
   "source": [
    "md_svc.score(X_ms_train_train_lr,enc.inverse_transform(y_ms_train_train))"
   ]
  },
  {
   "cell_type": "code",
   "execution_count": 154,
   "metadata": {
    "colab": {
     "base_uri": "https://localhost:8080/",
     "height": 34
    },
    "id": "hmIZdh-BpXnI",
    "outputId": "3db422e6-b178-4bd5-8c06-2dbacd49404c"
   },
   "outputs": [
    {
     "data": {
      "text/plain": [
       "0.8014881236287322"
      ]
     },
     "execution_count": 154,
     "metadata": {
      "tags": []
     },
     "output_type": "execute_result"
    }
   ],
   "source": [
    "md_svc.score(X_ms_test_lr,enc.inverse_transform(y_ms_test))"
   ]
  },
  {
   "cell_type": "code",
   "execution_count": 157,
   "metadata": {
    "id": "ya35wUTOf7CX"
   },
   "outputs": [],
   "source": [
    "pickle.dump(md_svc, open('ms_md_svc.sav', 'wb'))"
   ]
  },
  {
   "cell_type": "markdown",
   "metadata": {},
   "source": [
    "<a name=\"4.3ml\"></a>\n",
    "#### 4.3 KNN model"
   ]
  },
  {
   "cell_type": "code",
   "execution_count": 159,
   "metadata": {
    "id": "3fHNIdOjpXnK"
   },
   "outputs": [],
   "source": [
    "md_knn = KNeighborsClassifier()"
   ]
  },
  {
   "cell_type": "code",
   "execution_count": 160,
   "metadata": {
    "colab": {
     "base_uri": "https://localhost:8080/",
     "height": 122
    },
    "id": "Zx4Xc3PLhBBn",
    "outputId": "41e62e33-0f36-4962-8094-fd4a09d15753"
   },
   "outputs": [
    {
     "name": "stderr",
     "output_type": "stream",
     "text": [
      "/usr/local/lib/python3.6/dist-packages/ipykernel_launcher.py:1: DataConversionWarning: A column-vector y was passed when a 1d array was expected. Please change the shape of y to (n_samples, ), for example using ravel().\n",
      "  \"\"\"Entry point for launching an IPython kernel.\n"
     ]
    },
    {
     "data": {
      "text/plain": [
       "KNeighborsClassifier(algorithm='auto', leaf_size=30, metric='minkowski',\n",
       "                     metric_params=None, n_jobs=None, n_neighbors=5, p=2,\n",
       "                     weights='uniform')"
      ]
     },
     "execution_count": 160,
     "metadata": {
      "tags": []
     },
     "output_type": "execute_result"
    }
   ],
   "source": [
    "md_knn.fit(X_ms_train_train_lr,enc.inverse_transform(y_ms_train_train))"
   ]
  },
  {
   "cell_type": "code",
   "execution_count": null,
   "metadata": {
    "id": "N7cZNPWppXnM",
    "outputId": "d740344b-d702-4aff-a4a4-9bca76ba547c"
   },
   "outputs": [
    {
     "name": "stderr",
     "output_type": "stream",
     "text": [
      "C:\\Users\\fuzha\\anaconda3\\envs\\proj\\lib\\site-packages\\ipykernel_launcher.py:1: DataConversionWarning: A column-vector y was passed when a 1d array was expected. Please change the shape of y to (n_samples, ), for example using ravel().\n",
      "  \"\"\"Entry point for launching an IPython kernel.\n"
     ]
    },
    {
     "name": "stdout",
     "output_type": "stream",
     "text": [
      "0.8303443328550932\n",
      "0.6175713059238768\n"
     ]
    }
   ],
   "source": [
    "# md_knn.fit(X_ms_train_train_lr,enc.inverse_transform(y_ms_train_train))\n",
    "print(md_knn.score(X_ms_train_train_lr,enc.inverse_transform(y_ms_train_train)))\n",
    "print(md_knn.score(X_ms_test_lr,enc.inverse_transform(y_ms_test)))"
   ]
  },
  {
   "cell_type": "code",
   "execution_count": 161,
   "metadata": {
    "id": "burWOmJnhKZ3"
   },
   "outputs": [],
   "source": [
    "pickle.dump(md_knn, open('ms_md_knn.sav', 'wb'))"
   ]
  },
  {
   "cell_type": "markdown",
   "metadata": {},
   "source": [
    "<a name=\"4.4ml\"></a>\n",
    "#### 4.4 Random forest model"
   ]
  },
  {
   "cell_type": "code",
   "execution_count": 163,
   "metadata": {
    "id": "vf8COqsYpXnN"
   },
   "outputs": [],
   "source": [
    "md_rf = RandomForestClassifier(n_estimators=600,ccp_alpha =0) # overfittting, ccp_alpha = 0.001 will have train/test score be both around 0.82 which was pretty good too"
   ]
  },
  {
   "cell_type": "code",
   "execution_count": 164,
   "metadata": {
    "colab": {
     "base_uri": "https://localhost:8080/",
     "height": 105
    },
    "id": "rshmdTLLpXnO",
    "outputId": "3980fa5e-b297-4235-f192-7da45e218e95"
   },
   "outputs": [
    {
     "name": "stderr",
     "output_type": "stream",
     "text": [
      "/usr/local/lib/python3.6/dist-packages/ipykernel_launcher.py:1: DataConversionWarning: A column-vector y was passed when a 1d array was expected. Please change the shape of y to (n_samples,), for example using ravel().\n",
      "  \"\"\"Entry point for launching an IPython kernel.\n"
     ]
    },
    {
     "name": "stdout",
     "output_type": "stream",
     "text": [
      "1.0\n",
      "0.8614900314795383\n"
     ]
    }
   ],
   "source": [
    "md_rf.fit(X_ms_train_train_lr,enc.inverse_transform(y_ms_train_train))\n",
    "print(md_rf.score(X_ms_train_train_lr,enc.inverse_transform(y_ms_train_train)))\n",
    "print(md_rf.score(X_ms_test_lr,enc.inverse_transform(y_ms_test)))"
   ]
  },
  {
   "cell_type": "code",
   "execution_count": 165,
   "metadata": {
    "id": "HeRO2rDvpXnR"
   },
   "outputs": [],
   "source": [
    "pickle.dump(md_rf, open('ms_md_rf.sav', 'wb'))"
   ]
  },
  {
   "cell_type": "markdown",
   "metadata": {
    "id": "yuhMiKZLpXnR"
   },
   "source": [
    "<a name=\"4.5ml\"></a>\n",
    "#### 4.5 Summary"
   ]
  },
  {
   "cell_type": "markdown",
   "metadata": {
    "id": "yuhMiKZLpXnR"
   },
   "source": [
    "- Logistic Regression, SVC, KNN, and random forest classification models were built from the MS datasets\n",
    "|            Model           | Accuracy on training data | Accuracy on testing data |\n",
    "|:--------------------------:|:--------:|:---:|\n",
    "|     Logistic Regression    |   0.56  | 0.41 |\n",
    "|  Support Vector Classifier |   0.94  | 0.80 |\n",
    "|     K Nearest Neighbors    |   0.83  | 0.61 |\n",
    "|        Random Forest       |   1     | 0.86 |\n",
    "\n",
    "\n",
    "- All of these models showed overfitting\n",
    "- The accuracy of logistic regression and KNN models were not good\n",
    "- SVC and random forest models gave OK accuracy, but not as good as RNN or CNN models"
   ]
  },
  {
   "cell_type": "markdown",
   "metadata": {
    "id": "O6SEri_cj1rc"
   },
   "source": [
    "<a name=\"5ml\"></a>\n",
    "### 5. Addtional work for CNN models with the MS datasets"
   ]
  },
  {
   "cell_type": "markdown",
   "metadata": {},
   "source": [
    "The MS datasets collected by iPhone had more features than the WISDM datasets. Besides the acceleration(recorded as gravity and user acceleration seperately), it also had sensors to record the attitude and the rotation rate. Therefore, the MS datasets could have as many as 12 features for model building. In part 5, the following things will be tested on the MS datasets for improving the CNN models:\n",
    "- Using all the 12 features to build the model\n",
    "- Try different kenerl size in the convolutional layer of CNN\n",
    "- Using all subject's data for training"
   ]
  },
  {
   "cell_type": "markdown",
   "metadata": {},
   "source": [
    "<a name=\"5.1ml\"></a>\n",
    "#### 5.1 12 features v.s. 3 features"
   ]
  },
  {
   "cell_type": "code",
   "execution_count": 7,
   "metadata": {
    "id": "qf3mPjP1lqZg"
   },
   "outputs": [],
   "source": [
    "# Select all the featuers collected by iPhones (Attitude, gravity, rotation rate, and user acceleration)\n",
    "cols_12 = df_ms.columns[:12]"
   ]
  },
  {
   "cell_type": "code",
   "execution_count": 13,
   "metadata": {
    "colab": {
     "base_uri": "https://localhost:8080/",
     "height": 428
    },
    "id": "fj6-PjMykRV4",
    "outputId": "a1ec22d7-00ff-4020-befc-338b46dab7cf"
   },
   "outputs": [
    {
     "name": "stderr",
     "output_type": "stream",
     "text": [
      "/usr/local/lib/python3.6/dist-packages/pandas/core/indexing.py:1736: SettingWithCopyWarning: \n",
      "A value is trying to be set on a copy of a slice from a DataFrame.\n",
      "Try using .loc[row_indexer,col_indexer] = value instead\n",
      "\n",
      "See the caveats in the documentation: https://pandas.pydata.org/pandas-docs/stable/user_guide/indexing.html#returning-a-view-versus-a-copy\n",
      "  isetter(loc, value[:, i].tolist())\n",
      "/usr/local/lib/python3.6/dist-packages/pandas/core/indexing.py:1736: SettingWithCopyWarning: \n",
      "A value is trying to be set on a copy of a slice from a DataFrame.\n",
      "Try using .loc[row_indexer,col_indexer] = value instead\n",
      "\n",
      "See the caveats in the documentation: https://pandas.pydata.org/pandas-docs/stable/user_guide/indexing.html#returning-a-view-versus-a-copy\n",
      "  isetter(loc, value[:, i].tolist())\n"
     ]
    },
    {
     "data": {
      "text/html": [
       "<div>\n",
       "<style scoped>\n",
       "    .dataframe tbody tr th:only-of-type {\n",
       "        vertical-align: middle;\n",
       "    }\n",
       "\n",
       "    .dataframe tbody tr th {\n",
       "        vertical-align: top;\n",
       "    }\n",
       "\n",
       "    .dataframe thead th {\n",
       "        text-align: right;\n",
       "    }\n",
       "</style>\n",
       "<table border=\"1\" class=\"dataframe\">\n",
       "  <thead>\n",
       "    <tr style=\"text-align: right;\">\n",
       "      <th></th>\n",
       "      <th>attitude.roll</th>\n",
       "      <th>attitude.pitch</th>\n",
       "      <th>attitude.yaw</th>\n",
       "      <th>gravity.x</th>\n",
       "      <th>gravity.y</th>\n",
       "      <th>gravity.z</th>\n",
       "      <th>rotationRate.x</th>\n",
       "      <th>rotationRate.y</th>\n",
       "      <th>rotationRate.z</th>\n",
       "      <th>userAcceleration.x</th>\n",
       "      <th>userAcceleration.y</th>\n",
       "      <th>userAcceleration.z</th>\n",
       "      <th>weight</th>\n",
       "      <th>height</th>\n",
       "      <th>age</th>\n",
       "      <th>gender</th>\n",
       "      <th>trial</th>\n",
       "      <th>x_axis</th>\n",
       "      <th>y_axis</th>\n",
       "      <th>z_axis</th>\n",
       "      <th>user_id</th>\n",
       "      <th>activity</th>\n",
       "    </tr>\n",
       "  </thead>\n",
       "  <tbody>\n",
       "    <tr>\n",
       "      <th>992434</th>\n",
       "      <td>-0.224624</td>\n",
       "      <td>-0.286674</td>\n",
       "      <td>-0.164736</td>\n",
       "      <td>-0.231529</td>\n",
       "      <td>0.140885</td>\n",
       "      <td>-0.157092</td>\n",
       "      <td>0.197856</td>\n",
       "      <td>1.037395</td>\n",
       "      <td>-1.158822</td>\n",
       "      <td>-0.474556</td>\n",
       "      <td>-3.304735</td>\n",
       "      <td>0.364019</td>\n",
       "      <td>54.0</td>\n",
       "      <td>164.0</td>\n",
       "      <td>26.0</td>\n",
       "      <td>0.0</td>\n",
       "      <td>1.0</td>\n",
       "      <td>-0.084092</td>\n",
       "      <td>0.649170</td>\n",
       "      <td>-0.117401</td>\n",
       "      <td>67.0</td>\n",
       "      <td>Downstairs</td>\n",
       "    </tr>\n",
       "    <tr>\n",
       "      <th>992435</th>\n",
       "      <td>-0.228428</td>\n",
       "      <td>-0.279494</td>\n",
       "      <td>-0.175891</td>\n",
       "      <td>-0.238157</td>\n",
       "      <td>0.138718</td>\n",
       "      <td>-0.166885</td>\n",
       "      <td>0.780960</td>\n",
       "      <td>1.436103</td>\n",
       "      <td>-1.416717</td>\n",
       "      <td>-0.270637</td>\n",
       "      <td>-4.580527</td>\n",
       "      <td>0.224559</td>\n",
       "      <td>54.0</td>\n",
       "      <td>164.0</td>\n",
       "      <td>26.0</td>\n",
       "      <td>0.0</td>\n",
       "      <td>1.0</td>\n",
       "      <td>-0.069015</td>\n",
       "      <td>0.516800</td>\n",
       "      <td>-0.139694</td>\n",
       "      <td>67.0</td>\n",
       "      <td>Downstairs</td>\n",
       "    </tr>\n",
       "    <tr>\n",
       "      <th>992436</th>\n",
       "      <td>-0.235533</td>\n",
       "      <td>-0.268435</td>\n",
       "      <td>-0.190086</td>\n",
       "      <td>-0.250021</td>\n",
       "      <td>0.135243</td>\n",
       "      <td>-0.181463</td>\n",
       "      <td>1.037861</td>\n",
       "      <td>0.825558</td>\n",
       "      <td>-2.016847</td>\n",
       "      <td>0.953937</td>\n",
       "      <td>-4.783120</td>\n",
       "      <td>-0.144850</td>\n",
       "      <td>54.0</td>\n",
       "      <td>164.0</td>\n",
       "      <td>26.0</td>\n",
       "      <td>0.0</td>\n",
       "      <td>1.0</td>\n",
       "      <td>0.034592</td>\n",
       "      <td>0.494324</td>\n",
       "      <td>-0.192841</td>\n",
       "      <td>67.0</td>\n",
       "      <td>Downstairs</td>\n",
       "    </tr>\n",
       "    <tr>\n",
       "      <th>992437</th>\n",
       "      <td>-0.244925</td>\n",
       "      <td>-0.255494</td>\n",
       "      <td>-0.205022</td>\n",
       "      <td>-0.265793</td>\n",
       "      <td>0.130959</td>\n",
       "      <td>-0.197812</td>\n",
       "      <td>1.085719</td>\n",
       "      <td>0.366568</td>\n",
       "      <td>-2.015011</td>\n",
       "      <td>2.156050</td>\n",
       "      <td>-4.592026</td>\n",
       "      <td>0.082100</td>\n",
       "      <td>54.0</td>\n",
       "      <td>164.0</td>\n",
       "      <td>26.0</td>\n",
       "      <td>0.0</td>\n",
       "      <td>1.0</td>\n",
       "      <td>0.134369</td>\n",
       "      <td>0.512008</td>\n",
       "      <td>-0.173340</td>\n",
       "      <td>67.0</td>\n",
       "      <td>Downstairs</td>\n",
       "    </tr>\n",
       "    <tr>\n",
       "      <th>992438</th>\n",
       "      <td>-0.251631</td>\n",
       "      <td>-0.244433</td>\n",
       "      <td>-0.216293</td>\n",
       "      <td>-0.278595</td>\n",
       "      <td>0.127118</td>\n",
       "      <td>-0.211785</td>\n",
       "      <td>0.846843</td>\n",
       "      <td>0.582612</td>\n",
       "      <td>-1.597334</td>\n",
       "      <td>1.865288</td>\n",
       "      <td>-3.512563</td>\n",
       "      <td>0.917618</td>\n",
       "      <td>54.0</td>\n",
       "      <td>164.0</td>\n",
       "      <td>26.0</td>\n",
       "      <td>0.0</td>\n",
       "      <td>1.0</td>\n",
       "      <td>0.102463</td>\n",
       "      <td>0.621369</td>\n",
       "      <td>-0.077530</td>\n",
       "      <td>67.0</td>\n",
       "      <td>Downstairs</td>\n",
       "    </tr>\n",
       "  </tbody>\n",
       "</table>\n",
       "</div>"
      ],
      "text/plain": [
       "        attitude.roll  attitude.pitch  ...  user_id    activity\n",
       "992434      -0.224624       -0.286674  ...     67.0  Downstairs\n",
       "992435      -0.228428       -0.279494  ...     67.0  Downstairs\n",
       "992436      -0.235533       -0.268435  ...     67.0  Downstairs\n",
       "992437      -0.244925       -0.255494  ...     67.0  Downstairs\n",
       "992438      -0.251631       -0.244433  ...     67.0  Downstairs\n",
       "\n",
       "[5 rows x 22 columns]"
      ]
     },
     "execution_count": 13,
     "metadata": {
      "tags": []
     },
     "output_type": "execute_result"
    }
   ],
   "source": [
    "# scale the all the selected features in the MS datasets\n",
    "df_ms_train,df_ms_test = robustscale_data(df_ms_train,df_ms_test,cols_12)\n",
    "df_ms_test.head()"
   ]
  },
  {
   "cell_type": "code",
   "execution_count": 16,
   "metadata": {
    "id": "BDPfvvl2pXnT"
   },
   "outputs": [],
   "source": [
    "# Creating training and testing datasets used to build models by activities, then merge all together\n",
    "X2_ms_train = np.zeros((0,200,12))\n",
    "y2_ms_train = np.zeros((0,1))\n",
    "X2_ms_test = np.zeros((0,200,12))\n",
    "y2_ms_test = np.zeros((0,1))\n",
    "for act in activity_list:\n",
    "    X1,y1,X2,y2 = create_train_test(time_steps=200,step=40,df_train=df_ms_train[df_ms_train['activity']==act],df_test=df_ms_test[df_ms_test['activity']==act],start=0,end=12)\n",
    "    X2_ms_train = np.append(X2_ms_train,X1,axis=0)\n",
    "    y2_ms_train = np.append(y2_ms_train,y1,axis=0)\n",
    "    X2_ms_test = np.append(X2_ms_test,X2,axis=0)\n",
    "    y2_ms_test = np.append(y2_ms_test,y2,axis=0)"
   ]
  },
  {
   "cell_type": "code",
   "execution_count": 17,
   "metadata": {
    "colab": {
     "base_uri": "https://localhost:8080/",
     "height": 34
    },
    "id": "ugmrJsyVlLv7",
    "outputId": "7d2356e4-99d1-404d-e82f-ab5b3000cdaa"
   },
   "outputs": [
    {
     "name": "stdout",
     "output_type": "stream",
     "text": [
      "(24783, 200, 12) (24783, 1) (10483, 200, 12) (10483, 1)\n"
     ]
    }
   ],
   "source": [
    "print(X2_ms_train.shape, y2_ms_train.shape, X2_ms_test.shape,y2_ms_test.shape)"
   ]
  },
  {
   "cell_type": "code",
   "execution_count": 18,
   "metadata": {
    "id": "ouUg8RfTlL7v"
   },
   "outputs": [],
   "source": [
    "enc = OneHotEncoder(handle_unknown='ignore', sparse=False)\n",
    "\n",
    "enc = enc.fit(y2_ms_train)\n",
    "\n",
    "y2_ms_train = enc.transform(y2_ms_train)\n",
    "y2_ms_test = enc.transform(y2_ms_test)"
   ]
  },
  {
   "cell_type": "code",
   "execution_count": 19,
   "metadata": {
    "colab": {
     "base_uri": "https://localhost:8080/",
     "height": 34
    },
    "id": "yaxqDpJflMI4",
    "outputId": "f4fc935c-27f6-4e4c-f45b-bcaccc8db731"
   },
   "outputs": [
    {
     "name": "stdout",
     "output_type": "stream",
     "text": [
      "(24783, 200, 12) (24783, 6) (10483, 200, 12) (10483, 6)\n"
     ]
    }
   ],
   "source": [
    "print(X2_ms_train.shape, y2_ms_train.shape, X2_ms_test.shape,y2_ms_test.shape)"
   ]
  },
  {
   "cell_type": "code",
   "execution_count": 20,
   "metadata": {
    "id": "TbXOp54AlMGG"
   },
   "outputs": [],
   "source": [
    "#Creating training and validation datasets\n",
    "X2_ms_train_train,X2_ms_train_val,y2_ms_train_train,y2_ms_train_val = train_test_split(X2_ms_train,y2_ms_train,stratify=y2_ms_train,test_size = 0.1)"
   ]
  },
  {
   "cell_type": "code",
   "execution_count": 21,
   "metadata": {
    "id": "UJp6xYo1lMDp"
   },
   "outputs": [],
   "source": [
    "# Reshape the dataset for building CNN models\n",
    "X2_ms_train_train_rs = np.array(X2_ms_train_train).reshape(X2_ms_train_train.shape[0],X2_ms_train_train.shape[1],X2_ms_train_train.shape[2],1)\n",
    "X2_ms_train_val_rs = np.array(X2_ms_train_val).reshape(X2_ms_train_val.shape[0],X2_ms_train_val.shape[1],X2_ms_train_val.shape[2],1)\n",
    "X2_ms_test_rs = np.array(X2_ms_test).reshape(X2_ms_test.shape[0],X2_ms_test.shape[1],X2_ms_test.shape[2],1)"
   ]
  },
  {
   "cell_type": "code",
   "execution_count": 22,
   "metadata": {
    "colab": {
     "base_uri": "https://localhost:8080/",
     "height": 34
    },
    "id": "KioXnjLulMBy",
    "outputId": "0739ab2f-0f64-4e67-d581-ab32ee348b4a"
   },
   "outputs": [
    {
     "name": "stdout",
     "output_type": "stream",
     "text": [
      "(22304, 200, 12, 1) (2479, 200, 12, 1) (10483, 200, 12, 1)\n"
     ]
    }
   ],
   "source": [
    "print(X2_ms_train_train_rs.shape,X2_ms_train_val_rs.shape,X2_ms_test_rs.shape)"
   ]
  },
  {
   "cell_type": "code",
   "execution_count": 187,
   "metadata": {
    "colab": {
     "base_uri": "https://localhost:8080/",
     "height": 394
    },
    "id": "6Oaz2h0clL5I",
    "outputId": "bf73e13d-dc30-4f57-e197-3a7ad6c3d7d7"
   },
   "outputs": [
    {
     "name": "stdout",
     "output_type": "stream",
     "text": [
      "Epoch 1/10\n",
      "  2/175 [..............................] - ETA: 5s - loss: 2.0857 - accuracy: 0.2266WARNING:tensorflow:Callbacks method `on_train_batch_end` is slow compared to the batch time (batch time: 0.0248s vs `on_train_batch_end` time: 0.0432s). Check your callbacks.\n",
      "175/175 [==============================] - 12s 70ms/step - loss: 0.6337 - accuracy: 0.7751 - val_loss: 0.1469 - val_accuracy: 0.9689\n",
      "Epoch 2/10\n",
      "175/175 [==============================] - 11s 66ms/step - loss: 0.1907 - accuracy: 0.9435 - val_loss: 0.0587 - val_accuracy: 0.9851\n",
      "Epoch 3/10\n",
      "175/175 [==============================] - 11s 66ms/step - loss: 0.1199 - accuracy: 0.9668 - val_loss: 0.0481 - val_accuracy: 0.9887\n",
      "Epoch 4/10\n",
      "175/175 [==============================] - 11s 66ms/step - loss: 0.0788 - accuracy: 0.9763 - val_loss: 0.0339 - val_accuracy: 0.9899\n",
      "Epoch 5/10\n",
      "175/175 [==============================] - 12s 66ms/step - loss: 0.0646 - accuracy: 0.9804 - val_loss: 0.0259 - val_accuracy: 0.9935\n",
      "Epoch 6/10\n",
      "175/175 [==============================] - 12s 66ms/step - loss: 0.0554 - accuracy: 0.9826 - val_loss: 0.0397 - val_accuracy: 0.9887\n",
      "Epoch 7/10\n",
      "175/175 [==============================] - 12s 66ms/step - loss: 0.0576 - accuracy: 0.9826 - val_loss: 0.0339 - val_accuracy: 0.9895\n",
      "Epoch 8/10\n",
      "175/175 [==============================] - 12s 66ms/step - loss: 0.0353 - accuracy: 0.9883 - val_loss: 0.0273 - val_accuracy: 0.9927\n",
      "Epoch 9/10\n",
      "175/175 [==============================] - 12s 67ms/step - loss: 0.0368 - accuracy: 0.9881 - val_loss: 0.0675 - val_accuracy: 0.9891\n",
      "Epoch 10/10\n",
      "175/175 [==============================] - 12s 67ms/step - loss: 0.0589 - accuracy: 0.9836 - val_loss: 0.0802 - val_accuracy: 0.9718\n"
     ]
    }
   ],
   "source": [
    "# Build a 2 convolutional layer CNN, with 10 epochs\n",
    "history_cnn_12ms1,cnn_model_12ms1 = build_cnn_model_2lay(x_train = X2_ms_train_train_rs,y_train=y2_ms_train_train,x_val=X2_ms_train_val_rs,y_val=y2_ms_train_val)"
   ]
  },
  {
   "cell_type": "code",
   "execution_count": 188,
   "metadata": {
    "colab": {
     "base_uri": "https://localhost:8080/",
     "height": 51
    },
    "id": "j2QpwnS5pHQf",
    "outputId": "365a52bf-a46b-40d5-d997-4aba56b406d2"
   },
   "outputs": [
    {
     "name": "stdout",
     "output_type": "stream",
     "text": [
      "328/328 [==============================] - 2s 8ms/step - loss: 0.2326 - accuracy: 0.9282\n"
     ]
    },
    {
     "data": {
      "text/plain": [
       "[0.2325524389743805, 0.9281694293022156]"
      ]
     },
     "execution_count": 188,
     "metadata": {
      "tags": []
     },
     "output_type": "execute_result"
    }
   ],
   "source": [
    "#evaluate the ms testing datasets\n",
    "cnn_model_12ms1.evaluate(X2_ms_test_rs,y2_ms_test)"
   ]
  },
  {
   "cell_type": "code",
   "execution_count": 189,
   "metadata": {
    "colab": {
     "base_uri": "https://localhost:8080/",
     "height": 734
    },
    "id": "JdtEzSz-pHcA",
    "outputId": "f344f649-93ea-4f1a-dc2c-d551be613b78"
   },
   "outputs": [
    {
     "name": "stdout",
     "output_type": "stream",
     "text": [
      "Epoch 1/20\n",
      "  2/175 [..............................] - ETA: 10s - loss: 1.9739 - accuracy: 0.1484WARNING:tensorflow:Callbacks method `on_train_batch_end` is slow compared to the batch time (batch time: 0.0243s vs `on_train_batch_end` time: 0.0459s). Check your callbacks.\n",
      "175/175 [==============================] - 12s 67ms/step - loss: 0.7395 - accuracy: 0.7066 - val_loss: 0.1879 - val_accuracy: 0.9508\n",
      "Epoch 2/20\n",
      "175/175 [==============================] - 12s 66ms/step - loss: 0.2751 - accuracy: 0.9032 - val_loss: 0.0712 - val_accuracy: 0.9818\n",
      "Epoch 3/20\n",
      "175/175 [==============================] - 12s 66ms/step - loss: 0.1804 - accuracy: 0.9387 - val_loss: 0.0465 - val_accuracy: 0.9863\n",
      "Epoch 4/20\n",
      "175/175 [==============================] - 12s 66ms/step - loss: 0.1339 - accuracy: 0.9549 - val_loss: 0.0463 - val_accuracy: 0.9871\n",
      "Epoch 5/20\n",
      "175/175 [==============================] - 12s 67ms/step - loss: 0.0970 - accuracy: 0.9673 - val_loss: 0.0321 - val_accuracy: 0.9903\n",
      "Epoch 6/20\n",
      "175/175 [==============================] - 12s 67ms/step - loss: 0.0868 - accuracy: 0.9695 - val_loss: 0.0296 - val_accuracy: 0.9911\n",
      "Epoch 7/20\n",
      "175/175 [==============================] - 12s 67ms/step - loss: 0.0710 - accuracy: 0.9745 - val_loss: 0.0370 - val_accuracy: 0.9871\n",
      "Epoch 8/20\n",
      "175/175 [==============================] - 12s 67ms/step - loss: 0.0635 - accuracy: 0.9766 - val_loss: 0.0209 - val_accuracy: 0.9952\n",
      "Epoch 9/20\n",
      "175/175 [==============================] - 12s 66ms/step - loss: 0.0645 - accuracy: 0.9767 - val_loss: 0.0229 - val_accuracy: 0.9935\n",
      "Epoch 10/20\n",
      "175/175 [==============================] - 12s 66ms/step - loss: 0.0575 - accuracy: 0.9778 - val_loss: 0.0307 - val_accuracy: 0.9899\n",
      "Epoch 11/20\n",
      "175/175 [==============================] - 12s 67ms/step - loss: 0.0566 - accuracy: 0.9793 - val_loss: 0.0350 - val_accuracy: 0.9927\n",
      "Epoch 12/20\n",
      "175/175 [==============================] - 12s 66ms/step - loss: 0.0528 - accuracy: 0.9815 - val_loss: 0.0356 - val_accuracy: 0.9899\n",
      "Epoch 13/20\n",
      "175/175 [==============================] - 12s 67ms/step - loss: 0.0631 - accuracy: 0.9807 - val_loss: 0.0123 - val_accuracy: 0.9948\n",
      "Epoch 14/20\n",
      "175/175 [==============================] - 12s 66ms/step - loss: 0.0473 - accuracy: 0.9852 - val_loss: 0.0180 - val_accuracy: 0.9944\n",
      "Epoch 15/20\n",
      "175/175 [==============================] - 12s 66ms/step - loss: 0.0325 - accuracy: 0.9885 - val_loss: 0.0106 - val_accuracy: 0.9968\n",
      "Epoch 16/20\n",
      "175/175 [==============================] - 12s 66ms/step - loss: 0.0342 - accuracy: 0.9890 - val_loss: 0.0160 - val_accuracy: 0.9948\n",
      "Epoch 17/20\n",
      "175/175 [==============================] - 12s 67ms/step - loss: 0.0305 - accuracy: 0.9893 - val_loss: 0.0464 - val_accuracy: 0.9931\n",
      "Epoch 18/20\n",
      "175/175 [==============================] - 12s 66ms/step - loss: 0.0437 - accuracy: 0.9871 - val_loss: 0.0186 - val_accuracy: 0.9944\n",
      "Epoch 19/20\n",
      "175/175 [==============================] - 12s 67ms/step - loss: 0.0382 - accuracy: 0.9884 - val_loss: 0.0270 - val_accuracy: 0.9939\n",
      "Epoch 20/20\n",
      "175/175 [==============================] - 12s 66ms/step - loss: 0.0359 - accuracy: 0.9891 - val_loss: 0.0082 - val_accuracy: 0.9976\n"
     ]
    }
   ],
   "source": [
    "# Build a 2 convolutional layer CNN, with 20 epochs\n",
    "history_cnn_12ms2,cnn_model_12ms2 = build_cnn_model_2lay(x_train = X2_ms_train_train_rs,y_train=y2_ms_train_train,x_val=X2_ms_train_val_rs,y_val=y2_ms_train_val,epo_num=20)"
   ]
  },
  {
   "cell_type": "code",
   "execution_count": 190,
   "metadata": {
    "colab": {
     "base_uri": "https://localhost:8080/",
     "height": 734
    },
    "id": "RmBCPIH4pc_x",
    "outputId": "19dbe59b-0a34-474a-9179-64666f327aa7"
   },
   "outputs": [
    {
     "name": "stdout",
     "output_type": "stream",
     "text": [
      "Epoch 1/20\n",
      "  2/175 [..............................] - ETA: 9s - loss: 1.9855 - accuracy: 0.2266WARNING:tensorflow:Callbacks method `on_train_batch_end` is slow compared to the batch time (batch time: 0.0238s vs `on_train_batch_end` time: 0.0440s). Check your callbacks.\n",
      "175/175 [==============================] - 12s 71ms/step - loss: 0.7581 - accuracy: 0.7131 - val_loss: 0.2288 - val_accuracy: 0.9153\n",
      "Epoch 2/20\n",
      "175/175 [==============================] - 12s 70ms/step - loss: 0.2147 - accuracy: 0.9335 - val_loss: 0.0624 - val_accuracy: 0.9827\n",
      "Epoch 3/20\n",
      "175/175 [==============================] - 12s 69ms/step - loss: 0.1213 - accuracy: 0.9614 - val_loss: 0.0333 - val_accuracy: 0.9895\n",
      "Epoch 4/20\n",
      "175/175 [==============================] - 12s 69ms/step - loss: 0.0860 - accuracy: 0.9731 - val_loss: 0.0226 - val_accuracy: 0.9935\n",
      "Epoch 5/20\n",
      "175/175 [==============================] - 12s 69ms/step - loss: 0.0855 - accuracy: 0.9748 - val_loss: 0.0181 - val_accuracy: 0.9944\n",
      "Epoch 6/20\n",
      "175/175 [==============================] - 12s 69ms/step - loss: 0.0646 - accuracy: 0.9805 - val_loss: 0.0274 - val_accuracy: 0.9911\n",
      "Epoch 7/20\n",
      "175/175 [==============================] - 12s 69ms/step - loss: 0.0528 - accuracy: 0.9833 - val_loss: 0.0168 - val_accuracy: 0.9931\n",
      "Epoch 8/20\n",
      "175/175 [==============================] - 12s 70ms/step - loss: 0.0446 - accuracy: 0.9859 - val_loss: 0.0156 - val_accuracy: 0.9952\n",
      "Epoch 9/20\n",
      "175/175 [==============================] - 12s 69ms/step - loss: 0.0370 - accuracy: 0.9880 - val_loss: 0.0337 - val_accuracy: 0.9895\n",
      "Epoch 10/20\n",
      "175/175 [==============================] - 12s 69ms/step - loss: 0.0402 - accuracy: 0.9881 - val_loss: 0.0145 - val_accuracy: 0.9944\n",
      "Epoch 11/20\n",
      "175/175 [==============================] - 12s 69ms/step - loss: 0.0342 - accuracy: 0.9893 - val_loss: 0.0194 - val_accuracy: 0.9948\n",
      "Epoch 12/20\n",
      "175/175 [==============================] - 12s 69ms/step - loss: 0.0251 - accuracy: 0.9931 - val_loss: 0.0098 - val_accuracy: 0.9976\n",
      "Epoch 13/20\n",
      "175/175 [==============================] - 12s 69ms/step - loss: 0.0265 - accuracy: 0.9921 - val_loss: 0.0343 - val_accuracy: 0.9919\n",
      "Epoch 14/20\n",
      "175/175 [==============================] - 12s 69ms/step - loss: 0.0408 - accuracy: 0.9882 - val_loss: 0.0187 - val_accuracy: 0.9952\n",
      "Epoch 15/20\n",
      "175/175 [==============================] - 12s 69ms/step - loss: 0.0215 - accuracy: 0.9941 - val_loss: 0.0133 - val_accuracy: 0.9939\n",
      "Epoch 16/20\n",
      "175/175 [==============================] - 12s 69ms/step - loss: 0.0305 - accuracy: 0.9933 - val_loss: 0.0342 - val_accuracy: 0.9903\n",
      "Epoch 17/20\n",
      "175/175 [==============================] - 12s 69ms/step - loss: 0.0373 - accuracy: 0.9898 - val_loss: 0.0115 - val_accuracy: 0.9956\n",
      "Epoch 18/20\n",
      "175/175 [==============================] - 12s 69ms/step - loss: 0.0247 - accuracy: 0.9931 - val_loss: 0.0061 - val_accuracy: 0.9976\n",
      "Epoch 19/20\n",
      "175/175 [==============================] - 12s 68ms/step - loss: 0.0140 - accuracy: 0.9955 - val_loss: 0.0034 - val_accuracy: 0.9984\n",
      "Epoch 20/20\n",
      "175/175 [==============================] - 12s 69ms/step - loss: 0.0139 - accuracy: 0.9957 - val_loss: 0.0036 - val_accuracy: 0.9988\n"
     ]
    }
   ],
   "source": [
    "# Build a 3 convolutional layer CNN, with 20 epochs\n",
    "history_cnn_12ms3,cnn_model_12ms3 = build_cnn_model_3lay(x_train = X2_ms_train_train_rs,y_train=y2_ms_train_train,x_val=X2_ms_train_val_rs,y_val=y2_ms_train_val,epo_num=20)"
   ]
  },
  {
   "cell_type": "code",
   "execution_count": 191,
   "metadata": {
    "colab": {
     "base_uri": "https://localhost:8080/",
     "height": 51
    },
    "id": "b_0wxY1apc9J",
    "outputId": "7bf45d81-af2c-46c4-8f44-aa4a391d00b6"
   },
   "outputs": [
    {
     "name": "stdout",
     "output_type": "stream",
     "text": [
      "328/328 [==============================] - 2s 7ms/step - loss: 0.1501 - accuracy: 0.9647\n"
     ]
    },
    {
     "data": {
      "text/plain": [
       "[0.1501069962978363, 0.9647047519683838]"
      ]
     },
     "execution_count": 191,
     "metadata": {
      "tags": []
     },
     "output_type": "execute_result"
    }
   ],
   "source": [
    "#evaluate the ms testing datasets\n",
    "cnn_model_12ms2.evaluate(X2_ms_test_rs,y2_ms_test)"
   ]
  },
  {
   "cell_type": "code",
   "execution_count": 192,
   "metadata": {
    "colab": {
     "base_uri": "https://localhost:8080/",
     "height": 51
    },
    "id": "-uaep-QZpc6e",
    "outputId": "e0ea5597-6a58-425b-e751-d81a32c36f6d"
   },
   "outputs": [
    {
     "name": "stdout",
     "output_type": "stream",
     "text": [
      "328/328 [==============================] - 2s 7ms/step - loss: 0.3677 - accuracy: 0.9480\n"
     ]
    },
    {
     "data": {
      "text/plain": [
       "[0.3676688075065613, 0.948011040687561]"
      ]
     },
     "execution_count": 192,
     "metadata": {
      "tags": []
     },
     "output_type": "execute_result"
    }
   ],
   "source": [
    "#evaluate the ms testing datasets\n",
    "cnn_model_12ms3.evaluate(X2_ms_test_rs,y2_ms_test)"
   ]
  },
  {
   "cell_type": "code",
   "execution_count": 193,
   "metadata": {
    "id": "oAS9e24rrosP"
   },
   "outputs": [],
   "source": [
    "cnn_model_12ms1.save('1002ms_cnn_12md_epo10_2lay.h5')\n",
    "cnn_model_12ms2.save('1002ms_cnn_12md_epo20_2lay.h5')\n",
    "cnn_model_12ms3.save('1002ms_cnn_12md_epo20_3lay.h5')"
   ]
  },
  {
   "cell_type": "markdown",
   "metadata": {},
   "source": [
    "<a name=\"5.2ml\"></a>\n",
    "#### 5.2 Different network parameters"
   ]
  },
  {
   "cell_type": "code",
   "execution_count": 23,
   "metadata": {
    "id": "KqSOEX8ZsyrM"
   },
   "outputs": [],
   "source": [
    "def build_cnn_model_3lay_v2(x_train,y_train, x_val, y_val,epo_num=10, l1_size = 3,l2_size = 3,l3_size = 3):\n",
    "    # Instantiate a CNN.\n",
    "    cnn_model = Sequential()\n",
    "    # Add a convolutional layer.\n",
    "\n",
    "    cnn_model.add(Conv2D(padding = 'same',\n",
    "                        filters = 128,  # number of filters\n",
    "                        kernel_size = (l1_size,l1_size),# height/width of filter\n",
    "                        activation = 'relu', # activation function \n",
    "                        input_shape = (x_train.shape[1],x_train.shape[2],x_train.shape[3]) # shape of input (image)\n",
    "    )) \n",
    "\n",
    "    cnn_model.add(Conv2D(64,\n",
    "                          kernel_size=(l1_size,l1_size),\n",
    "                        padding = 'same',\n",
    "                          activation='relu'))\n",
    "    # Add a pooling layer.\n",
    "    cnn_model.add(MaxPooling2D(pool_size=(2,2))) # dimensions of region of pooling\n",
    "\n",
    "    # Add another convolutional layer.\n",
    "    cnn_model.add(Conv2D(64,\n",
    "                          kernel_size=(l2_size,l2_size),\n",
    "                        padding = 'same',\n",
    "                          activation='relu'))\n",
    "\n",
    "    cnn_model.add(Conv2D(32,\n",
    "                          kernel_size=(l2_size,l2_size),\n",
    "                        padding = 'same',\n",
    "                          activation='relu'))\n",
    "    # Add another pooling layer.\n",
    "    cnn_model.add(MaxPooling2D(pool_size=(2,2)))\n",
    "\n",
    "    # Add another convolutional layer.\n",
    "    cnn_model.add(Conv2D(32,\n",
    "                          kernel_size=(l3_size,l3_size),\n",
    "                        padding = 'same',\n",
    "                          activation='relu'))\n",
    "\n",
    "    cnn_model.add(Conv2D(16,\n",
    "                          kernel_size=(l3_size,l3_size),\n",
    "                        padding = 'same',\n",
    "                          activation='relu'))\n",
    "    # Add another pooling layer.\n",
    "    cnn_model.add(MaxPooling2D(pool_size=(2,2)))\n",
    "\n",
    "    # We have to remember to flatten to go from the \"box\" to the vertical line of nodes!\n",
    "    cnn_model.add(Flatten())\n",
    "\n",
    "    # Add a densely-connected layer with 64 neurons.\n",
    "    cnn_model.add(Dense(64, activation='relu'))\n",
    "\n",
    "    # Let's try to avoid overfitting!\n",
    "    cnn_model.add(Dropout(0.4))\n",
    "\n",
    "    # Add a densely-connected layer with 32 neurons.\n",
    "    cnn_model.add(Dense(32, activation='relu'))\n",
    "\n",
    "    # Let's try to avoid overfitting!\n",
    "    cnn_model.add(Dropout(0.4))\n",
    "\n",
    "    # Add a final layer with 10 neurons.\n",
    "    cnn_model.add(Dense(y_train.shape[1], activation='softmax'))\n",
    "\n",
    "    # Compile model\n",
    "    cnn_model.compile(loss='categorical_crossentropy',\n",
    "                        optimizer='adam',\n",
    "                        metrics=['accuracy'])\n",
    "    # Fit model on training data\n",
    "    history = cnn_model.fit(x_train,\n",
    "                              y_train,\n",
    "                              batch_size=128,\n",
    "                              validation_data=(x_val, y_val),\n",
    "                              epochs=epo_num,\n",
    "                              verbose=1)\n",
    "    return history, cnn_model"
   ]
  },
  {
   "cell_type": "code",
   "execution_count": 196,
   "metadata": {
    "colab": {
     "base_uri": "https://localhost:8080/",
     "height": 734
    },
    "id": "xpqJua3ksy6N",
    "outputId": "3dca7aff-446d-45fc-d903-674c8c25abd1"
   },
   "outputs": [
    {
     "name": "stdout",
     "output_type": "stream",
     "text": [
      "Epoch 1/20\n",
      "  2/175 [..............................] - ETA: 9s - loss: 1.7938 - accuracy: 0.1562WARNING:tensorflow:Callbacks method `on_train_batch_end` is slow compared to the batch time (batch time: 0.0349s vs `on_train_batch_end` time: 0.0674s). Check your callbacks.\n",
      "175/175 [==============================] - 19s 107ms/step - loss: 0.7902 - accuracy: 0.7088 - val_loss: 0.1453 - val_accuracy: 0.9564\n",
      "Epoch 2/20\n",
      "175/175 [==============================] - 18s 103ms/step - loss: 0.1399 - accuracy: 0.9588 - val_loss: 0.0463 - val_accuracy: 0.9875\n",
      "Epoch 3/20\n",
      "175/175 [==============================] - 18s 104ms/step - loss: 0.0769 - accuracy: 0.9784 - val_loss: 0.0249 - val_accuracy: 0.9927\n",
      "Epoch 4/20\n",
      "175/175 [==============================] - 18s 105ms/step - loss: 0.0551 - accuracy: 0.9844 - val_loss: 0.0205 - val_accuracy: 0.9944\n",
      "Epoch 5/20\n",
      "175/175 [==============================] - 18s 106ms/step - loss: 0.0464 - accuracy: 0.9863 - val_loss: 0.0182 - val_accuracy: 0.9944\n",
      "Epoch 6/20\n",
      "175/175 [==============================] - 19s 106ms/step - loss: 0.0305 - accuracy: 0.9914 - val_loss: 0.0155 - val_accuracy: 0.9944\n",
      "Epoch 7/20\n",
      "175/175 [==============================] - 18s 105ms/step - loss: 0.0212 - accuracy: 0.9935 - val_loss: 0.0119 - val_accuracy: 0.9976\n",
      "Epoch 8/20\n",
      "175/175 [==============================] - 18s 104ms/step - loss: 0.0413 - accuracy: 0.9886 - val_loss: 0.0212 - val_accuracy: 0.9948\n",
      "Epoch 9/20\n",
      "175/175 [==============================] - 18s 104ms/step - loss: 0.0163 - accuracy: 0.9953 - val_loss: 0.0083 - val_accuracy: 0.9984\n",
      "Epoch 10/20\n",
      "175/175 [==============================] - 18s 105ms/step - loss: 0.0427 - accuracy: 0.9907 - val_loss: 0.0158 - val_accuracy: 0.9952\n",
      "Epoch 11/20\n",
      "175/175 [==============================] - 18s 105ms/step - loss: 0.0174 - accuracy: 0.9945 - val_loss: 0.0162 - val_accuracy: 0.9968\n",
      "Epoch 12/20\n",
      "175/175 [==============================] - 18s 105ms/step - loss: 0.0121 - accuracy: 0.9964 - val_loss: 0.0157 - val_accuracy: 0.9948\n",
      "Epoch 13/20\n",
      "175/175 [==============================] - 18s 104ms/step - loss: 0.0136 - accuracy: 0.9969 - val_loss: 0.0192 - val_accuracy: 0.9956\n",
      "Epoch 14/20\n",
      "175/175 [==============================] - 18s 104ms/step - loss: 0.0456 - accuracy: 0.9899 - val_loss: 0.0166 - val_accuracy: 0.9927\n",
      "Epoch 15/20\n",
      "175/175 [==============================] - 18s 105ms/step - loss: 0.0347 - accuracy: 0.9909 - val_loss: 0.0072 - val_accuracy: 0.9976\n",
      "Epoch 16/20\n",
      "175/175 [==============================] - 18s 104ms/step - loss: 0.0201 - accuracy: 0.9952 - val_loss: 0.0077 - val_accuracy: 0.9976\n",
      "Epoch 17/20\n",
      "175/175 [==============================] - 18s 105ms/step - loss: 0.0087 - accuracy: 0.9976 - val_loss: 0.0315 - val_accuracy: 0.9935\n",
      "Epoch 18/20\n",
      "175/175 [==============================] - 18s 105ms/step - loss: 0.0158 - accuracy: 0.9951 - val_loss: 0.0063 - val_accuracy: 0.9976\n",
      "Epoch 19/20\n",
      "175/175 [==============================] - 18s 104ms/step - loss: 0.0050 - accuracy: 0.9982 - val_loss: 0.0070 - val_accuracy: 0.9976\n",
      "Epoch 20/20\n",
      "175/175 [==============================] - 18s 104ms/step - loss: 0.0065 - accuracy: 0.9979 - val_loss: 0.0067 - val_accuracy: 0.9988\n"
     ]
    }
   ],
   "source": [
    "# Build a 3 convolutional layer CNN, with 20 epochs\n",
    "history_cnn_12ms4,cnn_model_12ms4 = build_cnn_model_3lay_v2(x_train = X2_ms_train_train_rs,y_train=y2_ms_train_train,x_val=X2_ms_train_val_rs,y_val=y2_ms_train_val,\n",
    "                                                         epo_num=20,l1_size =5)"
   ]
  },
  {
   "cell_type": "code",
   "execution_count": 197,
   "metadata": {
    "id": "U28cLXcCvcgP"
   },
   "outputs": [],
   "source": [
    "cnn_model_12ms4.save('1002ms_cnn_12md_epo20_3layv2.h5')"
   ]
  },
  {
   "cell_type": "code",
   "execution_count": 198,
   "metadata": {
    "colab": {
     "base_uri": "https://localhost:8080/",
     "height": 51
    },
    "id": "iEIR2tXovuDh",
    "outputId": "43a2c6ec-eed3-4462-d5f3-3a7069ba6814"
   },
   "outputs": [
    {
     "name": "stdout",
     "output_type": "stream",
     "text": [
      "328/328 [==============================] - 4s 12ms/step - loss: 0.6886 - accuracy: 0.9298\n"
     ]
    },
    {
     "data": {
      "text/plain": [
       "[0.6885741353034973, 0.9297910928726196]"
      ]
     },
     "execution_count": 198,
     "metadata": {
      "tags": []
     },
     "output_type": "execute_result"
    }
   ],
   "source": [
    "#evaluate the ms testing datasets\n",
    "cnn_model_12ms4.evaluate(X2_ms_test_rs,y2_ms_test)"
   ]
  },
  {
   "cell_type": "markdown",
   "metadata": {},
   "source": [
    "<a name=\"5.3ml\"></a>\n",
    "#### 5.3 Putting all subjects in the training datasets"
   ]
  },
  {
   "cell_type": "code",
   "execution_count": 24,
   "metadata": {
    "id": "342ZfrHswE4y"
   },
   "outputs": [],
   "source": [
    "# Put part of the testing data into training datasets, so that all the subject's data were used for training\n",
    "X2_ms_test_rs_train,X2_ms_test_rs_test,y2_ms_test_train,y2_ms_test_test = train_test_split(X2_ms_test_rs,y2_ms_test,stratify=y2_ms_test,test_size = 0.6)"
   ]
  },
  {
   "cell_type": "code",
   "execution_count": 25,
   "metadata": {
    "colab": {
     "base_uri": "https://localhost:8080/",
     "height": 34
    },
    "id": "wXY16JXeyDGd",
    "outputId": "531a6d92-a9d3-48f1-bd7a-6e4e110cbe9e"
   },
   "outputs": [
    {
     "name": "stdout",
     "output_type": "stream",
     "text": [
      "(4193, 200, 12, 1) (6290, 200, 12, 1) (4193, 6) (6290, 6) (22304, 200, 12, 1)\n"
     ]
    }
   ],
   "source": [
    "print(X2_ms_test_rs_train.shape,X2_ms_test_rs_test.shape,y2_ms_test_train.shape,y2_ms_test_test.shape,X2_ms_train_train_rs.shape)"
   ]
  },
  {
   "cell_type": "code",
   "execution_count": 26,
   "metadata": {
    "colab": {
     "base_uri": "https://localhost:8080/",
     "height": 34
    },
    "id": "2O9tfLXaw2ox",
    "outputId": "a16c18de-9719-48c8-be0c-70e28df91e5b"
   },
   "outputs": [
    {
     "name": "stdout",
     "output_type": "stream",
     "text": [
      "(26497, 200, 12, 1) (26497, 6)\n"
     ]
    }
   ],
   "source": [
    "X3_ms_train = np.concatenate((X2_ms_train_train_rs,X2_ms_test_rs_train),axis = 0 )\n",
    "y3_ms_train = np.concatenate((y2_ms_train_train,y2_ms_test_train),axis = 0 )\n",
    "print(X3_ms_train.shape,y3_ms_train.shape)"
   ]
  },
  {
   "cell_type": "code",
   "execution_count": 27,
   "metadata": {
    "colab": {
     "base_uri": "https://localhost:8080/",
     "height": 734
    },
    "id": "23p3sGvLyjf0",
    "outputId": "33316a81-6907-48c0-97da-75628c6cb1da"
   },
   "outputs": [
    {
     "name": "stdout",
     "output_type": "stream",
     "text": [
      "Epoch 1/20\n",
      "  2/208 [..............................] - ETA: 10s - loss: 1.7754 - accuracy: 0.1406WARNING:tensorflow:Callbacks method `on_train_batch_end` is slow compared to the batch time (batch time: 0.0340s vs `on_train_batch_end` time: 0.0671s). Check your callbacks.\n",
      "208/208 [==============================] - 22s 105ms/step - loss: 0.7305 - accuracy: 0.7048 - val_loss: 0.4263 - val_accuracy: 0.8483\n",
      "Epoch 2/20\n",
      "208/208 [==============================] - 21s 102ms/step - loss: 0.1995 - accuracy: 0.9369 - val_loss: 0.0999 - val_accuracy: 0.9689\n",
      "Epoch 3/20\n",
      "208/208 [==============================] - 21s 102ms/step - loss: 0.1250 - accuracy: 0.9668 - val_loss: 0.0501 - val_accuracy: 0.9835\n",
      "Epoch 4/20\n",
      "208/208 [==============================] - 21s 102ms/step - loss: 0.0699 - accuracy: 0.9810 - val_loss: 0.0523 - val_accuracy: 0.9839\n",
      "Epoch 5/20\n",
      "208/208 [==============================] - 21s 103ms/step - loss: 0.0480 - accuracy: 0.9862 - val_loss: 0.0177 - val_accuracy: 0.9927\n",
      "Epoch 6/20\n",
      "208/208 [==============================] - 21s 103ms/step - loss: 0.0365 - accuracy: 0.9897 - val_loss: 0.0324 - val_accuracy: 0.9899\n",
      "Epoch 7/20\n",
      "208/208 [==============================] - 22s 104ms/step - loss: 0.0446 - accuracy: 0.9886 - val_loss: 0.0264 - val_accuracy: 0.9911\n",
      "Epoch 8/20\n",
      "208/208 [==============================] - 22s 105ms/step - loss: 0.0266 - accuracy: 0.9928 - val_loss: 0.0324 - val_accuracy: 0.9899\n",
      "Epoch 9/20\n",
      "208/208 [==============================] - 22s 104ms/step - loss: 0.0202 - accuracy: 0.9949 - val_loss: 0.0268 - val_accuracy: 0.9927\n",
      "Epoch 10/20\n",
      "208/208 [==============================] - 22s 104ms/step - loss: 0.0465 - accuracy: 0.9880 - val_loss: 0.0166 - val_accuracy: 0.9935\n",
      "Epoch 11/20\n",
      "208/208 [==============================] - 22s 104ms/step - loss: 0.0226 - accuracy: 0.9933 - val_loss: 0.0485 - val_accuracy: 0.9871\n",
      "Epoch 12/20\n",
      "208/208 [==============================] - 22s 104ms/step - loss: 0.0169 - accuracy: 0.9954 - val_loss: 0.0125 - val_accuracy: 0.9964\n",
      "Epoch 13/20\n",
      "208/208 [==============================] - 22s 103ms/step - loss: 0.0174 - accuracy: 0.9957 - val_loss: 0.0377 - val_accuracy: 0.9915\n",
      "Epoch 14/20\n",
      "208/208 [==============================] - 22s 104ms/step - loss: 0.0208 - accuracy: 0.9942 - val_loss: 0.0647 - val_accuracy: 0.9778\n",
      "Epoch 15/20\n",
      "208/208 [==============================] - 22s 103ms/step - loss: 0.0209 - accuracy: 0.9940 - val_loss: 0.0439 - val_accuracy: 0.9911\n",
      "Epoch 16/20\n",
      "208/208 [==============================] - 22s 103ms/step - loss: 0.0250 - accuracy: 0.9933 - val_loss: 0.0213 - val_accuracy: 0.9935\n",
      "Epoch 17/20\n",
      "208/208 [==============================] - 21s 103ms/step - loss: 0.0223 - accuracy: 0.9939 - val_loss: 0.0238 - val_accuracy: 0.9948\n",
      "Epoch 18/20\n",
      "208/208 [==============================] - 21s 103ms/step - loss: 0.0109 - accuracy: 0.9967 - val_loss: 0.0106 - val_accuracy: 0.9976\n",
      "Epoch 19/20\n",
      "208/208 [==============================] - 22s 103ms/step - loss: 0.0231 - accuracy: 0.9944 - val_loss: 0.0267 - val_accuracy: 0.9927\n",
      "Epoch 20/20\n",
      "208/208 [==============================] - 21s 103ms/step - loss: 0.0106 - accuracy: 0.9971 - val_loss: 0.0162 - val_accuracy: 0.9968\n"
     ]
    }
   ],
   "source": [
    "# Build a 3 convolutional layer CNN, with 20 epochs\n",
    "history_cnn_12ms5,cnn_model_12ms5 = build_cnn_model_3lay_v2(x_train = X3_ms_train,y_train=y3_ms_train,x_val=X2_ms_train_val_rs,y_val=y2_ms_train_val,\n",
    "                                                         epo_num=20,l1_size =5)"
   ]
  },
  {
   "cell_type": "code",
   "execution_count": 28,
   "metadata": {
    "id": "U1XM1yMWyjsq"
   },
   "outputs": [],
   "source": [
    "cnn_model_12ms5.save('1002ms_cnn_12md_epo20_3layv2_allsubject.h5')"
   ]
  },
  {
   "cell_type": "code",
   "execution_count": 29,
   "metadata": {
    "colab": {
     "base_uri": "https://localhost:8080/",
     "height": 51
    },
    "id": "inBD7A1PyjqJ",
    "outputId": "0e3e68e5-d673-4ef0-8d5a-1e93691759d1"
   },
   "outputs": [
    {
     "name": "stdout",
     "output_type": "stream",
     "text": [
      "328/328 [==============================] - 4s 12ms/step - loss: 0.0270 - accuracy: 0.9941\n"
     ]
    },
    {
     "data": {
      "text/plain": [
       "[0.026988819241523743, 0.9940856695175171]"
      ]
     },
     "execution_count": 29,
     "metadata": {
      "tags": []
     },
     "output_type": "execute_result"
    }
   ],
   "source": [
    "#evaluate the ms testing datasets\n",
    "cnn_model_12ms5.evaluate(X2_ms_test_rs,y2_ms_test)"
   ]
  },
  {
   "cell_type": "code",
   "execution_count": 31,
   "metadata": {
    "colab": {
     "base_uri": "https://localhost:8080/",
     "height": 51
    },
    "id": "q7T20bGK2m5i",
    "outputId": "6ac1fdf4-04c7-4810-e28b-4fb8d79fc69e"
   },
   "outputs": [
    {
     "name": "stdout",
     "output_type": "stream",
     "text": [
      "197/197 [==============================] - 2s 12ms/step - loss: 0.0377 - accuracy: 0.9932\n"
     ]
    },
    {
     "data": {
      "text/plain": [
       "[0.03771098703145981, 0.9931637644767761]"
      ]
     },
     "execution_count": 31,
     "metadata": {
      "tags": []
     },
     "output_type": "execute_result"
    }
   ],
   "source": [
    "#evaluate the ms testing datasets\n",
    "cnn_model_12ms5.evaluate(X2_ms_test_rs_test,y2_ms_test_test)"
   ]
  },
  {
   "cell_type": "markdown",
   "metadata": {},
   "source": [
    "#### Comments\n",
    "- The accuracies of the CNN models built from the MS datasets are compared in the table below:  \n",
    "\n",
    "| Models      \t| 3 features \t| 12 features  \t| 12 features / big kernel \t|12 features / big kernel / all subjects \t|  \n",
    "|-------------\t|-------\t|------\t|----------\t|---|  \n",
    "| Accuracy  \t| 0.90  \t| 0.95 \t| 0.93     \t|0.99|   \n",
    "\n",
    "- Using 12 features helped to improve the CNN models\n",
    "- Using big kernels in the convolutional layers didn't help for this case, but the impact was not big either\n",
    "- Using data from all subjects improved the model to very high accuracy. This might indicate that the sample space for the MS datasets not big enough."
   ]
  },
  {
   "cell_type": "markdown",
   "metadata": {},
   "source": [
    "<a name=\"6ml\"></a>\n",
    "\n",
    "### 6. Conclusions\n",
    "\n",
    "In this section, using RNN LSTM models, I first demonstrated that the optimized flow for creating model building datasets would help to improve the model's accuracies. It was also showed training models from the combined MS and WISDM datasets for cross-platform human activities regconition (HAR) was doable. CNN models and some other none neural-network(NN) based models were also built to classify human activities. All the non-NN models showed overfitting and performed not well. CNN models were the best among all the models and had achieved promising accuracies for the individual dataset or the combined datasets. At last, using the MS datasets, it was demonstrated that using more features and all subjects could further improved the CNN models. "
   ]
  }
 ],
 "metadata": {
  "accelerator": "GPU",
  "colab": {
   "name": "06_byUser_byActivity.ipynb",
   "provenance": []
  },
  "kernelspec": {
   "display_name": "Python 3",
   "language": "python",
   "name": "python3"
  },
  "language_info": {
   "codemirror_mode": {
    "name": "ipython",
    "version": 3
   },
   "file_extension": ".py",
   "mimetype": "text/x-python",
   "name": "python",
   "nbconvert_exporter": "python",
   "pygments_lexer": "ipython3",
   "version": "3.7.7"
  }
 },
 "nbformat": 4,
 "nbformat_minor": 4
}
