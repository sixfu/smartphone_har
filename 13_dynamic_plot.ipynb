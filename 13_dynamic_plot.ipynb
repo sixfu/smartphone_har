{
 "cells": [
  {
   "cell_type": "code",
   "execution_count": 8,
   "metadata": {},
   "outputs": [],
   "source": [
    "import numpy as np\n",
    "import pandas as pd\n",
    "import matplotlib.pyplot as plt\n",
    "from sklearn.preprocessing import RobustScaler\n",
    "# from scipy import stats\n",
    "# from sklearn.preprocessing import OneHotEncoder\n",
    "# import tensorflow as tf\n",
    "# from tensorflow import keras\n",
    "# from sklearn.model_selection import train_test_split\n",
    "# from tensorflow.keras.layers import Dense, Dropout, Flatten, Conv2D, MaxPooling2D\n",
    "# from tensorflow.keras.models import Sequential\n",
    "# from sklearn.linear_model import LogisticRegression\n",
    "from collections import deque"
   ]
  },
  {
   "cell_type": "code",
   "execution_count": 2,
   "metadata": {},
   "outputs": [],
   "source": [
    "#define a function to reading the datasets I collected\n",
    "def read_in_iPhone_data(path = './01_rawdata/collection/', file = 'z_walk1.csv', merge_wd = True):\n",
    "    df = pd.read_csv(path+file)\n",
    "    df['x_axis']=df['userAcceleration.x']+df['gravity.x']\n",
    "    df['y_axis']=df['userAcceleration.y']+df['gravity.y']\n",
    "    df['z_axis']=df['userAcceleration.z']+df['gravity.z']\n",
    "    if merge_wd:      # only need 3 featuress if work with WISDM datasets\n",
    "        return df[['x_axis','y_axis','z_axis']]\n",
    "    else:             # all the features could be used if work with MS datasets\n",
    "        col = ['attitude.roll', 'attitude.pitch',\n",
    "       'attitude.yaw', 'gravity.x', 'gravity.y', 'gravity.z',\n",
    "       'rotationRate.x', 'rotationRate.y',\n",
    "       'rotationRate.z', 'userAcceleration.x', 'userAcceleration.y',\n",
    "       'userAcceleration.z', 'x_axis', 'y_axis', 'z_axis']\n",
    "        return df[col]    "
   ]
  },
  {
   "cell_type": "code",
   "execution_count": 5,
   "metadata": {},
   "outputs": [],
   "source": [
    "#define a function to scale the features, the scaler need to match with the ones used for building the models\n",
    "def robustscale_data(df,cols,scaler=RobustScaler()):\n",
    "    scale_columns = cols\n",
    "    df.loc[:, scale_columns] = scaler.fit_transform(df[scale_columns].to_numpy())\n",
    "    return df"
   ]
  },
  {
   "cell_type": "code",
   "execution_count": 129,
   "metadata": {},
   "outputs": [],
   "source": [
    "df = read_in_iPhone_data()\n",
    "df_jog = read_in_iPhone_data(file='z_jogging1.csv')"
   ]
  },
  {
   "cell_type": "code",
   "execution_count": 139,
   "metadata": {},
   "outputs": [],
   "source": [
    "df['act'] = 5"
   ]
  },
  {
   "cell_type": "code",
   "execution_count": 130,
   "metadata": {},
   "outputs": [],
   "source": [
    "df_jog['act'] = 2"
   ]
  },
  {
   "cell_type": "code",
   "execution_count": 140,
   "metadata": {},
   "outputs": [
    {
     "data": {
      "text/html": [
       "<div>\n",
       "<style scoped>\n",
       "    .dataframe tbody tr th:only-of-type {\n",
       "        vertical-align: middle;\n",
       "    }\n",
       "\n",
       "    .dataframe tbody tr th {\n",
       "        vertical-align: top;\n",
       "    }\n",
       "\n",
       "    .dataframe thead th {\n",
       "        text-align: right;\n",
       "    }\n",
       "</style>\n",
       "<table border=\"1\" class=\"dataframe\">\n",
       "  <thead>\n",
       "    <tr style=\"text-align: right;\">\n",
       "      <th></th>\n",
       "      <th>x_axis</th>\n",
       "      <th>y_axis</th>\n",
       "      <th>z_axis</th>\n",
       "      <th>act</th>\n",
       "    </tr>\n",
       "  </thead>\n",
       "  <tbody>\n",
       "    <tr>\n",
       "      <th>0</th>\n",
       "      <td>0.121612</td>\n",
       "      <td>-0.494126</td>\n",
       "      <td>-0.931396</td>\n",
       "      <td>5</td>\n",
       "    </tr>\n",
       "    <tr>\n",
       "      <th>1</th>\n",
       "      <td>0.125077</td>\n",
       "      <td>-0.517579</td>\n",
       "      <td>-0.988495</td>\n",
       "      <td>5</td>\n",
       "    </tr>\n",
       "    <tr>\n",
       "      <th>2</th>\n",
       "      <td>0.105133</td>\n",
       "      <td>-0.492829</td>\n",
       "      <td>-1.029984</td>\n",
       "      <td>5</td>\n",
       "    </tr>\n",
       "    <tr>\n",
       "      <th>3</th>\n",
       "      <td>0.053482</td>\n",
       "      <td>-0.464905</td>\n",
       "      <td>-0.957855</td>\n",
       "      <td>5</td>\n",
       "    </tr>\n",
       "    <tr>\n",
       "      <th>4</th>\n",
       "      <td>0.029190</td>\n",
       "      <td>-0.445298</td>\n",
       "      <td>-0.990738</td>\n",
       "      <td>5</td>\n",
       "    </tr>\n",
       "  </tbody>\n",
       "</table>\n",
       "</div>"
      ],
      "text/plain": [
       "     x_axis    y_axis    z_axis  act\n",
       "0  0.121612 -0.494126 -0.931396    5\n",
       "1  0.125077 -0.517579 -0.988495    5\n",
       "2  0.105133 -0.492829 -1.029984    5\n",
       "3  0.053482 -0.464905 -0.957855    5\n",
       "4  0.029190 -0.445298 -0.990738    5"
      ]
     },
     "execution_count": 140,
     "metadata": {},
     "output_type": "execute_result"
    }
   ],
   "source": [
    "df.head()"
   ]
  },
  {
   "cell_type": "code",
   "execution_count": 132,
   "metadata": {},
   "outputs": [
    {
     "data": {
      "text/html": [
       "<div>\n",
       "<style scoped>\n",
       "    .dataframe tbody tr th:only-of-type {\n",
       "        vertical-align: middle;\n",
       "    }\n",
       "\n",
       "    .dataframe tbody tr th {\n",
       "        vertical-align: top;\n",
       "    }\n",
       "\n",
       "    .dataframe thead th {\n",
       "        text-align: right;\n",
       "    }\n",
       "</style>\n",
       "<table border=\"1\" class=\"dataframe\">\n",
       "  <thead>\n",
       "    <tr style=\"text-align: right;\">\n",
       "      <th></th>\n",
       "      <th>x_axis</th>\n",
       "      <th>y_axis</th>\n",
       "      <th>z_axis</th>\n",
       "      <th>act</th>\n",
       "    </tr>\n",
       "  </thead>\n",
       "  <tbody>\n",
       "    <tr>\n",
       "      <th>0</th>\n",
       "      <td>0.204651</td>\n",
       "      <td>-0.554016</td>\n",
       "      <td>-0.769303</td>\n",
       "      <td>2</td>\n",
       "    </tr>\n",
       "    <tr>\n",
       "      <th>1</th>\n",
       "      <td>0.205124</td>\n",
       "      <td>-0.561096</td>\n",
       "      <td>-0.841354</td>\n",
       "      <td>2</td>\n",
       "    </tr>\n",
       "    <tr>\n",
       "      <th>2</th>\n",
       "      <td>0.189698</td>\n",
       "      <td>-0.547699</td>\n",
       "      <td>-0.885574</td>\n",
       "      <td>2</td>\n",
       "    </tr>\n",
       "    <tr>\n",
       "      <th>3</th>\n",
       "      <td>0.210525</td>\n",
       "      <td>-0.579956</td>\n",
       "      <td>-0.944229</td>\n",
       "      <td>2</td>\n",
       "    </tr>\n",
       "    <tr>\n",
       "      <th>4</th>\n",
       "      <td>0.188507</td>\n",
       "      <td>-0.555908</td>\n",
       "      <td>-0.908447</td>\n",
       "      <td>2</td>\n",
       "    </tr>\n",
       "  </tbody>\n",
       "</table>\n",
       "</div>"
      ],
      "text/plain": [
       "     x_axis    y_axis    z_axis  act\n",
       "0  0.204651 -0.554016 -0.769303    2\n",
       "1  0.205124 -0.561096 -0.841354    2\n",
       "2  0.189698 -0.547699 -0.885574    2\n",
       "3  0.210525 -0.579956 -0.944229    2\n",
       "4  0.188507 -0.555908 -0.908447    2"
      ]
     },
     "execution_count": 132,
     "metadata": {},
     "output_type": "execute_result"
    }
   ],
   "source": [
    "df_jog.head()"
   ]
  },
  {
   "cell_type": "code",
   "execution_count": 142,
   "metadata": {},
   "outputs": [
    {
     "data": {
      "text/plain": [
       "(1000, 4)"
      ]
     },
     "execution_count": 142,
     "metadata": {},
     "output_type": "execute_result"
    }
   ],
   "source": [
    "df1.shape"
   ]
  },
  {
   "cell_type": "code",
   "execution_count": 141,
   "metadata": {},
   "outputs": [],
   "source": [
    "df1 = pd.concat([df.iloc[0:500],df_jog.iloc[0:500]])"
   ]
  },
  {
   "cell_type": "code",
   "execution_count": 65,
   "metadata": {},
   "outputs": [],
   "source": [
    "# # %matplotlib qt5\n",
    "# plt.ion()\n",
    "# # time shown in plot (in days)\n",
    "# visible = 120 \n",
    "\n",
    "# # initializing deques\n",
    "# dy1=deque(np.zeros(visible), visible)\n",
    "# dy2=deque(np.zeros(visible), visible)\n",
    "# dx=deque(np.zeros(visible), visible)\n",
    "# data_length = np.linspace(0,df1.shape[0],num=df1.shape[0]+1)"
   ]
  },
  {
   "cell_type": "code",
   "execution_count": 49,
   "metadata": {},
   "outputs": [
    {
     "data": {
      "text/plain": [
       "120"
      ]
     },
     "execution_count": 49,
     "metadata": {},
     "output_type": "execute_result"
    }
   ],
   "source": [
    "# len(dx)"
   ]
  },
  {
   "cell_type": "code",
   "execution_count": 62,
   "metadata": {},
   "outputs": [],
   "source": [
    "# data_length"
   ]
  },
  {
   "cell_type": "code",
   "execution_count": 67,
   "metadata": {},
   "outputs": [
    {
     "data": {
      "text/plain": [
       "(2000, 3)"
      ]
     },
     "execution_count": 67,
     "metadata": {},
     "output_type": "execute_result"
    }
   ],
   "source": [
    "df1.shape"
   ]
  },
  {
   "cell_type": "code",
   "execution_count": 213,
   "metadata": {},
   "outputs": [],
   "source": [
    "%matplotlib qt5\n",
    "plt.ion()\n",
    "# time shown in plot (in days)\n",
    "visible = 200 \n",
    "\n",
    "# initializing deques\n",
    "dy1=deque(np.zeros(visible), visible)\n",
    "dy2=deque(np.zeros(visible), visible)\n",
    "dy3=deque(np.zeros(visible), visible)\n",
    "dy4=deque(np.zeros(visible), visible)\n",
    "dx=deque(np.zeros(visible), visible)\n",
    "data_length = np.linspace(0,df1.shape[0],num=df1.shape[0]+1)\n",
    "\n",
    "# plotting\n",
    "fig=plt.figure(figsize=(8,4))\n",
    "ah1=fig.add_subplot(411)\n",
    "plt.margins(x=0.001)\n",
    "ah1.set_ylabel(\"Sales\", fontsize=14)\n",
    "l1, = ah1.plot(dx, dy1, color='rosybrown', label='x')\n",
    "ah1.legend(loc=\"upper right\", fontsize=12, fancybox=True, framealpha=0.5)\n",
    "\n",
    "ah2=fig.add_subplot(412)\n",
    "#ah2.set_xlabel(\"Days\", fontsize=14, labelpad=10)\n",
    "ah2.set_ylabel(\"Sales\", fontsize=14)\n",
    "l2, = ah2.plot(dx, dy2, color='silver', label='y')\n",
    "ah2.legend(loc=\"upper right\", fontsize=12, fancybox=True, framealpha=0.5)\n",
    "\n",
    "ah3=fig.add_subplot(413)\n",
    "#ah3.set_xlabel(\"Days\", fontsize=14, labelpad=10)\n",
    "ah3.set_ylabel(\"Sales\", fontsize=14)\n",
    "l3, = ah3.plot(dx, dy2, color='blue', label='z')\n",
    "ah3.legend(loc=\"upper right\", fontsize=12, fancybox=True, framealpha=0.5)\n",
    "\n",
    "ah4=fig.add_subplot(414)\n",
    "#ah3.set_xlabel(\"Days\", fontsize=14, labelpad=10)\n",
    "ah4.set_ylabel(\"Sales\", fontsize=14)\n",
    "l4, = ah4.plot(dx, dy2, color='blue', label='act')\n",
    "ah4.legend(loc=\"upper right\", fontsize=12, fancybox=True, framealpha=0.5)\n",
    "\n",
    "\n",
    "x_data=0\n",
    "# i=0\n",
    "while x_data+visible <= df1.shape[0]: \n",
    "\n",
    "    # update data    \n",
    "    dy1.extend(df1['x_axis'].iloc[x_data:x_data+visible])\n",
    "    dy2.extend(df1['y_axis'].iloc[x_data:x_data+visible])\n",
    "    dy3.extend(df1['z_axis'].iloc[x_data:x_data+visible])\n",
    "    dy4.extend(df1['act'].iloc[x_data:x_data+visible])\n",
    "    dx.extend(data_length[x_data:x_data+visible])\n",
    "\n",
    "    # update plot    \n",
    "    l1.set_ydata(dy1)  \n",
    "    l2.set_ydata(dy2)\n",
    "    l3.set_ydata(dy3)\n",
    "    l4.set_ydata(dy4)\n",
    "    l1.set_xdata(dx)\n",
    "    l2.set_xdata(dx)\n",
    "    l3.set_xdata(dx)\n",
    "    l4.set_xdata(dx)\n",
    "    \n",
    "    # calculate mean    \n",
    "    mdy1=np.mean(dy1)\n",
    "    mdy2=np.mean(dy2)\n",
    "    mdy3=np.mean(dy3)\n",
    "    \n",
    "    # set axes    \n",
    "    ah1.set_ylim(-2+mdy1, 2+mdy1)\n",
    "    ah1.set_xlim(data_length[x_data], data_length[x_data+visible])\n",
    "    ah2.set_ylim(-2+mdy2, 2+mdy2)\n",
    "    ah2.set_xlim(data_length[x_data], data_length[x_data+visible])\n",
    "    ah3.set_ylim(-2+mdy3, 2+mdy3)\n",
    "    ah3.set_xlim(data_length[x_data], data_length[x_data+visible])\n",
    "    ah4.set_ylim(-1, 6)\n",
    "    ah4.set_xlim(data_length[x_data], data_length[x_data+visible])\n",
    "\n",
    "    # control speed of moving time-series    \n",
    "    x_data += 5\n",
    "#     i+=1\n",
    "#     print(i)\n",
    "    fig.canvas.draw()\n",
    "    fig.canvas.flush_events()"
   ]
  },
  {
   "cell_type": "code",
   "execution_count": 156,
   "metadata": {},
   "outputs": [],
   "source": [
    "dict_name = {i:'dy'+str(i) for i in range(1,5)}"
   ]
  },
  {
   "cell_type": "code",
   "execution_count": 181,
   "metadata": {},
   "outputs": [
    {
     "data": {
      "text/html": [
       "<div>\n",
       "<style scoped>\n",
       "    .dataframe tbody tr th:only-of-type {\n",
       "        vertical-align: middle;\n",
       "    }\n",
       "\n",
       "    .dataframe tbody tr th {\n",
       "        vertical-align: top;\n",
       "    }\n",
       "\n",
       "    .dataframe thead th {\n",
       "        text-align: right;\n",
       "    }\n",
       "</style>\n",
       "<table border=\"1\" class=\"dataframe\">\n",
       "  <thead>\n",
       "    <tr style=\"text-align: right;\">\n",
       "      <th></th>\n",
       "      <th>x_axis</th>\n",
       "      <th>y_axis</th>\n",
       "      <th>z_axis</th>\n",
       "      <th>act</th>\n",
       "    </tr>\n",
       "  </thead>\n",
       "  <tbody>\n",
       "    <tr>\n",
       "      <th>0</th>\n",
       "      <td>0.121612</td>\n",
       "      <td>-0.494126</td>\n",
       "      <td>-0.931396</td>\n",
       "      <td>5</td>\n",
       "    </tr>\n",
       "    <tr>\n",
       "      <th>1</th>\n",
       "      <td>0.125077</td>\n",
       "      <td>-0.517579</td>\n",
       "      <td>-0.988495</td>\n",
       "      <td>5</td>\n",
       "    </tr>\n",
       "    <tr>\n",
       "      <th>2</th>\n",
       "      <td>0.105133</td>\n",
       "      <td>-0.492829</td>\n",
       "      <td>-1.029984</td>\n",
       "      <td>5</td>\n",
       "    </tr>\n",
       "    <tr>\n",
       "      <th>3</th>\n",
       "      <td>0.053482</td>\n",
       "      <td>-0.464905</td>\n",
       "      <td>-0.957855</td>\n",
       "      <td>5</td>\n",
       "    </tr>\n",
       "    <tr>\n",
       "      <th>4</th>\n",
       "      <td>0.029190</td>\n",
       "      <td>-0.445298</td>\n",
       "      <td>-0.990738</td>\n",
       "      <td>5</td>\n",
       "    </tr>\n",
       "    <tr>\n",
       "      <th>...</th>\n",
       "      <td>...</td>\n",
       "      <td>...</td>\n",
       "      <td>...</td>\n",
       "      <td>...</td>\n",
       "    </tr>\n",
       "    <tr>\n",
       "      <th>495</th>\n",
       "      <td>0.211553</td>\n",
       "      <td>0.513636</td>\n",
       "      <td>-0.463729</td>\n",
       "      <td>2</td>\n",
       "    </tr>\n",
       "    <tr>\n",
       "      <th>496</th>\n",
       "      <td>0.021810</td>\n",
       "      <td>1.496013</td>\n",
       "      <td>-0.585126</td>\n",
       "      <td>2</td>\n",
       "    </tr>\n",
       "    <tr>\n",
       "      <th>497</th>\n",
       "      <td>-0.433404</td>\n",
       "      <td>2.898157</td>\n",
       "      <td>-0.946956</td>\n",
       "      <td>2</td>\n",
       "    </tr>\n",
       "    <tr>\n",
       "      <th>498</th>\n",
       "      <td>-0.721931</td>\n",
       "      <td>3.327570</td>\n",
       "      <td>-1.350763</td>\n",
       "      <td>2</td>\n",
       "    </tr>\n",
       "    <tr>\n",
       "      <th>499</th>\n",
       "      <td>-0.967277</td>\n",
       "      <td>2.957881</td>\n",
       "      <td>-1.145027</td>\n",
       "      <td>2</td>\n",
       "    </tr>\n",
       "  </tbody>\n",
       "</table>\n",
       "<p>1000 rows × 4 columns</p>\n",
       "</div>"
      ],
      "text/plain": [
       "       x_axis    y_axis    z_axis  act\n",
       "0    0.121612 -0.494126 -0.931396    5\n",
       "1    0.125077 -0.517579 -0.988495    5\n",
       "2    0.105133 -0.492829 -1.029984    5\n",
       "3    0.053482 -0.464905 -0.957855    5\n",
       "4    0.029190 -0.445298 -0.990738    5\n",
       "..        ...       ...       ...  ...\n",
       "495  0.211553  0.513636 -0.463729    2\n",
       "496  0.021810  1.496013 -0.585126    2\n",
       "497 -0.433404  2.898157 -0.946956    2\n",
       "498 -0.721931  3.327570 -1.350763    2\n",
       "499 -0.967277  2.957881 -1.145027    2\n",
       "\n",
       "[1000 rows x 4 columns]"
      ]
     },
     "execution_count": 181,
     "metadata": {},
     "output_type": "execute_result"
    }
   ],
   "source": [
    "df1.iloc[:,0:4]"
   ]
  },
  {
   "cell_type": "code",
   "execution_count": 234,
   "metadata": {},
   "outputs": [],
   "source": [
    "def plot_realtime(visible = 200,df1 = df1, shift = 5):\n",
    "    %matplotlib qt5\n",
    "    plt.ion()\n",
    "    # time shown in plot (in days)\n",
    "#     visible = 200 \n",
    "    col = df1.shape[1]\n",
    "    # initializing deques\n",
    "    dy = [None for _ in range(col)]\n",
    "    ah = [None for _ in range(col)]\n",
    "    l = [None for _ in range(col)]\n",
    "#     mdy = [None for _ in range(col)]\n",
    "    colors = ['rosybrown','slategray','green','navy']\n",
    "    for i in range(col):\n",
    "        dy[i] = deque(np.zeros(visible), visible)\n",
    "         \n",
    "    dx=deque(np.zeros(visible), visible)\n",
    "    data_length = np.linspace(0,df1.shape[0],num=df1.shape[0]+1)\n",
    "\n",
    "    # plotting\n",
    "    fig=plt.figure(figsize=(8,4))\n",
    "    \n",
    "    \n",
    "    for i in range(col):\n",
    "        ah[i] = fig.add_subplot(4,1,i+1)\n",
    "        plt.margins(x=0.001)\n",
    "        ah[i].set_ylabel(\"Sales\", fontsize=14)\n",
    "        l[i], = ah[i].plot(dx, dy[i], color=colors[i], label='x')\n",
    "        ah[i].legend(loc=\"upper right\", fontsize=12, fancybox=True, framealpha=0.5)\n",
    "        \n",
    "        x_data=0\n",
    "        # i=0\n",
    "    while x_data+visible <= df1.shape[0]: \n",
    "        dx.extend(data_length[x_data:x_data+visible])\n",
    "        for i in range(col):\n",
    "            dy[i].extend(df1.iloc[:,i].iloc[x_data:x_data+visible])\n",
    "            l[i].set_ydata(dy[i])\n",
    "            l[i].set_xdata(dx)\n",
    "#             mdy[i]=np.mean(dy[i])\n",
    "            ah[i].set_ylim(-2+np.min(dy[i]), 2+np.max(dy[i]))\n",
    "            ah[i].set_xlim(data_length[x_data], data_length[x_data+visible])\n",
    "\n",
    "            # control speed of moving time-series    \n",
    "        x_data += shift\n",
    "        \n",
    "        fig.canvas.draw()\n",
    "        fig.canvas.flush_events()"
   ]
  },
  {
   "cell_type": "code",
   "execution_count": 238,
   "metadata": {},
   "outputs": [],
   "source": [
    "plot_realtime(visible=500,shift=10,df1 = df)"
   ]
  },
  {
   "cell_type": "code",
   "execution_count": 92,
   "metadata": {},
   "outputs": [],
   "source": [
    "# import matplotlib.pyplot as plt\n",
    "# import numpy as np\n",
    "\n",
    "# # use ggplot style for more sophisticated visuals\n",
    "# plt.style.use('ggplot')\n",
    "\n",
    "def live_plotter(x_vec,y1_data,line1,identifier='',pause_time=0.1):\n",
    "    if line1==[]:\n",
    "        # this is the call to matplotlib that allows dynamic plotting\n",
    "        plt.ion()\n",
    "        fig = plt.figure(figsize=(13,6))\n",
    "        ax = fig.add_subplot(111)\n",
    "        # create a variable for the line so we can later update it\n",
    "        line1, = ax.plot(x_vec,y1_data,'-o',alpha=0.8)        \n",
    "        #update plot label/title\n",
    "        plt.ylabel('Y Label')\n",
    "        plt.title('Title: {}'.format(identifier))\n",
    "        plt.show()\n",
    "    \n",
    "    # after the figure, axis, and line are created, we only need to update the y-data\n",
    "    line1.set_ydata(y1_data)\n",
    "    # adjust limits if new data goes beyond bounds\n",
    "    if np.min(y1_data)<=line1.axes.get_ylim()[0] or np.max(y1_data)>=line1.axes.get_ylim()[1]:\n",
    "        plt.ylim([np.min(y1_data)-np.std(y1_data),np.max(y1_data)+np.std(y1_data)])\n",
    "    # this pauses the data so the figure/axis can catch up - the amount of pause can be altered above\n",
    "    plt.pause(pause_time)\n",
    "    \n",
    "    # return line so we can update it again in the next iteration\n",
    "    return line1"
   ]
  },
  {
   "cell_type": "code",
   "execution_count": 95,
   "metadata": {},
   "outputs": [
    {
     "data": {
      "image/png": "[encoded data removed]",
      "text/plain": [
       "<Figure size 936x432 with 1 Axes>"
      ]
     },
     "metadata": {
      "needs_background": "light"
     },
     "output_type": "display_data"
    },
    {
     "data": {
      "text/plain": [
       "<matplotlib.lines.Line2D at 0x1e5a4eee1c8>"
      ]
     },
     "execution_count": 95,
     "metadata": {},
     "output_type": "execute_result"
    }
   ],
   "source": [
    "live_plotter(dx,dy1,[])"
   ]
  },
  {
   "cell_type": "code",
   "execution_count": 147,
   "metadata": {},
   "outputs": [
    {
     "ename": "NameError",
     "evalue": "name 'animation' is not defined",
     "output_type": "error",
     "traceback": [
      "\u001b[1;31m---------------------------------------------------------------------------\u001b[0m",
      "\u001b[1;31mNameError\u001b[0m                                 Traceback (most recent call last)",
      "\u001b[1;32m<ipython-input-147-96e92f83a7d6>\u001b[0m in \u001b[0;36m<module>\u001b[1;34m\u001b[0m\n\u001b[1;32m----> 1\u001b[1;33m \u001b[0manimation\u001b[0m\u001b[1;33m.\u001b[0m\u001b[0mFuncAnimation\u001b[0m\u001b[1;33m\u001b[0m\u001b[1;33m\u001b[0m\u001b[0m\n\u001b[0m",
      "\u001b[1;31mNameError\u001b[0m: name 'animation' is not defined"
     ]
    }
   ],
   "source": [
    " animation.FuncAnimation"
   ]
  },
  {
   "cell_type": "code",
   "execution_count": null,
   "metadata": {},
   "outputs": [],
   "source": []
  }
 ],
 "metadata": {
  "kernelspec": {
   "display_name": "Python [conda env:dsi] *",
   "language": "python",
   "name": "conda-env-dsi-py"
  },
  "language_info": {
   "codemirror_mode": {
    "name": "ipython",
    "version": 3
   },
   "file_extension": ".py",
   "mimetype": "text/x-python",
   "name": "python",
   "nbconvert_exporter": "python",
   "pygments_lexer": "ipython3",
   "version": "3.7.7"
  }
 },
 "nbformat": 4,
 "nbformat_minor": 4
}
