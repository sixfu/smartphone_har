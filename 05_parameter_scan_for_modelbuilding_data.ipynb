{
 "cells": [
  {
   "cell_type": "markdown",
   "metadata": {},
   "source": [
    "## Window length and step size for creating model building data\n",
    "*This notebook was run at google colab"
   ]
  },
  {
   "cell_type": "code",
   "execution_count": 2,
   "metadata": {
    "id": "aiysEFllKKgR"
   },
   "outputs": [],
   "source": [
    "import numpy as np\n",
    "import pandas as pd\n",
    "import matplotlib.pyplot as plt\n",
    "from sklearn.preprocessing import RobustScaler\n",
    "from scipy import stats\n",
    "from sklearn.preprocessing import OneHotEncoder\n",
    "import tensorflow as tf\n",
    "from tensorflow import keras"
   ]
  },
  {
   "cell_type": "code",
   "execution_count": 3,
   "metadata": {
    "id": "pulBk-ZRKKgU"
   },
   "outputs": [],
   "source": [
    "#df_wd = pd.read_csv('./01_rawdata/raw_wisdm0926_df.csv')  # read in the wisdm datasets"
   ]
  },
  {
   "cell_type": "code",
   "execution_count": 4,
   "metadata": {
    "colab": {
     "base_uri": "https://localhost:8080/",
     "height": 72,
     "resources": {
      "http://localhost:8080/nbextensions/google.colab/files.js": {
       "data": "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",
       "headers": [
        [
         "content-type",
         "application/javascript"
        ]
       ],
       "ok": true,
       "status": 200,
       "status_text": ""
      }
     }
    },
    "id": "4SXfRLqYK3yb",
    "outputId": "fe51d779-c73f-488c-ceb8-c7a82f7c2845"
   },
   "outputs": [
    {
     "data": {
      "text/html": [
       "\n",
       "     <input type=\"file\" id=\"files-1b13aef0-acb6-49b0-a6f7-7850c559aaa3\" name=\"files[]\" multiple disabled\n",
       "        style=\"border:none\" />\n",
       "     <output id=\"result-1b13aef0-acb6-49b0-a6f7-7850c559aaa3\">\n",
       "      Upload widget is only available when the cell has been executed in the\n",
       "      current browser session. Please rerun this cell to enable.\n",
       "      </output>\n",
       "      <script src=\"/nbextensions/google.colab/files.js\"></script> "
      ],
      "text/plain": [
       "<IPython.core.display.HTML object>"
      ]
     },
     "metadata": {
      "tags": []
     },
     "output_type": "display_data"
    },
    {
     "name": "stdout",
     "output_type": "stream",
     "text": [
      "Saving raw_wisdm0926_df.csv to raw_wisdm0926_df.csv\n"
     ]
    }
   ],
   "source": [
    "from google.colab import files\n",
    "uploaded = files.upload()"
   ]
  },
  {
   "cell_type": "code",
   "execution_count": 5,
   "metadata": {
    "id": "DrF7X0nbLOoW"
   },
   "outputs": [],
   "source": [
    "import io\n",
    "df_wd = pd.read_csv(io.BytesIO(uploaded['raw_wisdm0926_df.csv']))"
   ]
  },
  {
   "cell_type": "code",
   "execution_count": 6,
   "metadata": {
    "colab": {
     "base_uri": "https://localhost:8080/",
     "height": 142
    },
    "id": "EZclh_oFKKgX",
    "outputId": "ce083608-57b3-4ae2-e011-a603b2341043"
   },
   "outputs": [
    {
     "data": {
      "text/html": [
       "<div>\n",
       "<style scoped>\n",
       "    .dataframe tbody tr th:only-of-type {\n",
       "        vertical-align: middle;\n",
       "    }\n",
       "\n",
       "    .dataframe tbody tr th {\n",
       "        vertical-align: top;\n",
       "    }\n",
       "\n",
       "    .dataframe thead th {\n",
       "        text-align: right;\n",
       "    }\n",
       "</style>\n",
       "<table border=\"1\" class=\"dataframe\">\n",
       "  <thead>\n",
       "    <tr style=\"text-align: right;\">\n",
       "      <th></th>\n",
       "      <th>user_id</th>\n",
       "      <th>activity</th>\n",
       "      <th>timestamp</th>\n",
       "      <th>x_axis</th>\n",
       "      <th>y_axis</th>\n",
       "      <th>z_axis</th>\n",
       "    </tr>\n",
       "  </thead>\n",
       "  <tbody>\n",
       "    <tr>\n",
       "      <th>0</th>\n",
       "      <td>33</td>\n",
       "      <td>Jogging</td>\n",
       "      <td>49105962326000</td>\n",
       "      <td>-0.694638</td>\n",
       "      <td>12.680544</td>\n",
       "      <td>0.503953</td>\n",
       "    </tr>\n",
       "    <tr>\n",
       "      <th>1</th>\n",
       "      <td>33</td>\n",
       "      <td>Jogging</td>\n",
       "      <td>49106062271000</td>\n",
       "      <td>5.012288</td>\n",
       "      <td>11.264028</td>\n",
       "      <td>0.953424</td>\n",
       "    </tr>\n",
       "    <tr>\n",
       "      <th>2</th>\n",
       "      <td>33</td>\n",
       "      <td>Jogging</td>\n",
       "      <td>49106112167000</td>\n",
       "      <td>4.903325</td>\n",
       "      <td>10.882658</td>\n",
       "      <td>-0.081722</td>\n",
       "    </tr>\n",
       "  </tbody>\n",
       "</table>\n",
       "</div>"
      ],
      "text/plain": [
       "   user_id activity       timestamp    x_axis     y_axis    z_axis\n",
       "0       33  Jogging  49105962326000 -0.694638  12.680544  0.503953\n",
       "1       33  Jogging  49106062271000  5.012288  11.264028  0.953424\n",
       "2       33  Jogging  49106112167000  4.903325  10.882658 -0.081722"
      ]
     },
     "execution_count": 6,
     "metadata": {
      "tags": []
     },
     "output_type": "execute_result"
    }
   ],
   "source": [
    "df_wd.head(3)"
   ]
  },
  {
   "cell_type": "code",
   "execution_count": 7,
   "metadata": {
    "id": "5QBNjXm6KKgd"
   },
   "outputs": [],
   "source": [
    "df_wd_train = df_wd[df_wd['user_id'] <= 30]\n",
    "df_wd_test = df_wd[df_wd['user_id'] > 30]"
   ]
  },
  {
   "cell_type": "code",
   "execution_count": 8,
   "metadata": {
    "colab": {
     "base_uri": "https://localhost:8080/",
     "height": 34
    },
    "id": "zLSvNzKRKKgf",
    "outputId": "2dc5ec61-c3bd-4d1c-ca38-44ff0ae1aff1"
   },
   "outputs": [
    {
     "name": "stdout",
     "output_type": "stream",
     "text": [
      "(898360, 6) (199843, 6)\n"
     ]
    }
   ],
   "source": [
    "print(df_wd_train.shape, df_wd_test.shape)"
   ]
  },
  {
   "cell_type": "code",
   "execution_count": 9,
   "metadata": {
    "colab": {
     "base_uri": "https://localhost:8080/",
     "height": 142
    },
    "id": "c0fYUU6PKKgh",
    "outputId": "06cd5d22-0701-4019-95b0-56daa8cebf5c"
   },
   "outputs": [
    {
     "data": {
      "text/html": [
       "<div>\n",
       "<style scoped>\n",
       "    .dataframe tbody tr th:only-of-type {\n",
       "        vertical-align: middle;\n",
       "    }\n",
       "\n",
       "    .dataframe tbody tr th {\n",
       "        vertical-align: top;\n",
       "    }\n",
       "\n",
       "    .dataframe thead th {\n",
       "        text-align: right;\n",
       "    }\n",
       "</style>\n",
       "<table border=\"1\" class=\"dataframe\">\n",
       "  <thead>\n",
       "    <tr style=\"text-align: right;\">\n",
       "      <th></th>\n",
       "      <th>user_id</th>\n",
       "      <th>activity</th>\n",
       "      <th>timestamp</th>\n",
       "      <th>x_axis</th>\n",
       "      <th>y_axis</th>\n",
       "      <th>z_axis</th>\n",
       "    </tr>\n",
       "  </thead>\n",
       "  <tbody>\n",
       "    <tr>\n",
       "      <th>8489</th>\n",
       "      <td>17</td>\n",
       "      <td>Walking</td>\n",
       "      <td>57869902574000</td>\n",
       "      <td>0.572055</td>\n",
       "      <td>9.806650</td>\n",
       "      <td>-0.531194</td>\n",
       "    </tr>\n",
       "    <tr>\n",
       "      <th>8490</th>\n",
       "      <td>17</td>\n",
       "      <td>Walking</td>\n",
       "      <td>57870012316000</td>\n",
       "      <td>-0.000000</td>\n",
       "      <td>10.188020</td>\n",
       "      <td>-0.572055</td>\n",
       "    </tr>\n",
       "    <tr>\n",
       "      <th>8491</th>\n",
       "      <td>17</td>\n",
       "      <td>Walking</td>\n",
       "      <td>57870122301000</td>\n",
       "      <td>-0.231546</td>\n",
       "      <td>9.847511</td>\n",
       "      <td>-0.694638</td>\n",
       "    </tr>\n",
       "  </tbody>\n",
       "</table>\n",
       "</div>"
      ],
      "text/plain": [
       "      user_id activity       timestamp    x_axis     y_axis    z_axis\n",
       "8489       17  Walking  57869902574000  0.572055   9.806650 -0.531194\n",
       "8490       17  Walking  57870012316000 -0.000000  10.188020 -0.572055\n",
       "8491       17  Walking  57870122301000 -0.231546   9.847511 -0.694638"
      ]
     },
     "execution_count": 9,
     "metadata": {
      "tags": []
     },
     "output_type": "execute_result"
    }
   ],
   "source": [
    "df_wd_train.head(3)"
   ]
  },
  {
   "cell_type": "code",
   "execution_count": 10,
   "metadata": {
    "colab": {
     "base_uri": "https://localhost:8080/",
     "height": 142
    },
    "id": "Lrb47dyOKKgk",
    "outputId": "e0aae2ca-4e7d-47ec-be37-965e3fd50665"
   },
   "outputs": [
    {
     "data": {
      "text/html": [
       "<div>\n",
       "<style scoped>\n",
       "    .dataframe tbody tr th:only-of-type {\n",
       "        vertical-align: middle;\n",
       "    }\n",
       "\n",
       "    .dataframe tbody tr th {\n",
       "        vertical-align: top;\n",
       "    }\n",
       "\n",
       "    .dataframe thead th {\n",
       "        text-align: right;\n",
       "    }\n",
       "</style>\n",
       "<table border=\"1\" class=\"dataframe\">\n",
       "  <thead>\n",
       "    <tr style=\"text-align: right;\">\n",
       "      <th></th>\n",
       "      <th>user_id</th>\n",
       "      <th>activity</th>\n",
       "      <th>timestamp</th>\n",
       "      <th>x_axis</th>\n",
       "      <th>y_axis</th>\n",
       "      <th>z_axis</th>\n",
       "    </tr>\n",
       "  </thead>\n",
       "  <tbody>\n",
       "    <tr>\n",
       "      <th>0</th>\n",
       "      <td>33</td>\n",
       "      <td>Jogging</td>\n",
       "      <td>49105962326000</td>\n",
       "      <td>-0.694638</td>\n",
       "      <td>12.680544</td>\n",
       "      <td>0.503953</td>\n",
       "    </tr>\n",
       "    <tr>\n",
       "      <th>1</th>\n",
       "      <td>33</td>\n",
       "      <td>Jogging</td>\n",
       "      <td>49106062271000</td>\n",
       "      <td>5.012288</td>\n",
       "      <td>11.264028</td>\n",
       "      <td>0.953424</td>\n",
       "    </tr>\n",
       "    <tr>\n",
       "      <th>2</th>\n",
       "      <td>33</td>\n",
       "      <td>Jogging</td>\n",
       "      <td>49106112167000</td>\n",
       "      <td>4.903325</td>\n",
       "      <td>10.882658</td>\n",
       "      <td>-0.081722</td>\n",
       "    </tr>\n",
       "  </tbody>\n",
       "</table>\n",
       "</div>"
      ],
      "text/plain": [
       "   user_id activity       timestamp    x_axis     y_axis    z_axis\n",
       "0       33  Jogging  49105962326000 -0.694638  12.680544  0.503953\n",
       "1       33  Jogging  49106062271000  5.012288  11.264028  0.953424\n",
       "2       33  Jogging  49106112167000  4.903325  10.882658 -0.081722"
      ]
     },
     "execution_count": 10,
     "metadata": {
      "tags": []
     },
     "output_type": "execute_result"
    }
   ],
   "source": [
    "df_wd_test.head(3)"
   ]
  },
  {
   "cell_type": "code",
   "execution_count": 12,
   "metadata": {
    "id": "yPyTbZrrKKgt"
   },
   "outputs": [],
   "source": [
    "#define a function to scale the features for building the models\n",
    "def robustscale_data(df_train,df_test,cols,scaler=RobustScaler()):\n",
    "    scale_columns = cols\n",
    "#     scaler = RobustScaler()\n",
    "    scaler = scaler.fit(df_train[scale_columns])\n",
    "    df_train.loc[:, scale_columns] = scaler.transform(df_train[scale_columns].to_numpy())\n",
    "    df_test.loc[:, scale_columns] = scaler.transform(df_test[scale_columns].to_numpy())\n",
    "    return df_train,df_test"
   ]
  },
  {
   "cell_type": "code",
   "execution_count": 13,
   "metadata": {
    "colab": {
     "base_uri": "https://localhost:8080/",
     "height": 221
    },
    "id": "1wUqR5k5KKgv",
    "outputId": "d4f0d511-7eda-4616-c032-3c237502aeb3"
   },
   "outputs": [
    {
     "name": "stderr",
     "output_type": "stream",
     "text": [
      "/usr/local/lib/python3.6/dist-packages/pandas/core/indexing.py:966: SettingWithCopyWarning: \n",
      "A value is trying to be set on a copy of a slice from a DataFrame.\n",
      "Try using .loc[row_indexer,col_indexer] = value instead\n",
      "\n",
      "See the caveats in the documentation: https://pandas.pydata.org/pandas-docs/stable/user_guide/indexing.html#returning-a-view-versus-a-copy\n",
      "  self.obj[item] = s\n",
      "/usr/local/lib/python3.6/dist-packages/pandas/core/indexing.py:966: SettingWithCopyWarning: \n",
      "A value is trying to be set on a copy of a slice from a DataFrame.\n",
      "Try using .loc[row_indexer,col_indexer] = value instead\n",
      "\n",
      "See the caveats in the documentation: https://pandas.pydata.org/pandas-docs/stable/user_guide/indexing.html#returning-a-view-versus-a-copy\n",
      "  self.obj[item] = s\n"
     ]
    }
   ],
   "source": [
    "# scale the acceleration in the WISDM datasets\n",
    "df_wd_train,df_wd_test = robustscale_data(df_wd_train,df_wd_test,['x_axis', 'y_axis', 'z_axis'])"
   ]
  },
  {
   "cell_type": "code",
   "execution_count": 14,
   "metadata": {
    "colab": {
     "base_uri": "https://localhost:8080/",
     "height": 142
    },
    "id": "TIgcoVcUKKgo",
    "outputId": "3f796309-9d52-49c1-9f5c-56d61309f84b"
   },
   "outputs": [
    {
     "data": {
      "text/html": [
       "<div>\n",
       "<style scoped>\n",
       "    .dataframe tbody tr th:only-of-type {\n",
       "        vertical-align: middle;\n",
       "    }\n",
       "\n",
       "    .dataframe tbody tr th {\n",
       "        vertical-align: top;\n",
       "    }\n",
       "\n",
       "    .dataframe thead th {\n",
       "        text-align: right;\n",
       "    }\n",
       "</style>\n",
       "<table border=\"1\" class=\"dataframe\">\n",
       "  <thead>\n",
       "    <tr style=\"text-align: right;\">\n",
       "      <th></th>\n",
       "      <th>user_id</th>\n",
       "      <th>activity</th>\n",
       "      <th>timestamp</th>\n",
       "      <th>x_axis</th>\n",
       "      <th>y_axis</th>\n",
       "      <th>z_axis</th>\n",
       "    </tr>\n",
       "  </thead>\n",
       "  <tbody>\n",
       "    <tr>\n",
       "      <th>8489</th>\n",
       "      <td>17</td>\n",
       "      <td>Walking</td>\n",
       "      <td>57869902574000</td>\n",
       "      <td>0.019955</td>\n",
       "      <td>0.252293</td>\n",
       "      <td>-0.090959</td>\n",
       "    </tr>\n",
       "    <tr>\n",
       "      <th>8490</th>\n",
       "      <td>17</td>\n",
       "      <td>Walking</td>\n",
       "      <td>57870012316000</td>\n",
       "      <td>-0.055118</td>\n",
       "      <td>0.297966</td>\n",
       "      <td>-0.099228</td>\n",
       "    </tr>\n",
       "    <tr>\n",
       "      <th>8491</th>\n",
       "      <td>17</td>\n",
       "      <td>Walking</td>\n",
       "      <td>57870122301000</td>\n",
       "      <td>-0.085505</td>\n",
       "      <td>0.257187</td>\n",
       "      <td>-0.124035</td>\n",
       "    </tr>\n",
       "  </tbody>\n",
       "</table>\n",
       "</div>"
      ],
      "text/plain": [
       "      user_id activity       timestamp    x_axis    y_axis    z_axis\n",
       "8489       17  Walking  57869902574000  0.019955  0.252293 -0.090959\n",
       "8490       17  Walking  57870012316000 -0.055118  0.297966 -0.099228\n",
       "8491       17  Walking  57870122301000 -0.085505  0.257187 -0.124035"
      ]
     },
     "execution_count": 14,
     "metadata": {
      "tags": []
     },
     "output_type": "execute_result"
    }
   ],
   "source": [
    "df_wd_train.head(3)"
   ]
  },
  {
   "cell_type": "code",
   "execution_count": 15,
   "metadata": {
    "colab": {
     "base_uri": "https://localhost:8080/",
     "height": 142
    },
    "id": "x7KKY0eCKKgq",
    "outputId": "49d7e0c7-0d69-4d88-ef5c-c937ef5b015c"
   },
   "outputs": [
    {
     "data": {
      "text/html": [
       "<div>\n",
       "<style scoped>\n",
       "    .dataframe tbody tr th:only-of-type {\n",
       "        vertical-align: middle;\n",
       "    }\n",
       "\n",
       "    .dataframe tbody tr th {\n",
       "        vertical-align: top;\n",
       "    }\n",
       "\n",
       "    .dataframe thead th {\n",
       "        text-align: right;\n",
       "    }\n",
       "</style>\n",
       "<table border=\"1\" class=\"dataframe\">\n",
       "  <thead>\n",
       "    <tr style=\"text-align: right;\">\n",
       "      <th></th>\n",
       "      <th>user_id</th>\n",
       "      <th>activity</th>\n",
       "      <th>timestamp</th>\n",
       "      <th>x_axis</th>\n",
       "      <th>y_axis</th>\n",
       "      <th>z_axis</th>\n",
       "    </tr>\n",
       "  </thead>\n",
       "  <tbody>\n",
       "    <tr>\n",
       "      <th>0</th>\n",
       "      <td>33</td>\n",
       "      <td>Jogging</td>\n",
       "      <td>49105962326000</td>\n",
       "      <td>-0.146278</td>\n",
       "      <td>0.596472</td>\n",
       "      <td>0.118522</td>\n",
       "    </tr>\n",
       "    <tr>\n",
       "      <th>1</th>\n",
       "      <td>33</td>\n",
       "      <td>Jogging</td>\n",
       "      <td>49106062271000</td>\n",
       "      <td>0.602662</td>\n",
       "      <td>0.426830</td>\n",
       "      <td>0.209481</td>\n",
       "    </tr>\n",
       "    <tr>\n",
       "      <th>2</th>\n",
       "      <td>33</td>\n",
       "      <td>Jogging</td>\n",
       "      <td>49106112167000</td>\n",
       "      <td>0.588363</td>\n",
       "      <td>0.381157</td>\n",
       "      <td>0.000000</td>\n",
       "    </tr>\n",
       "  </tbody>\n",
       "</table>\n",
       "</div>"
      ],
      "text/plain": [
       "   user_id activity       timestamp    x_axis    y_axis    z_axis\n",
       "0       33  Jogging  49105962326000 -0.146278  0.596472  0.118522\n",
       "1       33  Jogging  49106062271000  0.602662  0.426830  0.209481\n",
       "2       33  Jogging  49106112167000  0.588363  0.381157  0.000000"
      ]
     },
     "execution_count": 15,
     "metadata": {
      "tags": []
     },
     "output_type": "execute_result"
    }
   ],
   "source": [
    "df_wd_test.head(3)"
   ]
  },
  {
   "cell_type": "code",
   "execution_count": 16,
   "metadata": {
    "id": "uN85W9fTKKgz"
   },
   "outputs": [],
   "source": [
    "def create_dataset(X, y, time_steps=1, step=1):\n",
    "    '''\n",
    "    This function creats the timeseries data from the raw datasets.\n",
    "    X: The input features for building the model\n",
    "    y: The labels for the corresponding input dataset\n",
    "    time_step: The window length (number of samples in the time series) of each of the training datasets\n",
    "    step: The moving distance for the window to generate the next training datasets.\n",
    "    The difference from (time_step - step) gives the number of overlapping samples between the two nearby rows of training dataset.\n",
    "    '''\n",
    "    Xs, ys = [], []\n",
    "    for i in range(0, len(X) - time_steps, step):\n",
    "        v = X.iloc[i:(i + time_steps)].values\n",
    "        labels = y.iloc[i: i + time_steps]\n",
    "        Xs.append(v)\n",
    "        ys.append(stats.mode(labels)[0][0])\n",
    "    return np.array(Xs), np.array(ys).reshape(-1, 1)"
   ]
  },
  {
   "cell_type": "code",
   "execution_count": 17,
   "metadata": {
    "id": "oky3CYY1KKg1"
   },
   "outputs": [],
   "source": [
    "def create_dataset_X(X, time_steps=1, step=1):\n",
    "    '''\n",
    "    This function is very similar as the above function. The only difference is this function does not need inputting labels\n",
    "    Using this function to create validation datasets.\n",
    "    '''\n",
    "    Xs, ys = [], []\n",
    "    for i in range(0, len(X) - time_steps, step):\n",
    "        v = X.iloc[i:(i + time_steps)].values\n",
    "#        labels = y.iloc[i: i + time_steps]\n",
    "        Xs.append(v)\n",
    "#        ys.append(stats.mode(labels)[0][0])\n",
    "    return np.array(Xs)#, np.array(ys).reshape(-1, 1)"
   ]
  },
  {
   "cell_type": "markdown",
   "metadata": {
    "id": "W4KCbRBEKKg4"
   },
   "source": [
    "#### Using WISDM datasets to scan for the optimized window size and steps to create model building datasets "
   ]
  },
  {
   "cell_type": "code",
   "execution_count": 69,
   "metadata": {
    "id": "aWD9zdFWsXIc"
   },
   "outputs": [],
   "source": [
    "#define a function to scan the window length ans windwo shifting step\n",
    "\n",
    "def fast_lstm_model(time_steps,step,df_train = df_wd_train, df_test = df_wd_test,epo_num = 20):\n",
    "    '''\n",
    "    Giving the time_steps, steps, train datasets, testing datasets, number of epochs, this function builds a LSTM Neural Network with the training datasets, and evaluate the model by\n",
    "    The testing datasets. At the end, it returns the loss functin value, accuracy, time steps and step with a list.\n",
    "    \n",
    "    Input\n",
    "        time_steps: The window size (number of samples) for building one row of the trainning/testing datasets\n",
    "        step: The shift distance for building the next row of the training/testing datasets, (time_steps - step) gives the overlapping of two nearby rows\n",
    "        df_train: Dataframe used to build the training datasets \n",
    "        df_test: Dataframe used to build the testing datasets\n",
    "        epo_num: Number of epochs for building the Neural Network\n",
    "    Output\n",
    "        A list has the loss, accuracy, window size, and step of the neural network applied to the testing datasets\n",
    "    '''\n",
    "    \n",
    "    # Create training datasets \n",
    "    X2_wd_train, y2_wd_train = create_dataset(\n",
    "    df_train[df_train.columns[-3:]],\n",
    "    df_train.activity,\n",
    "    time_steps,\n",
    "    step)\n",
    "    # Create testing datasets\n",
    "    X2_wd_test, y2_wd_test = create_dataset(\n",
    "    df_test[df_test.columns[-3:]],\n",
    "    df_test.activity,\n",
    "    time_steps,\n",
    "    step)\n",
    "    \n",
    "    # Create the one hot encoder for labels\n",
    "    enc = OneHotEncoder(handle_unknown='ignore', sparse=False)\n",
    "    enc = enc.fit(y2_wd_train)\n",
    "    y2_wd_train = enc.transform(y2_wd_train)\n",
    "    y2_wd_test = enc.transform(y2_wd_test)\n",
    "\n",
    "    # Define the LSTM model layers\n",
    "    model2_wd = keras.Sequential()\n",
    "    model2_wd.add(\n",
    "    keras.layers.Bidirectional(\n",
    "      keras.layers.LSTM(\n",
    "          units=128, \n",
    "          input_shape=[X2_wd_train.shape[1], X2_wd_train.shape[2]]\n",
    "        )\n",
    "      )\n",
    "    )\n",
    "    model2_wd.add(keras.layers.Dropout(rate=0.5))\n",
    "    model2_wd.add(keras.layers.Dense(units=128, activation='relu'))\n",
    "    model2_wd.add(keras.layers.Dense(y_wd_train.shape[1], activation='softmax'))\n",
    "    model2_wd.compile(loss='categorical_crossentropy', optimizer='adam', metrics=['acc'])\n",
    "\n",
    "    # Fit the model\n",
    "    model2_wd.fit(\n",
    "    X2_wd_train, y2_wd_train,\n",
    "    epochs=epo_num,\n",
    "    batch_size=64,\n",
    "    validation_split=0.1,\n",
    "    shuffle=True,\n",
    "    verbose = 0\n",
    "    )\n",
    "    # return the loss and accuracy of the model on the testing datasets\n",
    "    return model2_wd.evaluate(X2_wd_test,y2_wd_test,verbose=0)"
   ]
  },
  {
   "cell_type": "code",
   "execution_count": 74,
   "metadata": {
    "id": "zFDz7Rk804sT"
   },
   "outputs": [],
   "source": [
    "import timeit"
   ]
  },
  {
   "cell_type": "code",
   "execution_count": 77,
   "metadata": {
    "colab": {
     "base_uri": "https://localhost:8080/",
     "height": 595
    },
    "id": "wfUeigxRvfGq",
    "outputId": "fdcc4add-daec-49f6-bc70-6a5f90904dc8"
   },
   "outputs": [
    {
     "name": "stdout",
     "output_type": "stream",
     "text": [
      "loop time for winsow 20 and step 4 is: 485.19430632500007\n",
      "loop time for winsow 20 and step 8 is: 244.00501267099935\n",
      "loop time for winsow 20 and step 12 is: 161.84898320399952\n",
      "loop time for winsow 20 and step 16 is: 124.52927755600012\n",
      "loop time for winsow 40 and step 8 is: 287.3668669230001\n",
      "loop time for winsow 40 and step 16 is: 144.60512564000055\n",
      "loop time for winsow 40 and step 24 is: 99.39594772800046\n",
      "loop time for winsow 40 and step 32 is: 73.89359030699961\n",
      "loop time for winsow 80 and step 16 is: 188.27109213900076\n",
      "loop time for winsow 80 and step 32 is: 96.89059980100137\n",
      "loop time for winsow 80 and step 48 is: 66.03898040000058\n",
      "loop time for winsow 80 and step 64 is: 51.9627370879989\n",
      "loop time for winsow 100 and step 20 is: 174.59834489499917\n",
      "loop time for winsow 100 and step 40 is: 89.06347100600033\n",
      "loop time for winsow 100 and step 60 is: 59.074464321998676\n",
      "loop time for winsow 100 and step 80 is: 45.24979483499919\n",
      "loop time for winsow 120 and step 24 is: 158.95463121800094\n",
      "loop time for winsow 120 and step 48 is: 81.30888659599987\n",
      "loop time for winsow 120 and step 72 is: 55.97378783200111\n",
      "loop time for winsow 120 and step 96 is: 43.07077759300046\n",
      "loop time for winsow 160 and step 32 is: 147.92862736000097\n",
      "loop time for winsow 160 and step 64 is: 76.58059371099989\n",
      "loop time for winsow 160 and step 96 is: 51.75614462900012\n",
      "loop time for winsow 160 and step 128 is: 39.801300339999216\n",
      "loop time for winsow 200 and step 40 is: 143.150982879999\n",
      "loop time for winsow 200 and step 80 is: 73.18267666399879\n",
      "loop time for winsow 200 and step 120 is: 50.5162356969995\n",
      "loop time for winsow 200 and step 160 is: 39.58674192299986\n",
      "loop time for winsow 400 and step 80 is: 127.79177283600075\n",
      "loop time for winsow 400 and step 160 is: 66.04185970899925\n",
      "loop time for winsow 400 and step 240 is: 46.505283004000376\n",
      "loop time for winsow 400 and step 320 is: 35.178170872999544\n",
      "Total time for searching optimized window and step was:\n",
      "3629.324919926001\n"
     ]
    }
   ],
   "source": [
    "# Define the scan parameters\n",
    "windows = [20,40,80,100,120,160,200,400]\n",
    "step_ratio = [0.2,0.4,0.6,0.8]\n",
    "\n",
    "t_start = timeit.default_timer()\n",
    "evas = []\n",
    "for win in windows:\n",
    "    for ratio in step_ratio:\n",
    "        time_steps = win\n",
    "        step = int(ratio*win)\n",
    "        t0_loop = timeit.default_timer()\n",
    "        eva = fast_lstm_model(time_steps=win,step=step,epo_num=20)\n",
    "        eva.append([win,step])\n",
    "        evas.append(eva)\n",
    "        t1_loop = timeit.default_timer()\n",
    "        print(f'loop time for winsow {win} and step {step} is: {t1_loop - t0_loop}')\n",
    "t_end = timeit.default_timer()\n",
    "print('Total time for searching optimized window and step was:')\n",
    "print(t_end - t_start)"
   ]
  },
  {
   "cell_type": "code",
   "execution_count": 79,
   "metadata": {
    "colab": {
     "base_uri": "https://localhost:8080/",
     "height": 561
    },
    "id": "1G3fF4Tuzswc",
    "outputId": "c5269d55-0d45-4b46-dd75-f815b7c5e6e1"
   },
   "outputs": [
    {
     "data": {
      "text/plain": [
       "[[0.7812128067016602, 0.8377772569656372, [20, 4]],\n",
       " [0.6069954037666321, 0.8667627573013306, [20, 8]],\n",
       " [0.6000770330429077, 0.8461446166038513, [20, 12]],\n",
       " [0.4886976182460785, 0.8677235841751099, [20, 16]],\n",
       " [0.3710367679595947, 0.8963004350662231, [40, 8]],\n",
       " [0.40016624331474304, 0.9074311256408691, [40, 16]],\n",
       " [0.3778120279312134, 0.8878212571144104, [40, 24]],\n",
       " [0.43649712204933167, 0.8991031646728516, [40, 32]],\n",
       " [0.3767133951187134, 0.9000480771064758, [80, 16]],\n",
       " [0.5868149995803833, 0.878904402256012, [80, 32]],\n",
       " [0.3926923871040344, 0.9113407135009766, [80, 48]],\n",
       " [0.3529728651046753, 0.909673273563385, [80, 64]],\n",
       " [0.3203164041042328, 0.9302162528038025, [100, 20]],\n",
       " [0.5192607641220093, 0.8886663913726807, [100, 40]],\n",
       " [0.5002130270004272, 0.8762762546539307, [100, 60]],\n",
       " [0.4952281713485718, 0.8718461990356445, [100, 80]],\n",
       " [0.364149272441864, 0.9216534495353699, [120, 24]],\n",
       " [0.5344456434249878, 0.882239818572998, [120, 48]],\n",
       " [0.33994972705841064, 0.9008651971817017, [120, 72]],\n",
       " [0.42491206526756287, 0.8659298419952393, [120, 96]],\n",
       " [0.4633241295814514, 0.9110719561576843, [160, 32]],\n",
       " [0.4658253490924835, 0.8731175661087036, [160, 64]],\n",
       " [0.4088573455810547, 0.8793849349021912, [160, 96]],\n",
       " [0.5548585057258606, 0.8404868841171265, [160, 128]],\n",
       " [0.6147216558456421, 0.793870210647583, [200, 40]],\n",
       " [0.6443576812744141, 0.7736378312110901, [200, 80]],\n",
       " [0.758567214012146, 0.7536057829856873, [200, 120]],\n",
       " [0.6269720196723938, 0.776442289352417, [200, 160]],\n",
       " [0.7025424242019653, 0.7562149167060852, [400, 80]],\n",
       " [0.8955581188201904, 0.6768243908882141, [400, 160]],\n",
       " [0.7511435151100159, 0.71875, [400, 240]],\n",
       " [0.8021094799041748, 0.7243589758872986, [400, 320]]]"
      ]
     },
     "execution_count": 79,
     "metadata": {
      "tags": []
     },
     "output_type": "execute_result"
    }
   ],
   "source": [
    "evas"
   ]
  },
  {
   "cell_type": "code",
   "execution_count": 121,
   "metadata": {
    "id": "XzoI8WEMHXHL"
   },
   "outputs": [],
   "source": [
    "evas_df = pd.DataFrame([[x[0],x[1],x[2][0],x[2][1]] for x in evas],columns=['loss','accuracy','window','step'])"
   ]
  },
  {
   "cell_type": "code",
   "execution_count": 122,
   "metadata": {
    "colab": {
     "base_uri": "https://localhost:8080/",
     "height": 111
    },
    "id": "KW7gpnRBIsjg",
    "outputId": "1d1b6e6a-b3df-4dec-a1b7-590c2c6a8078"
   },
   "outputs": [
    {
     "data": {
      "text/html": [
       "<div>\n",
       "<style scoped>\n",
       "    .dataframe tbody tr th:only-of-type {\n",
       "        vertical-align: middle;\n",
       "    }\n",
       "\n",
       "    .dataframe tbody tr th {\n",
       "        vertical-align: top;\n",
       "    }\n",
       "\n",
       "    .dataframe thead th {\n",
       "        text-align: right;\n",
       "    }\n",
       "</style>\n",
       "<table border=\"1\" class=\"dataframe\">\n",
       "  <thead>\n",
       "    <tr style=\"text-align: right;\">\n",
       "      <th></th>\n",
       "      <th>loss</th>\n",
       "      <th>accuracy</th>\n",
       "      <th>window</th>\n",
       "      <th>step</th>\n",
       "    </tr>\n",
       "  </thead>\n",
       "  <tbody>\n",
       "    <tr>\n",
       "      <th>0</th>\n",
       "      <td>0.781213</td>\n",
       "      <td>0.837777</td>\n",
       "      <td>20</td>\n",
       "      <td>4</td>\n",
       "    </tr>\n",
       "    <tr>\n",
       "      <th>1</th>\n",
       "      <td>0.606995</td>\n",
       "      <td>0.866763</td>\n",
       "      <td>20</td>\n",
       "      <td>8</td>\n",
       "    </tr>\n",
       "  </tbody>\n",
       "</table>\n",
       "</div>"
      ],
      "text/plain": [
       "       loss  accuracy  window  step\n",
       "0  0.781213  0.837777      20     4\n",
       "1  0.606995  0.866763      20     8"
      ]
     },
     "execution_count": 122,
     "metadata": {
      "tags": []
     },
     "output_type": "execute_result"
    }
   ],
   "source": [
    "evas_df.head(2)"
   ]
  },
  {
   "cell_type": "code",
   "execution_count": 123,
   "metadata": {
    "id": "Fpfz43GXGz2y"
   },
   "outputs": [],
   "source": [
    "evas_df.to_csv('lstm_ep20_window_step_scan.csv',index=False)"
   ]
  },
  {
   "cell_type": "code",
   "execution_count": 1,
   "metadata": {},
   "outputs": [],
   "source": [
    "import pandas as pd\n",
    "evas = pd.read_csv('./02_models/lstm_ep20_window_step_scan.csv')"
   ]
  },
  {
   "cell_type": "code",
   "execution_count": 2,
   "metadata": {},
   "outputs": [
    {
     "data": {
      "text/html": [
       "<div>\n",
       "<style scoped>\n",
       "    .dataframe tbody tr th:only-of-type {\n",
       "        vertical-align: middle;\n",
       "    }\n",
       "\n",
       "    .dataframe tbody tr th {\n",
       "        vertical-align: top;\n",
       "    }\n",
       "\n",
       "    .dataframe thead th {\n",
       "        text-align: right;\n",
       "    }\n",
       "</style>\n",
       "<table border=\"1\" class=\"dataframe\">\n",
       "  <thead>\n",
       "    <tr style=\"text-align: right;\">\n",
       "      <th></th>\n",
       "      <th>loss</th>\n",
       "      <th>accuracy</th>\n",
       "      <th>window</th>\n",
       "      <th>step</th>\n",
       "    </tr>\n",
       "  </thead>\n",
       "  <tbody>\n",
       "    <tr>\n",
       "      <th>0</th>\n",
       "      <td>0.781213</td>\n",
       "      <td>0.837777</td>\n",
       "      <td>20</td>\n",
       "      <td>4</td>\n",
       "    </tr>\n",
       "    <tr>\n",
       "      <th>1</th>\n",
       "      <td>0.606995</td>\n",
       "      <td>0.866763</td>\n",
       "      <td>20</td>\n",
       "      <td>8</td>\n",
       "    </tr>\n",
       "    <tr>\n",
       "      <th>2</th>\n",
       "      <td>0.600077</td>\n",
       "      <td>0.846145</td>\n",
       "      <td>20</td>\n",
       "      <td>12</td>\n",
       "    </tr>\n",
       "    <tr>\n",
       "      <th>3</th>\n",
       "      <td>0.488698</td>\n",
       "      <td>0.867724</td>\n",
       "      <td>20</td>\n",
       "      <td>16</td>\n",
       "    </tr>\n",
       "    <tr>\n",
       "      <th>4</th>\n",
       "      <td>0.371037</td>\n",
       "      <td>0.896300</td>\n",
       "      <td>40</td>\n",
       "      <td>8</td>\n",
       "    </tr>\n",
       "  </tbody>\n",
       "</table>\n",
       "</div>"
      ],
      "text/plain": [
       "       loss  accuracy  window  step\n",
       "0  0.781213  0.837777      20     4\n",
       "1  0.606995  0.866763      20     8\n",
       "2  0.600077  0.846145      20    12\n",
       "3  0.488698  0.867724      20    16\n",
       "4  0.371037  0.896300      40     8"
      ]
     },
     "execution_count": 2,
     "metadata": {},
     "output_type": "execute_result"
    }
   ],
   "source": [
    "evas.head()"
   ]
  },
  {
   "cell_type": "code",
   "execution_count": 13,
   "metadata": {},
   "outputs": [
    {
     "data": {
      "image/png": "[encoded data removed]",
      "text/plain": [
       "<Figure size 432x288 with 1 Axes>"
      ]
     },
     "metadata": {
      "needs_background": "light"
     },
     "output_type": "display_data"
    }
   ],
   "source": [
    "evas.groupby(by='window').mean()['accuracy'].plot();"
   ]
  },
  {
   "cell_type": "code",
   "execution_count": 14,
   "metadata": {},
   "outputs": [
    {
     "data": {
      "image/png": "[encoded data removed]",
      "text/plain": [
       "<Figure size 432x288 with 1 Axes>"
      ]
     },
     "metadata": {
      "needs_background": "light"
     },
     "output_type": "display_data"
    }
   ],
   "source": [
    "evas.groupby(by='window').mean()['loss'].plot();"
   ]
  },
  {
   "cell_type": "code",
   "execution_count": 13,
   "metadata": {},
   "outputs": [
    {
     "data": {
      "image/png": "[encoded data removed]",
      "text/plain": [
       "<Figure size 432x288 with 1 Axes>"
      ]
     },
     "metadata": {
      "needs_background": "light"
     },
     "output_type": "display_data"
    }
   ],
   "source": [
    "#[20,40,80,100,120,160,200,400]\n",
    "evas['accuracy'][evas['window'] == 20].plot()\n",
    "evas['accuracy'][evas['window'] == 40].plot()\n",
    "evas['accuracy'][evas['window'] == 80].plot()\n",
    "evas['accuracy'][evas['window'] == 100].plot()\n",
    "evas['accuracy'][evas['window'] == 120].plot()\n",
    "evas['accuracy'][evas['window'] == 160].plot()\n",
    "evas['accuracy'][evas['window'] == 200].plot()\n",
    "evas['accuracy'][evas['window'] == 400].plot();"
   ]
  },
  {
   "cell_type": "code",
   "execution_count": 14,
   "metadata": {},
   "outputs": [
    {
     "data": {
      "image/png": "[encoded data removed]",
      "text/plain": [
       "<Figure size 432x288 with 1 Axes>"
      ]
     },
     "metadata": {
      "needs_background": "light"
     },
     "output_type": "display_data"
    }
   ],
   "source": [
    "evas['loss'][evas['window'] == 20].plot()\n",
    "evas['loss'][evas['window'] == 40].plot()\n",
    "evas['loss'][evas['window'] == 80].plot()\n",
    "evas['loss'][evas['window'] == 100].plot()\n",
    "evas['loss'][evas['window'] == 120].plot()\n",
    "evas['loss'][evas['window'] == 160].plot()\n",
    "evas['loss'][evas['window'] == 200].plot()\n",
    "evas['loss'][evas['window'] == 400].plot();"
   ]
  },
  {
   "cell_type": "markdown",
   "metadata": {},
   "source": [
    "**Comments**\n",
    "\n",
    "- From the above window length and step size scans, it seemed that window length = 40, 80, and 100 gave lowe loss and hight accuracy\n",
    "- Considering the optimized ratio found in EDA section, **window length = 80, step size = 16** were selected for WISDM datasets. As one can see in section 6, creating model building datasets with these parameters(window length=80) gave better models than window length = 200.\n",
    "- For the MS dataset, similar scans had been done at colab too, and the final selections were **window length = 200, step size = 40**"
   ]
  }
 ],
 "metadata": {
  "accelerator": "GPU",
  "colab": {
   "name": "03b_initial_wd_md_colab.ipynb",
   "provenance": []
  },
  "kernelspec": {
   "display_name": "Python 3",
   "language": "python",
   "name": "python3"
  },
  "language_info": {
   "codemirror_mode": {
    "name": "ipython",
    "version": 3
   },
   "file_extension": ".py",
   "mimetype": "text/x-python",
   "name": "python",
   "nbconvert_exporter": "python",
   "pygments_lexer": "ipython3",
   "version": "3.7.7"
  }
 },
 "nbformat": 4,
 "nbformat_minor": 4
}
