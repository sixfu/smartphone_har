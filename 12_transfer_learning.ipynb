{
 "cells": [
  {
   "cell_type": "code",
   "execution_count": 71,
   "metadata": {},
   "outputs": [],
   "source": [
    "import numpy as np\n",
    "import pandas as pd\n",
    "import matplotlib.pyplot as plt\n",
    "from sklearn.preprocessing import RobustScaler\n",
    "from scipy import stats\n",
    "from sklearn.preprocessing import OneHotEncoder\n",
    "import tensorflow as tf\n",
    "from tensorflow import keras\n",
    "from sklearn.model_selection import train_test_split\n",
    "from tensorflow.keras.layers import Dense, Dropout, Flatten, Conv2D, MaxPooling2D\n",
    "from tensorflow.keras.models import Sequential\n",
    "from sklearn.linear_model import LogisticRegression"
   ]
  },
  {
   "cell_type": "code",
   "execution_count": 72,
   "metadata": {},
   "outputs": [],
   "source": [
    "#define a function to reading the datasets I collected\n",
    "def read_in_iPhone_data(path = './01_rawdata/collection/', file = 'z_walk1.csv', merge_wd = True):\n",
    "    df = pd.read_csv(path+file)\n",
    "    df['x_axis']=df['userAcceleration.x']+df['gravity.x']\n",
    "    df['y_axis']=df['userAcceleration.y']+df['gravity.y']\n",
    "    df['z_axis']=df['userAcceleration.z']+df['gravity.z']\n",
    "    if merge_wd:      # only need 3 featuress if work with WISDM datasets\n",
    "        return df[['x_axis','y_axis','z_axis']]\n",
    "    else:             # all the features could be used if work with MS datasets\n",
    "        col = ['attitude.roll', 'attitude.pitch',\n",
    "       'attitude.yaw', 'gravity.x', 'gravity.y', 'gravity.z',\n",
    "       'rotationRate.x', 'rotationRate.y',\n",
    "       'rotationRate.z', 'userAcceleration.x', 'userAcceleration.y',\n",
    "       'userAcceleration.z', 'x_axis', 'y_axis', 'z_axis']\n",
    "        return df[col]    "
   ]
  },
  {
   "cell_type": "code",
   "execution_count": 73,
   "metadata": {},
   "outputs": [],
   "source": [
    "#define a function to scale the features, the scaler need to match with the ones used for building the models\n",
    "def robustscale_data(df,cols,scaler=RobustScaler()):\n",
    "    scale_columns = cols\n",
    "    df.loc[:, scale_columns] = scaler.fit_transform(df[scale_columns].to_numpy())\n",
    "    return df"
   ]
  },
  {
   "cell_type": "code",
   "execution_count": 4,
   "metadata": {},
   "outputs": [],
   "source": [
    "df = read_in_iPhone_data()"
   ]
  },
  {
   "cell_type": "code",
   "execution_count": 5,
   "metadata": {},
   "outputs": [
    {
     "data": {
      "text/html": [
       "<div>\n",
       "<style scoped>\n",
       "    .dataframe tbody tr th:only-of-type {\n",
       "        vertical-align: middle;\n",
       "    }\n",
       "\n",
       "    .dataframe tbody tr th {\n",
       "        vertical-align: top;\n",
       "    }\n",
       "\n",
       "    .dataframe thead th {\n",
       "        text-align: right;\n",
       "    }\n",
       "</style>\n",
       "<table border=\"1\" class=\"dataframe\">\n",
       "  <thead>\n",
       "    <tr style=\"text-align: right;\">\n",
       "      <th></th>\n",
       "      <th>x_axis</th>\n",
       "      <th>y_axis</th>\n",
       "      <th>z_axis</th>\n",
       "    </tr>\n",
       "  </thead>\n",
       "  <tbody>\n",
       "    <tr>\n",
       "      <th>0</th>\n",
       "      <td>0.121612</td>\n",
       "      <td>-0.494126</td>\n",
       "      <td>-0.931396</td>\n",
       "    </tr>\n",
       "    <tr>\n",
       "      <th>1</th>\n",
       "      <td>0.125077</td>\n",
       "      <td>-0.517579</td>\n",
       "      <td>-0.988495</td>\n",
       "    </tr>\n",
       "    <tr>\n",
       "      <th>2</th>\n",
       "      <td>0.105133</td>\n",
       "      <td>-0.492829</td>\n",
       "      <td>-1.029984</td>\n",
       "    </tr>\n",
       "    <tr>\n",
       "      <th>3</th>\n",
       "      <td>0.053482</td>\n",
       "      <td>-0.464905</td>\n",
       "      <td>-0.957855</td>\n",
       "    </tr>\n",
       "    <tr>\n",
       "      <th>4</th>\n",
       "      <td>0.029190</td>\n",
       "      <td>-0.445298</td>\n",
       "      <td>-0.990738</td>\n",
       "    </tr>\n",
       "  </tbody>\n",
       "</table>\n",
       "</div>"
      ],
      "text/plain": [
       "     x_axis    y_axis    z_axis\n",
       "0  0.121612 -0.494126 -0.931396\n",
       "1  0.125077 -0.517579 -0.988495\n",
       "2  0.105133 -0.492829 -1.029984\n",
       "3  0.053482 -0.464905 -0.957855\n",
       "4  0.029190 -0.445298 -0.990738"
      ]
     },
     "execution_count": 5,
     "metadata": {},
     "output_type": "execute_result"
    }
   ],
   "source": [
    "df.head()"
   ]
  },
  {
   "cell_type": "code",
   "execution_count": 6,
   "metadata": {},
   "outputs": [],
   "source": [
    "df = robustscale_data(df,['x_axis', 'y_axis', 'z_axis'])"
   ]
  },
  {
   "cell_type": "code",
   "execution_count": 7,
   "metadata": {},
   "outputs": [
    {
     "data": {
      "text/html": [
       "<div>\n",
       "<style scoped>\n",
       "    .dataframe tbody tr th:only-of-type {\n",
       "        vertical-align: middle;\n",
       "    }\n",
       "\n",
       "    .dataframe tbody tr th {\n",
       "        vertical-align: top;\n",
       "    }\n",
       "\n",
       "    .dataframe thead th {\n",
       "        text-align: right;\n",
       "    }\n",
       "</style>\n",
       "<table border=\"1\" class=\"dataframe\">\n",
       "  <thead>\n",
       "    <tr style=\"text-align: right;\">\n",
       "      <th></th>\n",
       "      <th>x_axis</th>\n",
       "      <th>y_axis</th>\n",
       "      <th>z_axis</th>\n",
       "    </tr>\n",
       "  </thead>\n",
       "  <tbody>\n",
       "    <tr>\n",
       "      <th>13976</th>\n",
       "      <td>1.727623</td>\n",
       "      <td>-3.970266</td>\n",
       "      <td>-2.409552</td>\n",
       "    </tr>\n",
       "    <tr>\n",
       "      <th>13977</th>\n",
       "      <td>1.720784</td>\n",
       "      <td>-3.962965</td>\n",
       "      <td>-2.390196</td>\n",
       "    </tr>\n",
       "    <tr>\n",
       "      <th>13978</th>\n",
       "      <td>1.598563</td>\n",
       "      <td>-3.953000</td>\n",
       "      <td>-2.368218</td>\n",
       "    </tr>\n",
       "    <tr>\n",
       "      <th>13979</th>\n",
       "      <td>1.608809</td>\n",
       "      <td>-4.018720</td>\n",
       "      <td>-2.419286</td>\n",
       "    </tr>\n",
       "    <tr>\n",
       "      <th>13980</th>\n",
       "      <td>1.569607</td>\n",
       "      <td>-4.032458</td>\n",
       "      <td>-2.359924</td>\n",
       "    </tr>\n",
       "  </tbody>\n",
       "</table>\n",
       "</div>"
      ],
      "text/plain": [
       "         x_axis    y_axis    z_axis\n",
       "13976  1.727623 -3.970266 -2.409552\n",
       "13977  1.720784 -3.962965 -2.390196\n",
       "13978  1.598563 -3.953000 -2.368218\n",
       "13979  1.608809 -4.018720 -2.419286\n",
       "13980  1.569607 -4.032458 -2.359924"
      ]
     },
     "execution_count": 7,
     "metadata": {},
     "output_type": "execute_result"
    }
   ],
   "source": [
    "df.tail()"
   ]
  },
  {
   "cell_type": "code",
   "execution_count": 74,
   "metadata": {},
   "outputs": [],
   "source": [
    "def create_dataset_X(X, time_steps=1, step=1):\n",
    "    '''\n",
    "    This function is very similar as the above function. The only difference is this function does not need inputting labels\n",
    "    Using this function to create validation datasets.\n",
    "    '''\n",
    "    Xs, ys = [], []\n",
    "    for i in range(0, len(X) - time_steps, step):\n",
    "        v = X.iloc[i:(i + time_steps)].values\n",
    "#        labels = y.iloc[i: i + time_steps]\n",
    "        Xs.append(v)\n",
    "#        ys.append(stats.mode(labels)[0][0])\n",
    "    return np.array(Xs)#, np.array(ys).reshape(-1, 1)"
   ]
  },
  {
   "cell_type": "code",
   "execution_count": 9,
   "metadata": {},
   "outputs": [],
   "source": [
    "TIME_STEPS = 200\n",
    "STEP = 40\n",
    "\n",
    "X_test = create_dataset_X(\n",
    "    df[df.columns[-3:]],\n",
    "    TIME_STEPS,\n",
    "    STEP\n",
    ")"
   ]
  },
  {
   "cell_type": "code",
   "execution_count": 10,
   "metadata": {},
   "outputs": [
    {
     "data": {
      "text/plain": [
       "(345, 200, 3)"
      ]
     },
     "execution_count": 10,
     "metadata": {},
     "output_type": "execute_result"
    }
   ],
   "source": [
    "X_test.shape"
   ]
  },
  {
   "cell_type": "code",
   "execution_count": 18,
   "metadata": {},
   "outputs": [],
   "source": [
    "X_test_rs = np.array(X_test).reshape(X_test.shape[0],X_test.shape[1],X_test.shape[2],1)"
   ]
  },
  {
   "cell_type": "code",
   "execution_count": 19,
   "metadata": {},
   "outputs": [
    {
     "data": {
      "text/plain": [
       "(345, 200, 3, 1)"
      ]
     },
     "execution_count": 19,
     "metadata": {},
     "output_type": "execute_result"
    }
   ],
   "source": [
    "X_test_rs.shape"
   ]
  },
  {
   "cell_type": "code",
   "execution_count": 12,
   "metadata": {},
   "outputs": [],
   "source": [
    "model = tf.keras.models.load_model('./02_models/0926ms_lstm_md.h5')"
   ]
  },
  {
   "cell_type": "code",
   "execution_count": 80,
   "metadata": {},
   "outputs": [],
   "source": [
    "cnn_model3_ep20 = tf.keras.models.load_model('./02_models/0930cb_cnn_resample200_ep20_3lay_ms2_colab.h5')"
   ]
  },
  {
   "cell_type": "code",
   "execution_count": 34,
   "metadata": {},
   "outputs": [],
   "source": [
    "model_ep20 = tf.keras.models.load_model('./02_models/0930cb_lstm_resample200_ep20_colab.h5')"
   ]
  },
  {
   "cell_type": "code",
   "execution_count": 13,
   "metadata": {},
   "outputs": [],
   "source": [
    "pred = model.predict(X_test)"
   ]
  },
  {
   "cell_type": "code",
   "execution_count": 45,
   "metadata": {},
   "outputs": [
    {
     "data": {
      "text/plain": [
       "(345, 6)"
      ]
     },
     "execution_count": 45,
     "metadata": {},
     "output_type": "execute_result"
    }
   ],
   "source": [
    "pred.shape"
   ]
  },
  {
   "cell_type": "code",
   "execution_count": 78,
   "metadata": {},
   "outputs": [],
   "source": [
    "def map_preds(pred):\n",
    "    out = []\n",
    "    act_dict = {0:'Downstairs', 1:'Jogging', 2:'Sitting', 3:'Standing', 4:'Upstairs',\n",
    "        5:'Walking'}    \n",
    "    for i in range(pred.shape[0]):\n",
    "        out.append(act_dict[np.argmax(pred[i])])\n",
    "    return out        "
   ]
  },
  {
   "cell_type": "code",
   "execution_count": 16,
   "metadata": {},
   "outputs": [],
   "source": [
    "# map_preds(pred)"
   ]
  },
  {
   "cell_type": "code",
   "execution_count": 21,
   "metadata": {},
   "outputs": [],
   "source": [
    "# map_preds(cnn_model3_ep20.predict(X_test_rs))"
   ]
  },
  {
   "cell_type": "code",
   "execution_count": 40,
   "metadata": {},
   "outputs": [
    {
     "name": "stdout",
     "output_type": "stream",
     "text": [
      "0 b_walk1.csv\n"
     ]
    }
   ],
   "source": [
    "collection_list = ['b_walk1.csv','d_walk1.csv','d_walk2.csv','l_walk1.csv','z_walk1.csv','z_walk1_left.csv','d_jogging1.csv','z_jogging1.csv']\n",
    "for i, act in enumerate(collection_list[0:1]):\n",
    "    print(i,act)"
   ]
  },
  {
   "cell_type": "code",
   "execution_count": 112,
   "metadata": {},
   "outputs": [
    {
     "name": "stdout",
     "output_type": "stream",
     "text": [
      "b_walk1.csv\n",
      "Combine CNN model\n",
      "0.9352941176470588\n",
      "Combine CNN model new\n",
      "0.9764705882352941\n",
      "\n",
      "\n",
      "d_walk1.csv\n",
      "Combine CNN model\n",
      "0.7932816537467701\n",
      "Combine CNN model new\n",
      "0.937984496124031\n",
      "\n",
      "\n",
      "d_walk2.csv\n",
      "Combine CNN model\n",
      "0.9827160493827161\n",
      "Combine CNN model new\n",
      "0.9876543209876543\n",
      "\n",
      "\n",
      "l_walk1.csv\n",
      "Combine CNN model\n",
      "0.7682619647355163\n",
      "Combine CNN model new\n",
      "0.8438287153652393\n",
      "\n",
      "\n",
      "z_walk1.csv\n",
      "Combine CNN model\n",
      "0.6463768115942029\n",
      "Combine CNN model new\n",
      "0.8695652173913043\n",
      "\n",
      "\n",
      "z_walk1_left.csv\n",
      "Combine CNN model\n",
      "0.7365591397849462\n",
      "Combine CNN model new\n",
      "0.9381720430107527\n",
      "\n",
      "\n",
      "d_jogging1.csv\n",
      "Combine CNN model\n",
      "0.0\n",
      "Combine CNN model new\n",
      "0.9983136593591906\n",
      "\n",
      "\n",
      "z_jogging1.csv\n",
      "Combine CNN model\n",
      "0.0\n",
      "Combine CNN model new\n",
      "0.9858044164037855\n",
      "\n",
      "\n"
     ]
    }
   ],
   "source": [
    "collection_list = ['b_walk1.csv','d_walk1.csv','d_walk2.csv','l_walk1.csv','z_walk1.csv','z_walk1_left.csv','d_jogging1.csv','z_jogging1.csv']\n",
    "for i, act in enumerate(collection_list):\n",
    "    if i>=6:\n",
    "        act_name = 'Jogging'\n",
    "    else:\n",
    "        act_name = 'Walking'\n",
    "        \n",
    "    df = read_in_iPhone_data(file=act)\n",
    "    df = robustscale_data(df,['x_axis', 'y_axis', 'z_axis'])\n",
    "    TIME_STEPS = 200\n",
    "    STEP = 40\n",
    "\n",
    "    X_test = create_dataset_X(\n",
    "        df[df.columns[-3:]],\n",
    "        TIME_STEPS,\n",
    "        STEP\n",
    "    )\n",
    "    X_test_rs = np.array(X_test).reshape(X_test.shape[0],X_test.shape[1],X_test.shape[2],1)\n",
    "    print(act)\n",
    "#     print(\"MS lstm model acc:\")\n",
    "#     print(np.mean(np.array(map_preds(model.predict(X_test)))==act_name))\n",
    "#     print(\"Combine lstm model acc:\")\n",
    "#     print(np.mean(np.array(map_preds(model_ep20.predict(X_test)))==act_name))\n",
    "    print(\"Combine CNN model\")\n",
    "    print(np.mean(np.array(map_preds(cnn_model3_ep20.predict(X_test_rs)))==act_name))\n",
    "    print(\"Combine CNN model new\")\n",
    "    print(np.mean(np.array(map_preds(cnn_model_new.predict(X_test_rs)))==act_name))\n",
    "    print(\"\\n\")"
   ]
  },
  {
   "cell_type": "code",
   "execution_count": 90,
   "metadata": {},
   "outputs": [],
   "source": [
    "# define a function to plot the sensor data of a user provided activitiy\n",
    "def plot_activity(df,activity = None,sensor = 0):\n",
    "    sensor_dict = {\n",
    "        0:'attitude',\n",
    "        1:'gravity',\n",
    "        2:'rotationRate',\n",
    "        3:'userAcceleration',\n",
    "        4:'axis' # This is the sum of gravity and userAcceleration\n",
    "    }\n",
    "    if sensor == 4:\n",
    "        x ='x_'+sensor_dict[sensor]\n",
    "        y ='y_'+sensor_dict[sensor]\n",
    "        z ='z_'+sensor_dict[sensor]\n",
    "    elif sensor == 0:\n",
    "        x = sensor_dict[sensor]+'.roll'\n",
    "        y = sensor_dict[sensor]+'.pitch'\n",
    "        z = sensor_dict[sensor]+'.yaw'\n",
    "    else:\n",
    "        x = sensor_dict[sensor]+'.x'\n",
    "        y = sensor_dict[sensor]+'.y'\n",
    "        z = sensor_dict[sensor]+'.z'\n",
    "    if activity == None:\n",
    "        data = df[[x,y,z]][1800:2000]\n",
    "        title = None\n",
    "    else:\n",
    "        data = df[df['activity'] == activity][[x,y,z]][1800:2000]\n",
    "        title = activity\n",
    "    \n",
    "    axis = data.plot(figsize=(8, 6), \n",
    "                     title=activity)\n",
    "    axis.legend(loc='lower left',bbox_to_anchor=(1.0,0.5)) "
   ]
  },
  {
   "cell_type": "code",
   "execution_count": 5,
   "metadata": {},
   "outputs": [
    {
     "name": "stdout",
     "output_type": "stream",
     "text": [
      "weights: 2\n",
      "trainable_weights: 2\n",
      "non_trainable_weights: 0\n"
     ]
    }
   ],
   "source": [
    "layer = keras.layers.Dense(3)\n",
    "layer.build((None, 4))  # Create the weights\n",
    "\n",
    "print(\"weights:\", len(layer.weights))\n",
    "print(\"trainable_weights:\", len(layer.trainable_weights))\n",
    "print(\"non_trainable_weights:\", len(layer.non_trainable_weights))"
   ]
  },
  {
   "cell_type": "code",
   "execution_count": 4,
   "metadata": {},
   "outputs": [
    {
     "name": "stdout",
     "output_type": "stream",
     "text": [
      "weights: 4\n",
      "trainable_weights: 2\n",
      "non_trainable_weights: 2\n"
     ]
    }
   ],
   "source": [
    "layer = keras.layers.BatchNormalization()\n",
    "layer.build((None, 4))  # Create the weights\n",
    "\n",
    "print(\"weights:\", len(layer.weights))\n",
    "print(\"trainable_weights:\", len(layer.trainable_weights))\n",
    "print(\"non_trainable_weights:\", len(layer.non_trainable_weights))\n"
   ]
  },
  {
   "cell_type": "code",
   "execution_count": 79,
   "metadata": {},
   "outputs": [
    {
     "data": {
      "text/plain": [
       "[<tensorflow.python.keras.layers.convolutional.Conv2D at 0x177d419d7c8>,\n",
       " <tensorflow.python.keras.layers.convolutional.Conv2D at 0x177d441ad88>,\n",
       " <tensorflow.python.keras.layers.pooling.MaxPooling2D at 0x177d444a208>,\n",
       " <tensorflow.python.keras.layers.convolutional.Conv2D at 0x177d4456508>,\n",
       " <tensorflow.python.keras.layers.convolutional.Conv2D at 0x177d4456108>,\n",
       " <tensorflow.python.keras.layers.pooling.MaxPooling2D at 0x177d4467148>,\n",
       " <tensorflow.python.keras.layers.convolutional.Conv2D at 0x177d4472c48>,\n",
       " <tensorflow.python.keras.layers.convolutional.Conv2D at 0x177d4485f48>,\n",
       " <tensorflow.python.keras.layers.pooling.MaxPooling2D at 0x177d4485d88>,\n",
       " <tensorflow.python.keras.layers.core.Flatten at 0x177d449ae08>,\n",
       " <tensorflow.python.keras.layers.core.Dense at 0x177d449e048>,\n",
       " <tensorflow.python.keras.layers.core.Dropout at 0x177d44ade88>,\n",
       " <tensorflow.python.keras.layers.core.Dense at 0x177d44b2508>,\n",
       " <tensorflow.python.keras.layers.core.Dropout at 0x177d4495088>]"
      ]
     },
     "execution_count": 79,
     "metadata": {},
     "output_type": "execute_result"
    }
   ],
   "source": [
    "cnn_model3_ep20.layers"
   ]
  },
  {
   "cell_type": "code",
   "execution_count": 22,
   "metadata": {},
   "outputs": [],
   "source": [
    "# cnn_model3_ep20.get_weights()"
   ]
  },
  {
   "cell_type": "code",
   "execution_count": 54,
   "metadata": {},
   "outputs": [],
   "source": [
    "base_model = cnn_model3_ep20"
   ]
  },
  {
   "cell_type": "code",
   "execution_count": 56,
   "metadata": {},
   "outputs": [
    {
     "name": "stdout",
     "output_type": "stream",
     "text": [
      "Model: \"sequential_5\"\n",
      "_________________________________________________________________\n",
      "Layer (type)                 Output Shape              Param #   \n",
      "=================================================================\n",
      "conv2d_14 (Conv2D)           (None, 200, 3, 128)       1280      \n",
      "_________________________________________________________________\n",
      "conv2d_15 (Conv2D)           (None, 200, 3, 64)        73792     \n",
      "_________________________________________________________________\n",
      "max_pooling2d_7 (MaxPooling2 (None, 100, 3, 64)        0         \n",
      "_________________________________________________________________\n",
      "conv2d_16 (Conv2D)           (None, 100, 3, 64)        36928     \n",
      "_________________________________________________________________\n",
      "conv2d_17 (Conv2D)           (None, 100, 3, 32)        18464     \n",
      "_________________________________________________________________\n",
      "max_pooling2d_8 (MaxPooling2 (None, 50, 3, 32)         0         \n",
      "_________________________________________________________________\n",
      "conv2d_18 (Conv2D)           (None, 50, 3, 32)         9248      \n",
      "_________________________________________________________________\n",
      "conv2d_19 (Conv2D)           (None, 50, 3, 16)         4624      \n",
      "_________________________________________________________________\n",
      "max_pooling2d_9 (MaxPooling2 (None, 25, 3, 16)         0         \n",
      "_________________________________________________________________\n",
      "flatten_3 (Flatten)          (None, 1200)              0         \n",
      "_________________________________________________________________\n",
      "dense_13 (Dense)             (None, 64)                76864     \n",
      "_________________________________________________________________\n",
      "dropout_8 (Dropout)          (None, 64)                0         \n",
      "_________________________________________________________________\n",
      "dense_14 (Dense)             (None, 32)                2080      \n",
      "_________________________________________________________________\n",
      "dropout_9 (Dropout)          (None, 32)                0         \n",
      "_________________________________________________________________\n",
      "dense_15 (Dense)             (None, 6)                 198       \n",
      "=================================================================\n",
      "Total params: 223,478\n",
      "Trainable params: 0\n",
      "Non-trainable params: 223,478\n",
      "_________________________________________________________________\n"
     ]
    }
   ],
   "source": [
    "base_model.summary()"
   ]
  },
  {
   "cell_type": "code",
   "execution_count": 67,
   "metadata": {},
   "outputs": [
    {
     "data": {
      "text/plain": [
       "False"
      ]
     },
     "execution_count": 67,
     "metadata": {},
     "output_type": "execute_result"
    }
   ],
   "source": [
    "base_model.trainable"
   ]
  },
  {
   "cell_type": "code",
   "execution_count": 82,
   "metadata": {},
   "outputs": [
    {
     "name": "stdout",
     "output_type": "stream",
     "text": [
      "Model: \"sequential_5\"\n",
      "_________________________________________________________________\n",
      "Layer (type)                 Output Shape              Param #   \n",
      "=================================================================\n",
      "conv2d_14 (Conv2D)           (None, 200, 3, 128)       1280      \n",
      "_________________________________________________________________\n",
      "conv2d_15 (Conv2D)           (None, 200, 3, 64)        73792     \n",
      "_________________________________________________________________\n",
      "max_pooling2d_7 (MaxPooling2 (None, 100, 3, 64)        0         \n",
      "_________________________________________________________________\n",
      "conv2d_16 (Conv2D)           (None, 100, 3, 64)        36928     \n",
      "_________________________________________________________________\n",
      "conv2d_17 (Conv2D)           (None, 100, 3, 32)        18464     \n",
      "_________________________________________________________________\n",
      "max_pooling2d_8 (MaxPooling2 (None, 50, 3, 32)         0         \n",
      "_________________________________________________________________\n",
      "conv2d_18 (Conv2D)           (None, 50, 3, 32)         9248      \n",
      "_________________________________________________________________\n",
      "conv2d_19 (Conv2D)           (None, 50, 3, 16)         4624      \n",
      "_________________________________________________________________\n",
      "max_pooling2d_9 (MaxPooling2 (None, 25, 3, 16)         0         \n",
      "_________________________________________________________________\n",
      "flatten_3 (Flatten)          (None, 1200)              0         \n",
      "_________________________________________________________________\n",
      "dense_13 (Dense)             (None, 64)                76864     \n",
      "_________________________________________________________________\n",
      "dropout_8 (Dropout)          (None, 64)                0         \n",
      "_________________________________________________________________\n",
      "dense_14 (Dense)             (None, 32)                2080      \n",
      "_________________________________________________________________\n",
      "dropout_9 (Dropout)          (None, 32)                0         \n",
      "=================================================================\n",
      "Total params: 223,280\n",
      "Trainable params: 0\n",
      "Non-trainable params: 223,280\n",
      "_________________________________________________________________\n"
     ]
    }
   ],
   "source": [
    "base_model.summary()"
   ]
  },
  {
   "cell_type": "code",
   "execution_count": 68,
   "metadata": {},
   "outputs": [
    {
     "data": {
      "text/plain": [
       "False"
      ]
     },
     "execution_count": 68,
     "metadata": {},
     "output_type": "execute_result"
    }
   ],
   "source": [
    "cnn_model3_ep20.trainable"
   ]
  },
  {
   "cell_type": "code",
   "execution_count": 84,
   "metadata": {},
   "outputs": [],
   "source": [
    "# collection_list = ['b_walk1.csv','d_walk1.csv','d_walk2.csv','l_walk1.csv','z_walk1.csv','z_walk1_left.csv','d_jogging1.csv','z_jogging1.csv']\n",
    "# for i, act in enumerate(collection_list):\n",
    "#     if i>=6:\n",
    "#         act_name = 'Jogging'\n",
    "#     else:\n",
    "#         act_name = 'Walking'\n",
    "        \n",
    "df = read_in_iPhone_data(file='z_walk1.csv')\n",
    "df = robustscale_data(df,['x_axis', 'y_axis', 'z_axis'])\n",
    "TIME_STEPS = 200\n",
    "STEP = 40\n",
    "\n",
    "X_add = create_dataset_X(\n",
    "        df[df.columns[-3:]],\n",
    "        TIME_STEPS,\n",
    "        STEP\n",
    "    )\n",
    "X_add_rs = np.array(X_add).reshape(X_add.shape[0],X_add.shape[1],X_add.shape[2],1)"
   ]
  },
  {
   "cell_type": "code",
   "execution_count": 87,
   "metadata": {},
   "outputs": [
    {
     "data": {
      "text/plain": [
       "(280, 200, 3, 1)"
      ]
     },
     "execution_count": 87,
     "metadata": {},
     "output_type": "execute_result"
    }
   ],
   "source": [
    "X_add_rs_train = X_add_rs[0:280]\n",
    "X_add_rs_train.shape"
   ]
  },
  {
   "cell_type": "code",
   "execution_count": null,
   "metadata": {},
   "outputs": [],
   "source": [
    "an_array = np.array([1,2,3])\n",
    "repetitions = 3\n",
    "\n",
    "repeats_array = np.tile(an_array, (repetitions, 1))"
   ]
  },
  {
   "cell_type": "code",
   "execution_count": null,
   "metadata": {},
   "outputs": [],
   "source": [
    "y_add_train = np.tile(np.array([0,0,0,0,0,1]),(280,1))"
   ]
  },
  {
   "cell_type": "code",
   "execution_count": 91,
   "metadata": {},
   "outputs": [
    {
     "data": {
      "text/plain": [
       "array([[0, 0, 0, 0, 0, 1],\n",
       "       [0, 0, 0, 0, 0, 1],\n",
       "       [0, 0, 0, 0, 0, 1],\n",
       "       ...,\n",
       "       [0, 0, 0, 0, 0, 1],\n",
       "       [0, 0, 0, 0, 0, 1],\n",
       "       [0, 0, 0, 0, 0, 1]])"
      ]
     },
     "execution_count": 91,
     "metadata": {},
     "output_type": "execute_result"
    }
   ],
   "source": [
    "y_add_train"
   ]
  },
  {
   "cell_type": "code",
   "execution_count": 100,
   "metadata": {},
   "outputs": [],
   "source": [
    "df = read_in_iPhone_data(file='z_jogging1.csv')\n",
    "df = robustscale_data(df,['x_axis', 'y_axis', 'z_axis'])\n",
    "TIME_STEPS = 200\n",
    "STEP = 40\n",
    "\n",
    "X_add2 = create_dataset_X(\n",
    "        df[df.columns[-3:]],\n",
    "        TIME_STEPS,\n",
    "        STEP\n",
    "    )\n",
    "X_add2_rs = np.array(X_add2).reshape(X_add2.shape[0],X_add2.shape[1],X_add2.shape[2],1)"
   ]
  },
  {
   "cell_type": "code",
   "execution_count": 103,
   "metadata": {},
   "outputs": [
    {
     "data": {
      "text/plain": [
       "(634, 200, 3, 1)"
      ]
     },
     "execution_count": 103,
     "metadata": {},
     "output_type": "execute_result"
    }
   ],
   "source": [
    "X_add2_rs.shape"
   ]
  },
  {
   "cell_type": "code",
   "execution_count": 105,
   "metadata": {},
   "outputs": [
    {
     "data": {
      "text/plain": [
       "(480, 200, 3, 1)"
      ]
     },
     "execution_count": 105,
     "metadata": {},
     "output_type": "execute_result"
    }
   ],
   "source": [
    "X_add2_rs_train = X_add2_rs[0:480]\n",
    "X_add2_rs_train.shape"
   ]
  },
  {
   "cell_type": "code",
   "execution_count": 106,
   "metadata": {},
   "outputs": [],
   "source": [
    "y_add2_train = np.tile(np.array([0,1,0,0,0,0]),(480,1))"
   ]
  },
  {
   "cell_type": "code",
   "execution_count": 107,
   "metadata": {},
   "outputs": [
    {
     "name": "stdout",
     "output_type": "stream",
     "text": [
      "(760, 200, 3, 1) (760, 6)\n"
     ]
    }
   ],
   "source": [
    "X_add_cb = np.concatenate((X_add_rs_train,X_add2_rs_train),axis = 0 )\n",
    "y_add_cb = np.concatenate((y_add_train,y_add2_train),axis = 0 )\n",
    "print(X_add_cb.shape,y_add_cb.shape)"
   ]
  },
  {
   "cell_type": "code",
   "execution_count": null,
   "metadata": {},
   "outputs": [],
   "source": []
  },
  {
   "cell_type": "code",
   "execution_count": null,
   "metadata": {},
   "outputs": [],
   "source": []
  },
  {
   "cell_type": "code",
   "execution_count": 110,
   "metadata": {},
   "outputs": [],
   "source": [
    "cnn_model_new = Sequential()\n",
    "cnn_model_new.add(base_model)\n",
    "# Add a densely-connected layer with 32 neurons.\n",
    "cnn_model_new.add(Dense(16, activation='relu'))\n",
    "\n",
    "# Let's try to avoid overfitting!\n",
    "cnn_model_new.add(Dropout(0.4))\n",
    "\n",
    "# Add a final layer with 10 neurons.\n",
    "cnn_model_new.add(Dense(6, activation='softmax'))\n",
    "\n",
    "# Compile model\n",
    "cnn_model_new.compile(loss='categorical_crossentropy',\n",
    "                    optimizer='adam',\n",
    "                    metrics=['accuracy'])"
   ]
  },
  {
   "cell_type": "code",
   "execution_count": 111,
   "metadata": {},
   "outputs": [
    {
     "name": "stdout",
     "output_type": "stream",
     "text": [
      "Epoch 1/10\n",
      "19/19 [==============================] - 1s 40ms/step - loss: 6.8435 - accuracy: 0.2697 - val_loss: 7.2484 - val_accuracy: 0.0000e+00\n",
      "Epoch 2/10\n",
      "19/19 [==============================] - 1s 35ms/step - loss: 5.3398 - accuracy: 0.3783 - val_loss: 4.8398 - val_accuracy: 0.0197\n",
      "Epoch 3/10\n",
      "19/19 [==============================] - 1s 34ms/step - loss: 3.9101 - accuracy: 0.4539 - val_loss: 2.7492 - val_accuracy: 0.2500\n",
      "Epoch 4/10\n",
      "19/19 [==============================] - 1s 34ms/step - loss: 2.8721 - accuracy: 0.4984 - val_loss: 1.4437 - val_accuracy: 0.3684\n",
      "Epoch 5/10\n",
      "19/19 [==============================] - 1s 34ms/step - loss: 2.4697 - accuracy: 0.5724 - val_loss: 0.7623 - val_accuracy: 0.5789\n",
      "Epoch 6/10\n",
      "19/19 [==============================] - 1s 35ms/step - loss: 1.6226 - accuracy: 0.6332 - val_loss: 0.3841 - val_accuracy: 0.8092\n",
      "Epoch 7/10\n",
      "19/19 [==============================] - 1s 35ms/step - loss: 1.5248 - accuracy: 0.6513 - val_loss: 0.1883 - val_accuracy: 0.9803\n",
      "Epoch 8/10\n",
      "19/19 [==============================] - 1s 35ms/step - loss: 1.3751 - accuracy: 0.6957 - val_loss: 0.0884 - val_accuracy: 0.9934\n",
      "Epoch 9/10\n",
      "19/19 [==============================] - 1s 35ms/step - loss: 1.2249 - accuracy: 0.7467 - val_loss: 0.0670 - val_accuracy: 1.0000\n",
      "Epoch 10/10\n",
      "19/19 [==============================] - 1s 38ms/step - loss: 1.0174 - accuracy: 0.7467 - val_loss: 0.0577 - val_accuracy: 1.0000\n"
     ]
    }
   ],
   "source": [
    "# Fit model on training data\n",
    "history = cnn_model_new.fit(X_add_cb,\n",
    "                          y_add_cb,\n",
    "                          batch_size=32,\n",
    "                          validation_split=0.2,\n",
    "                          epochs=10,\n",
    "                          verbose=1)"
   ]
  },
  {
   "cell_type": "code",
   "execution_count": 113,
   "metadata": {},
   "outputs": [],
   "source": [
    "cnn_model_new.save('./02_models/0930_cnn_add_collect.h5')"
   ]
  },
  {
   "cell_type": "code",
   "execution_count": 120,
   "metadata": {},
   "outputs": [
    {
     "name": "stdout",
     "output_type": "stream",
     "text": [
      "Model: \"sequential_5\"\n",
      "_________________________________________________________________\n",
      "Layer (type)                 Output Shape              Param #   \n",
      "=================================================================\n",
      "conv2d_14 (Conv2D)           (None, 200, 3, 128)       1280      \n",
      "_________________________________________________________________\n",
      "conv2d_15 (Conv2D)           (None, 200, 3, 64)        73792     \n",
      "_________________________________________________________________\n",
      "max_pooling2d_7 (MaxPooling2 (None, 100, 3, 64)        0         \n",
      "_________________________________________________________________\n",
      "conv2d_16 (Conv2D)           (None, 100, 3, 64)        36928     \n",
      "_________________________________________________________________\n",
      "conv2d_17 (Conv2D)           (None, 100, 3, 32)        18464     \n",
      "_________________________________________________________________\n",
      "max_pooling2d_8 (MaxPooling2 (None, 50, 3, 32)         0         \n",
      "_________________________________________________________________\n",
      "conv2d_18 (Conv2D)           (None, 50, 3, 32)         9248      \n",
      "_________________________________________________________________\n",
      "conv2d_19 (Conv2D)           (None, 50, 3, 16)         4624      \n",
      "_________________________________________________________________\n",
      "max_pooling2d_9 (MaxPooling2 (None, 25, 3, 16)         0         \n",
      "_________________________________________________________________\n",
      "flatten_3 (Flatten)          (None, 1200)              0         \n",
      "_________________________________________________________________\n",
      "dense_13 (Dense)             (None, 64)                76864     \n",
      "_________________________________________________________________\n",
      "dropout_8 (Dropout)          (None, 64)                0         \n",
      "_________________________________________________________________\n",
      "dense_14 (Dense)             (None, 32)                2080      \n",
      "_________________________________________________________________\n",
      "dropout_9 (Dropout)          (None, 32)                0         \n",
      "_________________________________________________________________\n",
      "dense_15 (Dense)             (None, 6)                 198       \n",
      "=================================================================\n",
      "Total params: 223,478\n",
      "Trainable params: 223,478\n",
      "Non-trainable params: 0\n",
      "_________________________________________________________________\n"
     ]
    }
   ],
   "source": [
    "cnn_model3_ep20.summary()"
   ]
  },
  {
   "cell_type": "code",
   "execution_count": 96,
   "metadata": {},
   "outputs": [
    {
     "name": "stdout",
     "output_type": "stream",
     "text": [
      "Model: \"sequential_2\"\n",
      "_________________________________________________________________\n",
      "Layer (type)                 Output Shape              Param #   \n",
      "=================================================================\n",
      "sequential_5 (Sequential)    (None, 32)                223280    \n",
      "_________________________________________________________________\n",
      "dense_4 (Dense)              (None, 16)                528       \n",
      "_________________________________________________________________\n",
      "dropout_1 (Dropout)          (None, 16)                0         \n",
      "_________________________________________________________________\n",
      "dense_5 (Dense)              (None, 6)                 102       \n",
      "=================================================================\n",
      "Total params: 223,910\n",
      "Trainable params: 630\n",
      "Non-trainable params: 223,280\n",
      "_________________________________________________________________\n"
     ]
    }
   ],
   "source": [
    "cnn_model_new.summary()"
   ]
  },
  {
   "cell_type": "code",
   "execution_count": 119,
   "metadata": {},
   "outputs": [],
   "source": [
    "# cnn_model_new.weights"
   ]
  },
  {
   "cell_type": "code",
   "execution_count": null,
   "metadata": {},
   "outputs": [],
   "source": []
  },
  {
   "cell_type": "code",
   "execution_count": null,
   "metadata": {},
   "outputs": [],
   "source": []
  }
 ],
 "metadata": {
  "kernelspec": {
   "display_name": "Python [conda env:dsi] *",
   "language": "python",
   "name": "conda-env-dsi-py"
  },
  "language_info": {
   "codemirror_mode": {
    "name": "ipython",
    "version": 3
   },
   "file_extension": ".py",
   "mimetype": "text/x-python",
   "name": "python",
   "nbconvert_exporter": "python",
   "pygments_lexer": "ipython3",
   "version": "3.7.7"
  }
 },
 "nbformat": 4,
 "nbformat_minor": 4
}
